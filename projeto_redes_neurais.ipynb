{
 "cells": [
  {
   "cell_type": "markdown",
   "metadata": {},
   "source": [
    "# Redes Neurais - Projeto de Análise de Crédito"
   ]
  },
  {
   "cell_type": "markdown",
   "metadata": {},
   "source": [
    "Alunos: Jonathan Kilner, Luiz Antônio e Matheus Leon"
   ]
  },
  {
   "cell_type": "code",
   "execution_count": 1,
   "metadata": {},
   "outputs": [
    {
     "name": "stdout",
     "output_type": "stream",
     "text": [
      "Requirement already satisfied: optuna in c:\\users\\jonat\\anaconda3\\lib\\site-packages (3.0.2)\n",
      "Requirement already satisfied: numpy in c:\\users\\jonat\\anaconda3\\lib\\site-packages (from optuna) (1.21.5)\n",
      "Requirement already satisfied: cliff in c:\\users\\jonat\\anaconda3\\lib\\site-packages (from optuna) (4.0.0)\n",
      "Requirement already satisfied: sqlalchemy>=1.3.0 in c:\\users\\jonat\\anaconda3\\lib\\site-packages (from optuna) (1.4.32)\n",
      "Requirement already satisfied: colorlog in c:\\users\\jonat\\anaconda3\\lib\\site-packages (from optuna) (6.7.0)\n",
      "Requirement already satisfied: tqdm in c:\\users\\jonat\\anaconda3\\lib\\site-packages (from optuna) (4.64.0)\n",
      "Requirement already satisfied: packaging>=20.0 in c:\\users\\jonat\\anaconda3\\lib\\site-packages (from optuna) (21.3)\n",
      "Requirement already satisfied: PyYAML in c:\\users\\jonat\\anaconda3\\lib\\site-packages (from optuna) (6.0)\n",
      "Requirement already satisfied: alembic>=1.5.0 in c:\\users\\jonat\\anaconda3\\lib\\site-packages (from optuna) (1.8.1)\n",
      "Requirement already satisfied: cmaes>=0.8.2 in c:\\users\\jonat\\anaconda3\\lib\\site-packages (from optuna) (0.8.2)\n",
      "Requirement already satisfied: scipy<1.9.0,>=1.7.0 in c:\\users\\jonat\\anaconda3\\lib\\site-packages (from optuna) (1.7.3)\n",
      "Requirement already satisfied: Mako in c:\\users\\jonat\\anaconda3\\lib\\site-packages (from alembic>=1.5.0->optuna) (1.2.2)\n",
      "Requirement already satisfied: pyparsing!=3.0.5,>=2.0.2 in c:\\users\\jonat\\anaconda3\\lib\\site-packages (from packaging>=20.0->optuna) (3.0.4)\n",
      "Requirement already satisfied: greenlet!=0.4.17 in c:\\users\\jonat\\anaconda3\\lib\\site-packages (from sqlalchemy>=1.3.0->optuna) (1.1.1)\n",
      "Requirement already satisfied: cmd2>=1.0.0 in c:\\users\\jonat\\anaconda3\\lib\\site-packages (from cliff->optuna) (2.4.2)\n",
      "Requirement already satisfied: stevedore>=2.0.1 in c:\\users\\jonat\\anaconda3\\lib\\site-packages (from cliff->optuna) (4.0.0)\n",
      "Requirement already satisfied: PrettyTable>=0.7.2 in c:\\users\\jonat\\anaconda3\\lib\\site-packages (from cliff->optuna) (3.4.1)\n",
      "Requirement already satisfied: autopage>=0.4.0 in c:\\users\\jonat\\anaconda3\\lib\\site-packages (from cliff->optuna) (0.5.1)\n",
      "Requirement already satisfied: importlib-metadata>=4.4 in c:\\users\\jonat\\anaconda3\\lib\\site-packages (from cliff->optuna) (4.11.3)\n",
      "Requirement already satisfied: pyreadline3 in c:\\users\\jonat\\anaconda3\\lib\\site-packages (from cmd2>=1.0.0->cliff->optuna) (3.4.1)\n",
      "Requirement already satisfied: wcwidth>=0.1.7 in c:\\users\\jonat\\anaconda3\\lib\\site-packages (from cmd2>=1.0.0->cliff->optuna) (0.2.5)\n",
      "Requirement already satisfied: pyperclip>=1.6 in c:\\users\\jonat\\anaconda3\\lib\\site-packages (from cmd2>=1.0.0->cliff->optuna) (1.8.2)\n",
      "Requirement already satisfied: attrs>=16.3.0 in c:\\users\\jonat\\anaconda3\\lib\\site-packages (from cmd2>=1.0.0->cliff->optuna) (21.4.0)\n",
      "Requirement already satisfied: zipp>=0.5 in c:\\users\\jonat\\anaconda3\\lib\\site-packages (from importlib-metadata>=4.4->cliff->optuna) (3.7.0)\n",
      "Requirement already satisfied: pbr!=2.1.0,>=2.0.0 in c:\\users\\jonat\\anaconda3\\lib\\site-packages (from stevedore>=2.0.1->cliff->optuna) (5.10.0)\n",
      "Requirement already satisfied: colorama in c:\\users\\jonat\\anaconda3\\lib\\site-packages (from colorlog->optuna) (0.4.4)\n",
      "Requirement already satisfied: MarkupSafe>=0.9.2 in c:\\users\\jonat\\anaconda3\\lib\\site-packages (from Mako->alembic>=1.5.0->optuna) (2.0.1)\n",
      "Note: you may need to restart the kernel to use updated packages.\n",
      "Requirement already satisfied: imbalanced-learn in c:\\users\\jonat\\anaconda3\\lib\\site-packages (0.9.1)\n",
      "Requirement already satisfied: numpy>=1.17.3 in c:\\users\\jonat\\anaconda3\\lib\\site-packages (from imbalanced-learn) (1.21.5)\n",
      "Requirement already satisfied: joblib>=1.0.0 in c:\\users\\jonat\\anaconda3\\lib\\site-packages (from imbalanced-learn) (1.1.0)\n",
      "Requirement already satisfied: scikit-learn>=1.1.0 in c:\\users\\jonat\\anaconda3\\lib\\site-packages (from imbalanced-learn) (1.1.2)\n",
      "Requirement already satisfied: threadpoolctl>=2.0.0 in c:\\users\\jonat\\anaconda3\\lib\\site-packages (from imbalanced-learn) (2.2.0)\n",
      "Requirement already satisfied: scipy>=1.3.2 in c:\\users\\jonat\\anaconda3\\lib\\site-packages (from imbalanced-learn) (1.7.3)\n",
      "Note: you may need to restart the kernel to use updated packages.\n",
      "Requirement already satisfied: xgboost in c:\\users\\jonat\\anaconda3\\lib\\site-packages (1.6.2)\n",
      "Requirement already satisfied: numpy in c:\\users\\jonat\\anaconda3\\lib\\site-packages (from xgboost) (1.21.5)\n",
      "Requirement already satisfied: scipy in c:\\users\\jonat\\anaconda3\\lib\\site-packages (from xgboost) (1.7.3)\n",
      "Note: you may need to restart the kernel to use updated packages.\n",
      "Requirement already satisfied: scikit-plot in c:\\users\\jonat\\anaconda3\\lib\\site-packages (0.3.7)\n",
      "Requirement already satisfied: matplotlib>=1.4.0 in c:\\users\\jonat\\anaconda3\\lib\\site-packages (from scikit-plot) (3.5.1)\n",
      "Requirement already satisfied: scipy>=0.9 in c:\\users\\jonat\\anaconda3\\lib\\site-packages (from scikit-plot) (1.7.3)\n",
      "Requirement already satisfied: scikit-learn>=0.18 in c:\\users\\jonat\\anaconda3\\lib\\site-packages (from scikit-plot) (1.1.2)\n",
      "Requirement already satisfied: joblib>=0.10 in c:\\users\\jonat\\anaconda3\\lib\\site-packages (from scikit-plot) (1.1.0)\n",
      "Requirement already satisfied: cycler>=0.10 in c:\\users\\jonat\\anaconda3\\lib\\site-packages (from matplotlib>=1.4.0->scikit-plot) (0.11.0)\n",
      "Requirement already satisfied: fonttools>=4.22.0 in c:\\users\\jonat\\anaconda3\\lib\\site-packages (from matplotlib>=1.4.0->scikit-plot) (4.25.0)\n",
      "Requirement already satisfied: pillow>=6.2.0 in c:\\users\\jonat\\anaconda3\\lib\\site-packages (from matplotlib>=1.4.0->scikit-plot) (9.0.1)\n",
      "Requirement already satisfied: python-dateutil>=2.7 in c:\\users\\jonat\\anaconda3\\lib\\site-packages (from matplotlib>=1.4.0->scikit-plot) (2.8.2)\n",
      "Requirement already satisfied: packaging>=20.0 in c:\\users\\jonat\\anaconda3\\lib\\site-packages (from matplotlib>=1.4.0->scikit-plot) (21.3)\n",
      "Requirement already satisfied: kiwisolver>=1.0.1 in c:\\users\\jonat\\anaconda3\\lib\\site-packages (from matplotlib>=1.4.0->scikit-plot) (1.3.2)\n",
      "Requirement already satisfied: numpy>=1.17 in c:\\users\\jonat\\anaconda3\\lib\\site-packages (from matplotlib>=1.4.0->scikit-plot) (1.21.5)\n",
      "Requirement already satisfied: pyparsing>=2.2.1 in c:\\users\\jonat\\anaconda3\\lib\\site-packages (from matplotlib>=1.4.0->scikit-plot) (3.0.4)\n",
      "Requirement already satisfied: six>=1.5 in c:\\users\\jonat\\anaconda3\\lib\\site-packages (from python-dateutil>=2.7->matplotlib>=1.4.0->scikit-plot) (1.16.0)\n",
      "Requirement already satisfied: threadpoolctl>=2.0.0 in c:\\users\\jonat\\anaconda3\\lib\\site-packages (from scikit-learn>=0.18->scikit-plot) (2.2.0)\n",
      "Note: you may need to restart the kernel to use updated packages.\n"
     ]
    }
   ],
   "source": [
    "%pip install optuna\n",
    "%pip install imbalanced-learn\n",
    "%pip install xgboost\n",
    "%pip install scikit-plot"
   ]
  },
  {
   "cell_type": "code",
   "execution_count": 2,
   "metadata": {},
   "outputs": [],
   "source": [
    "import numpy as np\n",
    "import pandas as pd\n",
    "import optuna\n",
    "import gc\n",
    "import imblearn\n",
    "import xgboost as xgb\n",
    "import scikitplot as skplt"
   ]
  },
  {
   "cell_type": "markdown",
   "metadata": {
    "id": "d9QOb3wEDGFy"
   },
   "source": [
    "# Leitura dos dados"
   ]
  },
  {
   "cell_type": "code",
   "execution_count": 3,
   "metadata": {
    "id": "3YBq-Nu4KfNo"
   },
   "outputs": [],
   "source": [
    "data_path = './TRNcod.xls'"
   ]
  },
  {
   "cell_type": "code",
   "execution_count": 4,
   "metadata": {
    "id": "mTti3fRBrMx5"
   },
   "outputs": [],
   "source": [
    "df = pd.read_csv(data_path, sep='\\t', encoding='utf-8')"
   ]
  },
  {
   "cell_type": "code",
   "execution_count": 5,
   "metadata": {
    "colab": {
     "base_uri": "https://localhost:8080/",
     "height": 270
    },
    "id": "34DWy_XWrl4W",
    "outputId": "1b8a7a61-84ce-44ea-b449-885b664484a7"
   },
   "outputs": [
    {
     "data": {
      "text/html": [
       "<div>\n",
       "<style scoped>\n",
       "    .dataframe tbody tr th:only-of-type {\n",
       "        vertical-align: middle;\n",
       "    }\n",
       "\n",
       "    .dataframe tbody tr th {\n",
       "        vertical-align: top;\n",
       "    }\n",
       "\n",
       "    .dataframe thead th {\n",
       "        text-align: right;\n",
       "    }\n",
       "</style>\n",
       "<table border=\"1\" class=\"dataframe\">\n",
       "  <thead>\n",
       "    <tr style=\"text-align: right;\">\n",
       "      <th></th>\n",
       "      <th>INDEX</th>\n",
       "      <th>UF_1</th>\n",
       "      <th>UF_2</th>\n",
       "      <th>UF_3</th>\n",
       "      <th>UF_4</th>\n",
       "      <th>UF_5</th>\n",
       "      <th>UF_6</th>\n",
       "      <th>UF_7</th>\n",
       "      <th>IDADE</th>\n",
       "      <th>SEXO_1</th>\n",
       "      <th>...</th>\n",
       "      <th>CEP4_7</th>\n",
       "      <th>CEP4_8</th>\n",
       "      <th>CEP4_9</th>\n",
       "      <th>CEP4_10</th>\n",
       "      <th>CEP4_11</th>\n",
       "      <th>CEP4_12</th>\n",
       "      <th>CEP4_13</th>\n",
       "      <th>CEP4_14</th>\n",
       "      <th>IND_BOM_1_1</th>\n",
       "      <th>IND_BOM_1_2</th>\n",
       "    </tr>\n",
       "  </thead>\n",
       "  <tbody>\n",
       "    <tr>\n",
       "      <th>0</th>\n",
       "      <td>0</td>\n",
       "      <td>1</td>\n",
       "      <td>1</td>\n",
       "      <td>1</td>\n",
       "      <td>0</td>\n",
       "      <td>0</td>\n",
       "      <td>0</td>\n",
       "      <td>0</td>\n",
       "      <td>0.135098</td>\n",
       "      <td>1</td>\n",
       "      <td>...</td>\n",
       "      <td>0</td>\n",
       "      <td>0</td>\n",
       "      <td>1</td>\n",
       "      <td>1</td>\n",
       "      <td>0</td>\n",
       "      <td>1</td>\n",
       "      <td>1</td>\n",
       "      <td>1</td>\n",
       "      <td>0</td>\n",
       "      <td>1</td>\n",
       "    </tr>\n",
       "    <tr>\n",
       "      <th>1</th>\n",
       "      <td>1</td>\n",
       "      <td>1</td>\n",
       "      <td>0</td>\n",
       "      <td>1</td>\n",
       "      <td>0</td>\n",
       "      <td>0</td>\n",
       "      <td>1</td>\n",
       "      <td>0</td>\n",
       "      <td>0.273504</td>\n",
       "      <td>1</td>\n",
       "      <td>...</td>\n",
       "      <td>0</td>\n",
       "      <td>1</td>\n",
       "      <td>0</td>\n",
       "      <td>1</td>\n",
       "      <td>1</td>\n",
       "      <td>0</td>\n",
       "      <td>0</td>\n",
       "      <td>0</td>\n",
       "      <td>1</td>\n",
       "      <td>0</td>\n",
       "    </tr>\n",
       "    <tr>\n",
       "      <th>2</th>\n",
       "      <td>2</td>\n",
       "      <td>1</td>\n",
       "      <td>0</td>\n",
       "      <td>1</td>\n",
       "      <td>0</td>\n",
       "      <td>0</td>\n",
       "      <td>1</td>\n",
       "      <td>0</td>\n",
       "      <td>0.281910</td>\n",
       "      <td>0</td>\n",
       "      <td>...</td>\n",
       "      <td>1</td>\n",
       "      <td>1</td>\n",
       "      <td>0</td>\n",
       "      <td>0</td>\n",
       "      <td>0</td>\n",
       "      <td>0</td>\n",
       "      <td>1</td>\n",
       "      <td>0</td>\n",
       "      <td>1</td>\n",
       "      <td>0</td>\n",
       "    </tr>\n",
       "    <tr>\n",
       "      <th>3</th>\n",
       "      <td>3</td>\n",
       "      <td>1</td>\n",
       "      <td>1</td>\n",
       "      <td>1</td>\n",
       "      <td>0</td>\n",
       "      <td>0</td>\n",
       "      <td>0</td>\n",
       "      <td>0</td>\n",
       "      <td>0.225741</td>\n",
       "      <td>0</td>\n",
       "      <td>...</td>\n",
       "      <td>1</td>\n",
       "      <td>1</td>\n",
       "      <td>0</td>\n",
       "      <td>1</td>\n",
       "      <td>1</td>\n",
       "      <td>0</td>\n",
       "      <td>1</td>\n",
       "      <td>0</td>\n",
       "      <td>1</td>\n",
       "      <td>0</td>\n",
       "    </tr>\n",
       "    <tr>\n",
       "      <th>4</th>\n",
       "      <td>4</td>\n",
       "      <td>1</td>\n",
       "      <td>1</td>\n",
       "      <td>0</td>\n",
       "      <td>0</td>\n",
       "      <td>0</td>\n",
       "      <td>1</td>\n",
       "      <td>0</td>\n",
       "      <td>0.480403</td>\n",
       "      <td>0</td>\n",
       "      <td>...</td>\n",
       "      <td>1</td>\n",
       "      <td>1</td>\n",
       "      <td>1</td>\n",
       "      <td>0</td>\n",
       "      <td>0</td>\n",
       "      <td>1</td>\n",
       "      <td>0</td>\n",
       "      <td>1</td>\n",
       "      <td>1</td>\n",
       "      <td>0</td>\n",
       "    </tr>\n",
       "  </tbody>\n",
       "</table>\n",
       "<p>5 rows × 246 columns</p>\n",
       "</div>"
      ],
      "text/plain": [
       "   INDEX  UF_1  UF_2  UF_3  UF_4  UF_5  UF_6  UF_7     IDADE  SEXO_1  ...  \\\n",
       "0      0     1     1     1     0     0     0     0  0.135098       1  ...   \n",
       "1      1     1     0     1     0     0     1     0  0.273504       1  ...   \n",
       "2      2     1     0     1     0     0     1     0  0.281910       0  ...   \n",
       "3      3     1     1     1     0     0     0     0  0.225741       0  ...   \n",
       "4      4     1     1     0     0     0     1     0  0.480403       0  ...   \n",
       "\n",
       "   CEP4_7  CEP4_8  CEP4_9  CEP4_10  CEP4_11  CEP4_12  CEP4_13  CEP4_14  \\\n",
       "0       0       0       1        1        0        1        1        1   \n",
       "1       0       1       0        1        1        0        0        0   \n",
       "2       1       1       0        0        0        0        1        0   \n",
       "3       1       1       0        1        1        0        1        0   \n",
       "4       1       1       1        0        0        1        0        1   \n",
       "\n",
       "   IND_BOM_1_1  IND_BOM_1_2  \n",
       "0            0            1  \n",
       "1            1            0  \n",
       "2            1            0  \n",
       "3            1            0  \n",
       "4            1            0  \n",
       "\n",
       "[5 rows x 246 columns]"
      ]
     },
     "execution_count": 5,
     "metadata": {},
     "output_type": "execute_result"
    }
   ],
   "source": [
    "df.head()"
   ]
  },
  {
   "cell_type": "code",
   "execution_count": 6,
   "metadata": {},
   "outputs": [
    {
     "data": {
      "text/html": [
       "<div>\n",
       "<style scoped>\n",
       "    .dataframe tbody tr th:only-of-type {\n",
       "        vertical-align: middle;\n",
       "    }\n",
       "\n",
       "    .dataframe tbody tr th {\n",
       "        vertical-align: top;\n",
       "    }\n",
       "\n",
       "    .dataframe thead th {\n",
       "        text-align: right;\n",
       "    }\n",
       "</style>\n",
       "<table border=\"1\" class=\"dataframe\">\n",
       "  <thead>\n",
       "    <tr style=\"text-align: right;\">\n",
       "      <th></th>\n",
       "      <th>INDEX</th>\n",
       "      <th>UF_1</th>\n",
       "      <th>UF_2</th>\n",
       "      <th>UF_3</th>\n",
       "      <th>UF_4</th>\n",
       "      <th>UF_5</th>\n",
       "      <th>UF_6</th>\n",
       "      <th>UF_7</th>\n",
       "      <th>IDADE</th>\n",
       "      <th>SEXO_1</th>\n",
       "      <th>...</th>\n",
       "      <th>CEP4_7</th>\n",
       "      <th>CEP4_8</th>\n",
       "      <th>CEP4_9</th>\n",
       "      <th>CEP4_10</th>\n",
       "      <th>CEP4_11</th>\n",
       "      <th>CEP4_12</th>\n",
       "      <th>CEP4_13</th>\n",
       "      <th>CEP4_14</th>\n",
       "      <th>IND_BOM_1_1</th>\n",
       "      <th>IND_BOM_1_2</th>\n",
       "    </tr>\n",
       "  </thead>\n",
       "  <tbody>\n",
       "    <tr>\n",
       "      <th>count</th>\n",
       "      <td>389196.00000</td>\n",
       "      <td>389196.000000</td>\n",
       "      <td>389196.000000</td>\n",
       "      <td>389196.000000</td>\n",
       "      <td>389196.000000</td>\n",
       "      <td>389196.000000</td>\n",
       "      <td>389196.000000</td>\n",
       "      <td>389196.000000</td>\n",
       "      <td>3.891960e+05</td>\n",
       "      <td>389196.000000</td>\n",
       "      <td>...</td>\n",
       "      <td>389196.000000</td>\n",
       "      <td>389196.000000</td>\n",
       "      <td>389196.000000</td>\n",
       "      <td>389196.000000</td>\n",
       "      <td>389196.000000</td>\n",
       "      <td>389196.000000</td>\n",
       "      <td>389196.000000</td>\n",
       "      <td>389196.000000</td>\n",
       "      <td>389196.000000</td>\n",
       "      <td>389196.000000</td>\n",
       "    </tr>\n",
       "    <tr>\n",
       "      <th>mean</th>\n",
       "      <td>194597.50000</td>\n",
       "      <td>0.889274</td>\n",
       "      <td>0.691952</td>\n",
       "      <td>0.476552</td>\n",
       "      <td>0.296195</td>\n",
       "      <td>0.241179</td>\n",
       "      <td>0.218011</td>\n",
       "      <td>0.186836</td>\n",
       "      <td>4.552049e-01</td>\n",
       "      <td>0.521514</td>\n",
       "      <td>...</td>\n",
       "      <td>0.423378</td>\n",
       "      <td>0.417540</td>\n",
       "      <td>0.425708</td>\n",
       "      <td>0.459820</td>\n",
       "      <td>0.440842</td>\n",
       "      <td>0.436896</td>\n",
       "      <td>0.433709</td>\n",
       "      <td>0.440339</td>\n",
       "      <td>0.655449</td>\n",
       "      <td>0.344551</td>\n",
       "    </tr>\n",
       "    <tr>\n",
       "      <th>std</th>\n",
       "      <td>112351.35202</td>\n",
       "      <td>0.313793</td>\n",
       "      <td>0.461687</td>\n",
       "      <td>0.499451</td>\n",
       "      <td>0.456579</td>\n",
       "      <td>0.427799</td>\n",
       "      <td>0.412895</td>\n",
       "      <td>0.389781</td>\n",
       "      <td>2.537459e-01</td>\n",
       "      <td>0.499538</td>\n",
       "      <td>...</td>\n",
       "      <td>0.494095</td>\n",
       "      <td>0.493154</td>\n",
       "      <td>0.494451</td>\n",
       "      <td>0.498384</td>\n",
       "      <td>0.496489</td>\n",
       "      <td>0.496002</td>\n",
       "      <td>0.495587</td>\n",
       "      <td>0.496428</td>\n",
       "      <td>0.475222</td>\n",
       "      <td>0.475222</td>\n",
       "    </tr>\n",
       "    <tr>\n",
       "      <th>min</th>\n",
       "      <td>0.00000</td>\n",
       "      <td>0.000000</td>\n",
       "      <td>0.000000</td>\n",
       "      <td>0.000000</td>\n",
       "      <td>0.000000</td>\n",
       "      <td>0.000000</td>\n",
       "      <td>0.000000</td>\n",
       "      <td>0.000000</td>\n",
       "      <td>5.506237e-16</td>\n",
       "      <td>0.000000</td>\n",
       "      <td>...</td>\n",
       "      <td>0.000000</td>\n",
       "      <td>0.000000</td>\n",
       "      <td>0.000000</td>\n",
       "      <td>0.000000</td>\n",
       "      <td>0.000000</td>\n",
       "      <td>0.000000</td>\n",
       "      <td>0.000000</td>\n",
       "      <td>0.000000</td>\n",
       "      <td>0.000000</td>\n",
       "      <td>0.000000</td>\n",
       "    </tr>\n",
       "    <tr>\n",
       "      <th>25%</th>\n",
       "      <td>97298.75000</td>\n",
       "      <td>1.000000</td>\n",
       "      <td>0.000000</td>\n",
       "      <td>0.000000</td>\n",
       "      <td>0.000000</td>\n",
       "      <td>0.000000</td>\n",
       "      <td>0.000000</td>\n",
       "      <td>0.000000</td>\n",
       "      <td>2.507866e-01</td>\n",
       "      <td>0.000000</td>\n",
       "      <td>...</td>\n",
       "      <td>0.000000</td>\n",
       "      <td>0.000000</td>\n",
       "      <td>0.000000</td>\n",
       "      <td>0.000000</td>\n",
       "      <td>0.000000</td>\n",
       "      <td>0.000000</td>\n",
       "      <td>0.000000</td>\n",
       "      <td>0.000000</td>\n",
       "      <td>0.000000</td>\n",
       "      <td>0.000000</td>\n",
       "    </tr>\n",
       "    <tr>\n",
       "      <th>50%</th>\n",
       "      <td>194597.50000</td>\n",
       "      <td>1.000000</td>\n",
       "      <td>1.000000</td>\n",
       "      <td>0.000000</td>\n",
       "      <td>0.000000</td>\n",
       "      <td>0.000000</td>\n",
       "      <td>0.000000</td>\n",
       "      <td>0.000000</td>\n",
       "      <td>4.375241e-01</td>\n",
       "      <td>1.000000</td>\n",
       "      <td>...</td>\n",
       "      <td>0.000000</td>\n",
       "      <td>0.000000</td>\n",
       "      <td>0.000000</td>\n",
       "      <td>0.000000</td>\n",
       "      <td>0.000000</td>\n",
       "      <td>0.000000</td>\n",
       "      <td>0.000000</td>\n",
       "      <td>0.000000</td>\n",
       "      <td>1.000000</td>\n",
       "      <td>0.000000</td>\n",
       "    </tr>\n",
       "    <tr>\n",
       "      <th>75%</th>\n",
       "      <td>291896.25000</td>\n",
       "      <td>1.000000</td>\n",
       "      <td>1.000000</td>\n",
       "      <td>1.000000</td>\n",
       "      <td>1.000000</td>\n",
       "      <td>0.000000</td>\n",
       "      <td>0.000000</td>\n",
       "      <td>0.000000</td>\n",
       "      <td>6.578835e-01</td>\n",
       "      <td>1.000000</td>\n",
       "      <td>...</td>\n",
       "      <td>1.000000</td>\n",
       "      <td>1.000000</td>\n",
       "      <td>1.000000</td>\n",
       "      <td>1.000000</td>\n",
       "      <td>1.000000</td>\n",
       "      <td>1.000000</td>\n",
       "      <td>1.000000</td>\n",
       "      <td>1.000000</td>\n",
       "      <td>1.000000</td>\n",
       "      <td>1.000000</td>\n",
       "    </tr>\n",
       "    <tr>\n",
       "      <th>max</th>\n",
       "      <td>389195.00000</td>\n",
       "      <td>1.000000</td>\n",
       "      <td>1.000000</td>\n",
       "      <td>1.000000</td>\n",
       "      <td>1.000000</td>\n",
       "      <td>1.000000</td>\n",
       "      <td>1.000000</td>\n",
       "      <td>1.000000</td>\n",
       "      <td>1.000000e+00</td>\n",
       "      <td>1.000000</td>\n",
       "      <td>...</td>\n",
       "      <td>1.000000</td>\n",
       "      <td>1.000000</td>\n",
       "      <td>1.000000</td>\n",
       "      <td>1.000000</td>\n",
       "      <td>1.000000</td>\n",
       "      <td>1.000000</td>\n",
       "      <td>1.000000</td>\n",
       "      <td>1.000000</td>\n",
       "      <td>1.000000</td>\n",
       "      <td>1.000000</td>\n",
       "    </tr>\n",
       "  </tbody>\n",
       "</table>\n",
       "<p>8 rows × 246 columns</p>\n",
       "</div>"
      ],
      "text/plain": [
       "              INDEX           UF_1           UF_2           UF_3  \\\n",
       "count  389196.00000  389196.000000  389196.000000  389196.000000   \n",
       "mean   194597.50000       0.889274       0.691952       0.476552   \n",
       "std    112351.35202       0.313793       0.461687       0.499451   \n",
       "min         0.00000       0.000000       0.000000       0.000000   \n",
       "25%     97298.75000       1.000000       0.000000       0.000000   \n",
       "50%    194597.50000       1.000000       1.000000       0.000000   \n",
       "75%    291896.25000       1.000000       1.000000       1.000000   \n",
       "max    389195.00000       1.000000       1.000000       1.000000   \n",
       "\n",
       "                UF_4           UF_5           UF_6           UF_7  \\\n",
       "count  389196.000000  389196.000000  389196.000000  389196.000000   \n",
       "mean        0.296195       0.241179       0.218011       0.186836   \n",
       "std         0.456579       0.427799       0.412895       0.389781   \n",
       "min         0.000000       0.000000       0.000000       0.000000   \n",
       "25%         0.000000       0.000000       0.000000       0.000000   \n",
       "50%         0.000000       0.000000       0.000000       0.000000   \n",
       "75%         1.000000       0.000000       0.000000       0.000000   \n",
       "max         1.000000       1.000000       1.000000       1.000000   \n",
       "\n",
       "              IDADE         SEXO_1  ...         CEP4_7         CEP4_8  \\\n",
       "count  3.891960e+05  389196.000000  ...  389196.000000  389196.000000   \n",
       "mean   4.552049e-01       0.521514  ...       0.423378       0.417540   \n",
       "std    2.537459e-01       0.499538  ...       0.494095       0.493154   \n",
       "min    5.506237e-16       0.000000  ...       0.000000       0.000000   \n",
       "25%    2.507866e-01       0.000000  ...       0.000000       0.000000   \n",
       "50%    4.375241e-01       1.000000  ...       0.000000       0.000000   \n",
       "75%    6.578835e-01       1.000000  ...       1.000000       1.000000   \n",
       "max    1.000000e+00       1.000000  ...       1.000000       1.000000   \n",
       "\n",
       "              CEP4_9        CEP4_10        CEP4_11        CEP4_12  \\\n",
       "count  389196.000000  389196.000000  389196.000000  389196.000000   \n",
       "mean        0.425708       0.459820       0.440842       0.436896   \n",
       "std         0.494451       0.498384       0.496489       0.496002   \n",
       "min         0.000000       0.000000       0.000000       0.000000   \n",
       "25%         0.000000       0.000000       0.000000       0.000000   \n",
       "50%         0.000000       0.000000       0.000000       0.000000   \n",
       "75%         1.000000       1.000000       1.000000       1.000000   \n",
       "max         1.000000       1.000000       1.000000       1.000000   \n",
       "\n",
       "             CEP4_13        CEP4_14    IND_BOM_1_1    IND_BOM_1_2  \n",
       "count  389196.000000  389196.000000  389196.000000  389196.000000  \n",
       "mean        0.433709       0.440339       0.655449       0.344551  \n",
       "std         0.495587       0.496428       0.475222       0.475222  \n",
       "min         0.000000       0.000000       0.000000       0.000000  \n",
       "25%         0.000000       0.000000       0.000000       0.000000  \n",
       "50%         0.000000       0.000000       1.000000       0.000000  \n",
       "75%         1.000000       1.000000       1.000000       1.000000  \n",
       "max         1.000000       1.000000       1.000000       1.000000  \n",
       "\n",
       "[8 rows x 246 columns]"
      ]
     },
     "execution_count": 6,
     "metadata": {},
     "output_type": "execute_result"
    }
   ],
   "source": [
    "df.describe()"
   ]
  },
  {
   "cell_type": "code",
   "execution_count": 7,
   "metadata": {},
   "outputs": [],
   "source": [
    "df.drop(['INDEX'], axis=1, inplace=True)"
   ]
  },
  {
   "cell_type": "markdown",
   "metadata": {
    "id": "147wgrxQ_eCX"
   },
   "source": [
    "#### Combinando classes em uma única coluna"
   ]
  },
  {
   "cell_type": "code",
   "execution_count": 8,
   "metadata": {
    "id": "Pn9epHSQuxrG"
   },
   "outputs": [],
   "source": [
    "def label_class (row):\n",
    "   if row['IND_BOM_1_1'] == 1 and row['IND_BOM_1_2'] == 1:\n",
    "      return 2\n",
    "   if row['IND_BOM_1_1'] == 1:\n",
    "      return 0\n",
    "   if row['IND_BOM_1_2'] == 1:\n",
    "      return 1\n",
    "   return 3"
   ]
  },
  {
   "cell_type": "code",
   "execution_count": 9,
   "metadata": {
    "id": "_yoSjoMX4W57"
   },
   "outputs": [],
   "source": [
    "df['class'] = df.apply (lambda row: label_class(row), axis=1)"
   ]
  },
  {
   "cell_type": "code",
   "execution_count": 10,
   "metadata": {
    "colab": {
     "base_uri": "https://localhost:8080/",
     "height": 235
    },
    "id": "dNlLOAJJ4bYk",
    "outputId": "a3585d0e-ed05-4955-d690-537bacb7f179"
   },
   "outputs": [
    {
     "data": {
      "text/html": [
       "<div>\n",
       "<style scoped>\n",
       "    .dataframe tbody tr th:only-of-type {\n",
       "        vertical-align: middle;\n",
       "    }\n",
       "\n",
       "    .dataframe tbody tr th {\n",
       "        vertical-align: top;\n",
       "    }\n",
       "\n",
       "    .dataframe thead th {\n",
       "        text-align: right;\n",
       "    }\n",
       "</style>\n",
       "<table border=\"1\" class=\"dataframe\">\n",
       "  <thead>\n",
       "    <tr style=\"text-align: right;\">\n",
       "      <th></th>\n",
       "      <th>UF_1</th>\n",
       "      <th>UF_2</th>\n",
       "      <th>UF_3</th>\n",
       "      <th>UF_4</th>\n",
       "      <th>UF_5</th>\n",
       "      <th>UF_6</th>\n",
       "      <th>UF_7</th>\n",
       "      <th>IDADE</th>\n",
       "      <th>SEXO_1</th>\n",
       "      <th>NIVEL_RELACIONAMENTO_CREDITO01</th>\n",
       "      <th>...</th>\n",
       "      <th>CEP4_8</th>\n",
       "      <th>CEP4_9</th>\n",
       "      <th>CEP4_10</th>\n",
       "      <th>CEP4_11</th>\n",
       "      <th>CEP4_12</th>\n",
       "      <th>CEP4_13</th>\n",
       "      <th>CEP4_14</th>\n",
       "      <th>IND_BOM_1_1</th>\n",
       "      <th>IND_BOM_1_2</th>\n",
       "      <th>class</th>\n",
       "    </tr>\n",
       "  </thead>\n",
       "  <tbody>\n",
       "    <tr>\n",
       "      <th>0</th>\n",
       "      <td>1</td>\n",
       "      <td>1</td>\n",
       "      <td>1</td>\n",
       "      <td>0</td>\n",
       "      <td>0</td>\n",
       "      <td>0</td>\n",
       "      <td>0</td>\n",
       "      <td>0.135098</td>\n",
       "      <td>1</td>\n",
       "      <td>0.222222</td>\n",
       "      <td>...</td>\n",
       "      <td>0</td>\n",
       "      <td>1</td>\n",
       "      <td>1</td>\n",
       "      <td>0</td>\n",
       "      <td>1</td>\n",
       "      <td>1</td>\n",
       "      <td>1</td>\n",
       "      <td>0</td>\n",
       "      <td>1</td>\n",
       "      <td>1</td>\n",
       "    </tr>\n",
       "    <tr>\n",
       "      <th>1</th>\n",
       "      <td>1</td>\n",
       "      <td>0</td>\n",
       "      <td>1</td>\n",
       "      <td>0</td>\n",
       "      <td>0</td>\n",
       "      <td>1</td>\n",
       "      <td>0</td>\n",
       "      <td>0.273504</td>\n",
       "      <td>1</td>\n",
       "      <td>0.111111</td>\n",
       "      <td>...</td>\n",
       "      <td>1</td>\n",
       "      <td>0</td>\n",
       "      <td>1</td>\n",
       "      <td>1</td>\n",
       "      <td>0</td>\n",
       "      <td>0</td>\n",
       "      <td>0</td>\n",
       "      <td>1</td>\n",
       "      <td>0</td>\n",
       "      <td>0</td>\n",
       "    </tr>\n",
       "    <tr>\n",
       "      <th>2</th>\n",
       "      <td>1</td>\n",
       "      <td>0</td>\n",
       "      <td>1</td>\n",
       "      <td>0</td>\n",
       "      <td>0</td>\n",
       "      <td>1</td>\n",
       "      <td>0</td>\n",
       "      <td>0.281910</td>\n",
       "      <td>0</td>\n",
       "      <td>1.000000</td>\n",
       "      <td>...</td>\n",
       "      <td>1</td>\n",
       "      <td>0</td>\n",
       "      <td>0</td>\n",
       "      <td>0</td>\n",
       "      <td>0</td>\n",
       "      <td>1</td>\n",
       "      <td>0</td>\n",
       "      <td>1</td>\n",
       "      <td>0</td>\n",
       "      <td>0</td>\n",
       "    </tr>\n",
       "    <tr>\n",
       "      <th>3</th>\n",
       "      <td>1</td>\n",
       "      <td>1</td>\n",
       "      <td>1</td>\n",
       "      <td>0</td>\n",
       "      <td>0</td>\n",
       "      <td>0</td>\n",
       "      <td>0</td>\n",
       "      <td>0.225741</td>\n",
       "      <td>0</td>\n",
       "      <td>0.111111</td>\n",
       "      <td>...</td>\n",
       "      <td>1</td>\n",
       "      <td>0</td>\n",
       "      <td>1</td>\n",
       "      <td>1</td>\n",
       "      <td>0</td>\n",
       "      <td>1</td>\n",
       "      <td>0</td>\n",
       "      <td>1</td>\n",
       "      <td>0</td>\n",
       "      <td>0</td>\n",
       "    </tr>\n",
       "    <tr>\n",
       "      <th>4</th>\n",
       "      <td>1</td>\n",
       "      <td>1</td>\n",
       "      <td>0</td>\n",
       "      <td>0</td>\n",
       "      <td>0</td>\n",
       "      <td>1</td>\n",
       "      <td>0</td>\n",
       "      <td>0.480403</td>\n",
       "      <td>0</td>\n",
       "      <td>0.111111</td>\n",
       "      <td>...</td>\n",
       "      <td>1</td>\n",
       "      <td>1</td>\n",
       "      <td>0</td>\n",
       "      <td>0</td>\n",
       "      <td>1</td>\n",
       "      <td>0</td>\n",
       "      <td>1</td>\n",
       "      <td>1</td>\n",
       "      <td>0</td>\n",
       "      <td>0</td>\n",
       "    </tr>\n",
       "  </tbody>\n",
       "</table>\n",
       "<p>5 rows × 246 columns</p>\n",
       "</div>"
      ],
      "text/plain": [
       "   UF_1  UF_2  UF_3  UF_4  UF_5  UF_6  UF_7     IDADE  SEXO_1  \\\n",
       "0     1     1     1     0     0     0     0  0.135098       1   \n",
       "1     1     0     1     0     0     1     0  0.273504       1   \n",
       "2     1     0     1     0     0     1     0  0.281910       0   \n",
       "3     1     1     1     0     0     0     0  0.225741       0   \n",
       "4     1     1     0     0     0     1     0  0.480403       0   \n",
       "\n",
       "   NIVEL_RELACIONAMENTO_CREDITO01  ...  CEP4_8  CEP4_9  CEP4_10  CEP4_11  \\\n",
       "0                        0.222222  ...       0       1        1        0   \n",
       "1                        0.111111  ...       1       0        1        1   \n",
       "2                        1.000000  ...       1       0        0        0   \n",
       "3                        0.111111  ...       1       0        1        1   \n",
       "4                        0.111111  ...       1       1        0        0   \n",
       "\n",
       "   CEP4_12  CEP4_13  CEP4_14  IND_BOM_1_1  IND_BOM_1_2  class  \n",
       "0        1        1        1            0            1      1  \n",
       "1        0        0        0            1            0      0  \n",
       "2        0        1        0            1            0      0  \n",
       "3        0        1        0            1            0      0  \n",
       "4        1        0        1            1            0      0  \n",
       "\n",
       "[5 rows x 246 columns]"
      ]
     },
     "execution_count": 10,
     "metadata": {},
     "output_type": "execute_result"
    }
   ],
   "source": [
    "df.head()"
   ]
  },
  {
   "cell_type": "code",
   "execution_count": 11,
   "metadata": {
    "colab": {
     "base_uri": "https://localhost:8080/"
    },
    "id": "4R6NcieU4fVQ",
    "outputId": "dda4136c-2c6f-47e2-a590-40507fc0916a"
   },
   "outputs": [
    {
     "name": "stdout",
     "output_type": "stream",
     "text": [
      "classe 0: 255098\n",
      "classe 1: 134098\n",
      "classe desconhecida: 0\n"
     ]
    }
   ],
   "source": [
    "print('classe 0:', len(df[df['class'] == 0]))\n",
    "print('classe 1:', len(df[df['class'] == 1]))\n",
    "print('classe desconhecida:', len(df[df['class'] > 1]))"
   ]
  },
  {
   "cell_type": "markdown",
   "metadata": {},
   "source": [
    "# Particionamento dos dados"
   ]
  },
  {
   "cell_type": "markdown",
   "metadata": {},
   "source": [
    "### Particionamento dos dados - 1ª Etapa"
   ]
  },
  {
   "cell_type": "code",
   "execution_count": 12,
   "metadata": {},
   "outputs": [],
   "source": [
    "class_0 = df[df['class'] == 0]\n",
    "class_1 = df[df['class'] == 1]"
   ]
  },
  {
   "cell_type": "code",
   "execution_count": 13,
   "metadata": {},
   "outputs": [
    {
     "data": {
      "text/html": [
       "<div>\n",
       "<style scoped>\n",
       "    .dataframe tbody tr th:only-of-type {\n",
       "        vertical-align: middle;\n",
       "    }\n",
       "\n",
       "    .dataframe tbody tr th {\n",
       "        vertical-align: top;\n",
       "    }\n",
       "\n",
       "    .dataframe thead th {\n",
       "        text-align: right;\n",
       "    }\n",
       "</style>\n",
       "<table border=\"1\" class=\"dataframe\">\n",
       "  <thead>\n",
       "    <tr style=\"text-align: right;\">\n",
       "      <th></th>\n",
       "      <th>UF_1</th>\n",
       "      <th>UF_2</th>\n",
       "      <th>UF_3</th>\n",
       "      <th>UF_4</th>\n",
       "      <th>UF_5</th>\n",
       "      <th>UF_6</th>\n",
       "      <th>UF_7</th>\n",
       "      <th>IDADE</th>\n",
       "      <th>SEXO_1</th>\n",
       "      <th>NIVEL_RELACIONAMENTO_CREDITO01</th>\n",
       "      <th>...</th>\n",
       "      <th>CEP4_8</th>\n",
       "      <th>CEP4_9</th>\n",
       "      <th>CEP4_10</th>\n",
       "      <th>CEP4_11</th>\n",
       "      <th>CEP4_12</th>\n",
       "      <th>CEP4_13</th>\n",
       "      <th>CEP4_14</th>\n",
       "      <th>IND_BOM_1_1</th>\n",
       "      <th>IND_BOM_1_2</th>\n",
       "      <th>class</th>\n",
       "    </tr>\n",
       "  </thead>\n",
       "  <tbody>\n",
       "    <tr>\n",
       "      <th>1</th>\n",
       "      <td>1</td>\n",
       "      <td>0</td>\n",
       "      <td>1</td>\n",
       "      <td>0</td>\n",
       "      <td>0</td>\n",
       "      <td>1</td>\n",
       "      <td>0</td>\n",
       "      <td>0.273504</td>\n",
       "      <td>1</td>\n",
       "      <td>0.111111</td>\n",
       "      <td>...</td>\n",
       "      <td>1</td>\n",
       "      <td>0</td>\n",
       "      <td>1</td>\n",
       "      <td>1</td>\n",
       "      <td>0</td>\n",
       "      <td>0</td>\n",
       "      <td>0</td>\n",
       "      <td>1</td>\n",
       "      <td>0</td>\n",
       "      <td>0</td>\n",
       "    </tr>\n",
       "    <tr>\n",
       "      <th>2</th>\n",
       "      <td>1</td>\n",
       "      <td>0</td>\n",
       "      <td>1</td>\n",
       "      <td>0</td>\n",
       "      <td>0</td>\n",
       "      <td>1</td>\n",
       "      <td>0</td>\n",
       "      <td>0.281910</td>\n",
       "      <td>0</td>\n",
       "      <td>1.000000</td>\n",
       "      <td>...</td>\n",
       "      <td>1</td>\n",
       "      <td>0</td>\n",
       "      <td>0</td>\n",
       "      <td>0</td>\n",
       "      <td>0</td>\n",
       "      <td>1</td>\n",
       "      <td>0</td>\n",
       "      <td>1</td>\n",
       "      <td>0</td>\n",
       "      <td>0</td>\n",
       "    </tr>\n",
       "    <tr>\n",
       "      <th>3</th>\n",
       "      <td>1</td>\n",
       "      <td>1</td>\n",
       "      <td>1</td>\n",
       "      <td>0</td>\n",
       "      <td>0</td>\n",
       "      <td>0</td>\n",
       "      <td>0</td>\n",
       "      <td>0.225741</td>\n",
       "      <td>0</td>\n",
       "      <td>0.111111</td>\n",
       "      <td>...</td>\n",
       "      <td>1</td>\n",
       "      <td>0</td>\n",
       "      <td>1</td>\n",
       "      <td>1</td>\n",
       "      <td>0</td>\n",
       "      <td>1</td>\n",
       "      <td>0</td>\n",
       "      <td>1</td>\n",
       "      <td>0</td>\n",
       "      <td>0</td>\n",
       "    </tr>\n",
       "    <tr>\n",
       "      <th>4</th>\n",
       "      <td>1</td>\n",
       "      <td>1</td>\n",
       "      <td>0</td>\n",
       "      <td>0</td>\n",
       "      <td>0</td>\n",
       "      <td>1</td>\n",
       "      <td>0</td>\n",
       "      <td>0.480403</td>\n",
       "      <td>0</td>\n",
       "      <td>0.111111</td>\n",
       "      <td>...</td>\n",
       "      <td>1</td>\n",
       "      <td>1</td>\n",
       "      <td>0</td>\n",
       "      <td>0</td>\n",
       "      <td>1</td>\n",
       "      <td>0</td>\n",
       "      <td>1</td>\n",
       "      <td>1</td>\n",
       "      <td>0</td>\n",
       "      <td>0</td>\n",
       "    </tr>\n",
       "    <tr>\n",
       "      <th>5</th>\n",
       "      <td>0</td>\n",
       "      <td>1</td>\n",
       "      <td>1</td>\n",
       "      <td>0</td>\n",
       "      <td>0</td>\n",
       "      <td>0</td>\n",
       "      <td>1</td>\n",
       "      <td>0.219323</td>\n",
       "      <td>0</td>\n",
       "      <td>0.111111</td>\n",
       "      <td>...</td>\n",
       "      <td>1</td>\n",
       "      <td>1</td>\n",
       "      <td>0</td>\n",
       "      <td>1</td>\n",
       "      <td>0</td>\n",
       "      <td>0</td>\n",
       "      <td>1</td>\n",
       "      <td>1</td>\n",
       "      <td>0</td>\n",
       "      <td>0</td>\n",
       "    </tr>\n",
       "  </tbody>\n",
       "</table>\n",
       "<p>5 rows × 246 columns</p>\n",
       "</div>"
      ],
      "text/plain": [
       "   UF_1  UF_2  UF_3  UF_4  UF_5  UF_6  UF_7     IDADE  SEXO_1  \\\n",
       "1     1     0     1     0     0     1     0  0.273504       1   \n",
       "2     1     0     1     0     0     1     0  0.281910       0   \n",
       "3     1     1     1     0     0     0     0  0.225741       0   \n",
       "4     1     1     0     0     0     1     0  0.480403       0   \n",
       "5     0     1     1     0     0     0     1  0.219323       0   \n",
       "\n",
       "   NIVEL_RELACIONAMENTO_CREDITO01  ...  CEP4_8  CEP4_9  CEP4_10  CEP4_11  \\\n",
       "1                        0.111111  ...       1       0        1        1   \n",
       "2                        1.000000  ...       1       0        0        0   \n",
       "3                        0.111111  ...       1       0        1        1   \n",
       "4                        0.111111  ...       1       1        0        0   \n",
       "5                        0.111111  ...       1       1        0        1   \n",
       "\n",
       "   CEP4_12  CEP4_13  CEP4_14  IND_BOM_1_1  IND_BOM_1_2  class  \n",
       "1        0        0        0            1            0      0  \n",
       "2        0        1        0            1            0      0  \n",
       "3        0        1        0            1            0      0  \n",
       "4        1        0        1            1            0      0  \n",
       "5        0        0        1            1            0      0  \n",
       "\n",
       "[5 rows x 246 columns]"
      ]
     },
     "execution_count": 13,
     "metadata": {},
     "output_type": "execute_result"
    }
   ],
   "source": [
    "class_0.head()"
   ]
  },
  {
   "cell_type": "code",
   "execution_count": 14,
   "metadata": {},
   "outputs": [
    {
     "data": {
      "text/html": [
       "<div>\n",
       "<style scoped>\n",
       "    .dataframe tbody tr th:only-of-type {\n",
       "        vertical-align: middle;\n",
       "    }\n",
       "\n",
       "    .dataframe tbody tr th {\n",
       "        vertical-align: top;\n",
       "    }\n",
       "\n",
       "    .dataframe thead th {\n",
       "        text-align: right;\n",
       "    }\n",
       "</style>\n",
       "<table border=\"1\" class=\"dataframe\">\n",
       "  <thead>\n",
       "    <tr style=\"text-align: right;\">\n",
       "      <th></th>\n",
       "      <th>UF_1</th>\n",
       "      <th>UF_2</th>\n",
       "      <th>UF_3</th>\n",
       "      <th>UF_4</th>\n",
       "      <th>UF_5</th>\n",
       "      <th>UF_6</th>\n",
       "      <th>UF_7</th>\n",
       "      <th>IDADE</th>\n",
       "      <th>SEXO_1</th>\n",
       "      <th>NIVEL_RELACIONAMENTO_CREDITO01</th>\n",
       "      <th>...</th>\n",
       "      <th>CEP4_8</th>\n",
       "      <th>CEP4_9</th>\n",
       "      <th>CEP4_10</th>\n",
       "      <th>CEP4_11</th>\n",
       "      <th>CEP4_12</th>\n",
       "      <th>CEP4_13</th>\n",
       "      <th>CEP4_14</th>\n",
       "      <th>IND_BOM_1_1</th>\n",
       "      <th>IND_BOM_1_2</th>\n",
       "      <th>class</th>\n",
       "    </tr>\n",
       "  </thead>\n",
       "  <tbody>\n",
       "    <tr>\n",
       "      <th>0</th>\n",
       "      <td>1</td>\n",
       "      <td>1</td>\n",
       "      <td>1</td>\n",
       "      <td>0</td>\n",
       "      <td>0</td>\n",
       "      <td>0</td>\n",
       "      <td>0</td>\n",
       "      <td>0.135098</td>\n",
       "      <td>1</td>\n",
       "      <td>0.222222</td>\n",
       "      <td>...</td>\n",
       "      <td>0</td>\n",
       "      <td>1</td>\n",
       "      <td>1</td>\n",
       "      <td>0</td>\n",
       "      <td>1</td>\n",
       "      <td>1</td>\n",
       "      <td>1</td>\n",
       "      <td>0</td>\n",
       "      <td>1</td>\n",
       "      <td>1</td>\n",
       "    </tr>\n",
       "    <tr>\n",
       "      <th>10</th>\n",
       "      <td>1</td>\n",
       "      <td>0</td>\n",
       "      <td>1</td>\n",
       "      <td>1</td>\n",
       "      <td>0</td>\n",
       "      <td>0</td>\n",
       "      <td>0</td>\n",
       "      <td>0.654703</td>\n",
       "      <td>0</td>\n",
       "      <td>0.111111</td>\n",
       "      <td>...</td>\n",
       "      <td>1</td>\n",
       "      <td>0</td>\n",
       "      <td>1</td>\n",
       "      <td>0</td>\n",
       "      <td>0</td>\n",
       "      <td>0</td>\n",
       "      <td>0</td>\n",
       "      <td>0</td>\n",
       "      <td>1</td>\n",
       "      <td>1</td>\n",
       "    </tr>\n",
       "    <tr>\n",
       "      <th>11</th>\n",
       "      <td>1</td>\n",
       "      <td>1</td>\n",
       "      <td>1</td>\n",
       "      <td>0</td>\n",
       "      <td>0</td>\n",
       "      <td>0</td>\n",
       "      <td>0</td>\n",
       "      <td>0.097444</td>\n",
       "      <td>1</td>\n",
       "      <td>0.111111</td>\n",
       "      <td>...</td>\n",
       "      <td>1</td>\n",
       "      <td>0</td>\n",
       "      <td>1</td>\n",
       "      <td>0</td>\n",
       "      <td>1</td>\n",
       "      <td>0</td>\n",
       "      <td>1</td>\n",
       "      <td>0</td>\n",
       "      <td>1</td>\n",
       "      <td>1</td>\n",
       "    </tr>\n",
       "    <tr>\n",
       "      <th>12</th>\n",
       "      <td>1</td>\n",
       "      <td>0</td>\n",
       "      <td>1</td>\n",
       "      <td>0</td>\n",
       "      <td>1</td>\n",
       "      <td>0</td>\n",
       "      <td>0</td>\n",
       "      <td>0.398961</td>\n",
       "      <td>0</td>\n",
       "      <td>0.111111</td>\n",
       "      <td>...</td>\n",
       "      <td>1</td>\n",
       "      <td>1</td>\n",
       "      <td>0</td>\n",
       "      <td>1</td>\n",
       "      <td>0</td>\n",
       "      <td>0</td>\n",
       "      <td>0</td>\n",
       "      <td>0</td>\n",
       "      <td>1</td>\n",
       "      <td>1</td>\n",
       "    </tr>\n",
       "    <tr>\n",
       "      <th>17</th>\n",
       "      <td>1</td>\n",
       "      <td>1</td>\n",
       "      <td>1</td>\n",
       "      <td>0</td>\n",
       "      <td>0</td>\n",
       "      <td>0</td>\n",
       "      <td>0</td>\n",
       "      <td>0.142254</td>\n",
       "      <td>0</td>\n",
       "      <td>0.111111</td>\n",
       "      <td>...</td>\n",
       "      <td>0</td>\n",
       "      <td>0</td>\n",
       "      <td>1</td>\n",
       "      <td>0</td>\n",
       "      <td>1</td>\n",
       "      <td>0</td>\n",
       "      <td>1</td>\n",
       "      <td>0</td>\n",
       "      <td>1</td>\n",
       "      <td>1</td>\n",
       "    </tr>\n",
       "  </tbody>\n",
       "</table>\n",
       "<p>5 rows × 246 columns</p>\n",
       "</div>"
      ],
      "text/plain": [
       "    UF_1  UF_2  UF_3  UF_4  UF_5  UF_6  UF_7     IDADE  SEXO_1  \\\n",
       "0      1     1     1     0     0     0     0  0.135098       1   \n",
       "10     1     0     1     1     0     0     0  0.654703       0   \n",
       "11     1     1     1     0     0     0     0  0.097444       1   \n",
       "12     1     0     1     0     1     0     0  0.398961       0   \n",
       "17     1     1     1     0     0     0     0  0.142254       0   \n",
       "\n",
       "    NIVEL_RELACIONAMENTO_CREDITO01  ...  CEP4_8  CEP4_9  CEP4_10  CEP4_11  \\\n",
       "0                         0.222222  ...       0       1        1        0   \n",
       "10                        0.111111  ...       1       0        1        0   \n",
       "11                        0.111111  ...       1       0        1        0   \n",
       "12                        0.111111  ...       1       1        0        1   \n",
       "17                        0.111111  ...       0       0        1        0   \n",
       "\n",
       "    CEP4_12  CEP4_13  CEP4_14  IND_BOM_1_1  IND_BOM_1_2  class  \n",
       "0         1        1        1            0            1      1  \n",
       "10        0        0        0            0            1      1  \n",
       "11        1        0        1            0            1      1  \n",
       "12        0        0        0            0            1      1  \n",
       "17        1        0        1            0            1      1  \n",
       "\n",
       "[5 rows x 246 columns]"
      ]
     },
     "execution_count": 14,
     "metadata": {},
     "output_type": "execute_result"
    }
   ],
   "source": [
    "class_1.head()"
   ]
  },
  {
   "cell_type": "markdown",
   "metadata": {
    "id": "20hYd4oJCLNG"
   },
   "source": [
    "### Particionamento dos dados - 2ª Etapa"
   ]
  },
  {
   "cell_type": "markdown",
   "metadata": {
    "id": "oiKN6mFZCs21"
   },
   "source": [
    "Os dados foram divididos aleatoriamente usando o método train_test_split()\n",
    "- 50% dos dados para treinamento\n",
    "- Dos 50% restantes, metade(25% do total) pra validação e o restante(25%) para teste"
   ]
  },
  {
   "cell_type": "code",
   "execution_count": 15,
   "metadata": {},
   "outputs": [],
   "source": [
    "from sklearn.model_selection import train_test_split"
   ]
  },
  {
   "cell_type": "code",
   "execution_count": 16,
   "metadata": {},
   "outputs": [],
   "source": [
    "X_train_class_0, X_rem_class_0 = train_test_split(class_0, train_size=0.5)\n",
    "X_valid_class_0, X_test_class_0 = train_test_split(X_rem_class_0, test_size=0.5)"
   ]
  },
  {
   "cell_type": "code",
   "execution_count": 17,
   "metadata": {},
   "outputs": [],
   "source": [
    "X_train_class_1, X_rem_class_1 = train_test_split(class_1, train_size=0.5)\n",
    "X_valid_class_1, X_test_class_1 = train_test_split(X_rem_class_1, test_size=0.5)"
   ]
  },
  {
   "cell_type": "markdown",
   "metadata": {},
   "source": [
    "Concatenamos os dados das duas classes para todos os conjuntos."
   ]
  },
  {
   "cell_type": "code",
   "execution_count": 18,
   "metadata": {},
   "outputs": [],
   "source": [
    "X_train = pd.concat([X_train_class_0, X_train_class_1])"
   ]
  },
  {
   "cell_type": "code",
   "execution_count": 19,
   "metadata": {},
   "outputs": [
    {
     "data": {
      "text/plain": [
       "(194598, 246)"
      ]
     },
     "execution_count": 19,
     "metadata": {},
     "output_type": "execute_result"
    }
   ],
   "source": [
    "X_train.shape"
   ]
  },
  {
   "cell_type": "markdown",
   "metadata": {},
   "source": [
    "Porém os dados estão ordenados, com a classe 0 no início e a classe 1 ao final. \n",
    "\n",
    "Precisamos então fazer um shuffle nos dados de todos os conjuntos."
   ]
  },
  {
   "cell_type": "code",
   "execution_count": 20,
   "metadata": {},
   "outputs": [
    {
     "data": {
      "text/html": [
       "<div>\n",
       "<style scoped>\n",
       "    .dataframe tbody tr th:only-of-type {\n",
       "        vertical-align: middle;\n",
       "    }\n",
       "\n",
       "    .dataframe tbody tr th {\n",
       "        vertical-align: top;\n",
       "    }\n",
       "\n",
       "    .dataframe thead th {\n",
       "        text-align: right;\n",
       "    }\n",
       "</style>\n",
       "<table border=\"1\" class=\"dataframe\">\n",
       "  <thead>\n",
       "    <tr style=\"text-align: right;\">\n",
       "      <th></th>\n",
       "      <th>UF_1</th>\n",
       "      <th>UF_2</th>\n",
       "      <th>UF_3</th>\n",
       "      <th>UF_4</th>\n",
       "      <th>UF_5</th>\n",
       "      <th>UF_6</th>\n",
       "      <th>UF_7</th>\n",
       "      <th>IDADE</th>\n",
       "      <th>SEXO_1</th>\n",
       "      <th>NIVEL_RELACIONAMENTO_CREDITO01</th>\n",
       "      <th>...</th>\n",
       "      <th>CEP4_8</th>\n",
       "      <th>CEP4_9</th>\n",
       "      <th>CEP4_10</th>\n",
       "      <th>CEP4_11</th>\n",
       "      <th>CEP4_12</th>\n",
       "      <th>CEP4_13</th>\n",
       "      <th>CEP4_14</th>\n",
       "      <th>IND_BOM_1_1</th>\n",
       "      <th>IND_BOM_1_2</th>\n",
       "      <th>class</th>\n",
       "    </tr>\n",
       "  </thead>\n",
       "  <tbody>\n",
       "    <tr>\n",
       "      <th>115563</th>\n",
       "      <td>1</td>\n",
       "      <td>1</td>\n",
       "      <td>1</td>\n",
       "      <td>0</td>\n",
       "      <td>0</td>\n",
       "      <td>0</td>\n",
       "      <td>0</td>\n",
       "      <td>7.357476e-01</td>\n",
       "      <td>1</td>\n",
       "      <td>0.111111</td>\n",
       "      <td>...</td>\n",
       "      <td>1</td>\n",
       "      <td>0</td>\n",
       "      <td>1</td>\n",
       "      <td>1</td>\n",
       "      <td>1</td>\n",
       "      <td>0</td>\n",
       "      <td>0</td>\n",
       "      <td>1</td>\n",
       "      <td>0</td>\n",
       "      <td>0</td>\n",
       "    </tr>\n",
       "    <tr>\n",
       "      <th>280523</th>\n",
       "      <td>1</td>\n",
       "      <td>0</td>\n",
       "      <td>1</td>\n",
       "      <td>0</td>\n",
       "      <td>0</td>\n",
       "      <td>1</td>\n",
       "      <td>0</td>\n",
       "      <td>3.965191e-01</td>\n",
       "      <td>1</td>\n",
       "      <td>0.111111</td>\n",
       "      <td>...</td>\n",
       "      <td>0</td>\n",
       "      <td>0</td>\n",
       "      <td>0</td>\n",
       "      <td>0</td>\n",
       "      <td>1</td>\n",
       "      <td>0</td>\n",
       "      <td>0</td>\n",
       "      <td>1</td>\n",
       "      <td>0</td>\n",
       "      <td>0</td>\n",
       "    </tr>\n",
       "    <tr>\n",
       "      <th>387366</th>\n",
       "      <td>1</td>\n",
       "      <td>1</td>\n",
       "      <td>0</td>\n",
       "      <td>0</td>\n",
       "      <td>0</td>\n",
       "      <td>0</td>\n",
       "      <td>1</td>\n",
       "      <td>3.972574e-01</td>\n",
       "      <td>1</td>\n",
       "      <td>0.111111</td>\n",
       "      <td>...</td>\n",
       "      <td>1</td>\n",
       "      <td>0</td>\n",
       "      <td>1</td>\n",
       "      <td>1</td>\n",
       "      <td>0</td>\n",
       "      <td>0</td>\n",
       "      <td>1</td>\n",
       "      <td>1</td>\n",
       "      <td>0</td>\n",
       "      <td>0</td>\n",
       "    </tr>\n",
       "    <tr>\n",
       "      <th>321933</th>\n",
       "      <td>1</td>\n",
       "      <td>1</td>\n",
       "      <td>1</td>\n",
       "      <td>0</td>\n",
       "      <td>0</td>\n",
       "      <td>0</td>\n",
       "      <td>0</td>\n",
       "      <td>8.987454e-01</td>\n",
       "      <td>0</td>\n",
       "      <td>0.111111</td>\n",
       "      <td>...</td>\n",
       "      <td>1</td>\n",
       "      <td>0</td>\n",
       "      <td>1</td>\n",
       "      <td>0</td>\n",
       "      <td>1</td>\n",
       "      <td>0</td>\n",
       "      <td>1</td>\n",
       "      <td>1</td>\n",
       "      <td>0</td>\n",
       "      <td>0</td>\n",
       "    </tr>\n",
       "    <tr>\n",
       "      <th>156096</th>\n",
       "      <td>1</td>\n",
       "      <td>1</td>\n",
       "      <td>1</td>\n",
       "      <td>0</td>\n",
       "      <td>0</td>\n",
       "      <td>0</td>\n",
       "      <td>0</td>\n",
       "      <td>2.698125e-01</td>\n",
       "      <td>1</td>\n",
       "      <td>0.111111</td>\n",
       "      <td>...</td>\n",
       "      <td>0</td>\n",
       "      <td>0</td>\n",
       "      <td>1</td>\n",
       "      <td>0</td>\n",
       "      <td>1</td>\n",
       "      <td>0</td>\n",
       "      <td>0</td>\n",
       "      <td>1</td>\n",
       "      <td>0</td>\n",
       "      <td>0</td>\n",
       "    </tr>\n",
       "    <tr>\n",
       "      <th>...</th>\n",
       "      <td>...</td>\n",
       "      <td>...</td>\n",
       "      <td>...</td>\n",
       "      <td>...</td>\n",
       "      <td>...</td>\n",
       "      <td>...</td>\n",
       "      <td>...</td>\n",
       "      <td>...</td>\n",
       "      <td>...</td>\n",
       "      <td>...</td>\n",
       "      <td>...</td>\n",
       "      <td>...</td>\n",
       "      <td>...</td>\n",
       "      <td>...</td>\n",
       "      <td>...</td>\n",
       "      <td>...</td>\n",
       "      <td>...</td>\n",
       "      <td>...</td>\n",
       "      <td>...</td>\n",
       "      <td>...</td>\n",
       "      <td>...</td>\n",
       "    </tr>\n",
       "    <tr>\n",
       "      <th>245050</th>\n",
       "      <td>1</td>\n",
       "      <td>0</td>\n",
       "      <td>1</td>\n",
       "      <td>1</td>\n",
       "      <td>0</td>\n",
       "      <td>0</td>\n",
       "      <td>0</td>\n",
       "      <td>3.864666e-01</td>\n",
       "      <td>0</td>\n",
       "      <td>0.111111</td>\n",
       "      <td>...</td>\n",
       "      <td>0</td>\n",
       "      <td>0</td>\n",
       "      <td>1</td>\n",
       "      <td>1</td>\n",
       "      <td>0</td>\n",
       "      <td>1</td>\n",
       "      <td>1</td>\n",
       "      <td>0</td>\n",
       "      <td>1</td>\n",
       "      <td>1</td>\n",
       "    </tr>\n",
       "    <tr>\n",
       "      <th>149463</th>\n",
       "      <td>1</td>\n",
       "      <td>1</td>\n",
       "      <td>0</td>\n",
       "      <td>1</td>\n",
       "      <td>0</td>\n",
       "      <td>0</td>\n",
       "      <td>0</td>\n",
       "      <td>1.614502e-01</td>\n",
       "      <td>1</td>\n",
       "      <td>0.111111</td>\n",
       "      <td>...</td>\n",
       "      <td>0</td>\n",
       "      <td>0</td>\n",
       "      <td>0</td>\n",
       "      <td>0</td>\n",
       "      <td>1</td>\n",
       "      <td>1</td>\n",
       "      <td>1</td>\n",
       "      <td>0</td>\n",
       "      <td>1</td>\n",
       "      <td>1</td>\n",
       "    </tr>\n",
       "    <tr>\n",
       "      <th>239343</th>\n",
       "      <td>1</td>\n",
       "      <td>0</td>\n",
       "      <td>1</td>\n",
       "      <td>0</td>\n",
       "      <td>0</td>\n",
       "      <td>0</td>\n",
       "      <td>1</td>\n",
       "      <td>1.115286e-01</td>\n",
       "      <td>0</td>\n",
       "      <td>0.111111</td>\n",
       "      <td>...</td>\n",
       "      <td>0</td>\n",
       "      <td>1</td>\n",
       "      <td>0</td>\n",
       "      <td>1</td>\n",
       "      <td>0</td>\n",
       "      <td>0</td>\n",
       "      <td>0</td>\n",
       "      <td>0</td>\n",
       "      <td>1</td>\n",
       "      <td>1</td>\n",
       "    </tr>\n",
       "    <tr>\n",
       "      <th>162476</th>\n",
       "      <td>1</td>\n",
       "      <td>1</td>\n",
       "      <td>0</td>\n",
       "      <td>0</td>\n",
       "      <td>0</td>\n",
       "      <td>1</td>\n",
       "      <td>0</td>\n",
       "      <td>5.506237e-16</td>\n",
       "      <td>0</td>\n",
       "      <td>0.111111</td>\n",
       "      <td>...</td>\n",
       "      <td>0</td>\n",
       "      <td>0</td>\n",
       "      <td>1</td>\n",
       "      <td>0</td>\n",
       "      <td>1</td>\n",
       "      <td>0</td>\n",
       "      <td>1</td>\n",
       "      <td>0</td>\n",
       "      <td>1</td>\n",
       "      <td>1</td>\n",
       "    </tr>\n",
       "    <tr>\n",
       "      <th>304293</th>\n",
       "      <td>1</td>\n",
       "      <td>0</td>\n",
       "      <td>1</td>\n",
       "      <td>0</td>\n",
       "      <td>1</td>\n",
       "      <td>0</td>\n",
       "      <td>0</td>\n",
       "      <td>4.656938e-01</td>\n",
       "      <td>1</td>\n",
       "      <td>0.111111</td>\n",
       "      <td>...</td>\n",
       "      <td>0</td>\n",
       "      <td>0</td>\n",
       "      <td>0</td>\n",
       "      <td>0</td>\n",
       "      <td>1</td>\n",
       "      <td>1</td>\n",
       "      <td>1</td>\n",
       "      <td>0</td>\n",
       "      <td>1</td>\n",
       "      <td>1</td>\n",
       "    </tr>\n",
       "  </tbody>\n",
       "</table>\n",
       "<p>194598 rows × 246 columns</p>\n",
       "</div>"
      ],
      "text/plain": [
       "        UF_1  UF_2  UF_3  UF_4  UF_5  UF_6  UF_7         IDADE  SEXO_1  \\\n",
       "115563     1     1     1     0     0     0     0  7.357476e-01       1   \n",
       "280523     1     0     1     0     0     1     0  3.965191e-01       1   \n",
       "387366     1     1     0     0     0     0     1  3.972574e-01       1   \n",
       "321933     1     1     1     0     0     0     0  8.987454e-01       0   \n",
       "156096     1     1     1     0     0     0     0  2.698125e-01       1   \n",
       "...      ...   ...   ...   ...   ...   ...   ...           ...     ...   \n",
       "245050     1     0     1     1     0     0     0  3.864666e-01       0   \n",
       "149463     1     1     0     1     0     0     0  1.614502e-01       1   \n",
       "239343     1     0     1     0     0     0     1  1.115286e-01       0   \n",
       "162476     1     1     0     0     0     1     0  5.506237e-16       0   \n",
       "304293     1     0     1     0     1     0     0  4.656938e-01       1   \n",
       "\n",
       "        NIVEL_RELACIONAMENTO_CREDITO01  ...  CEP4_8  CEP4_9  CEP4_10  CEP4_11  \\\n",
       "115563                        0.111111  ...       1       0        1        1   \n",
       "280523                        0.111111  ...       0       0        0        0   \n",
       "387366                        0.111111  ...       1       0        1        1   \n",
       "321933                        0.111111  ...       1       0        1        0   \n",
       "156096                        0.111111  ...       0       0        1        0   \n",
       "...                                ...  ...     ...     ...      ...      ...   \n",
       "245050                        0.111111  ...       0       0        1        1   \n",
       "149463                        0.111111  ...       0       0        0        0   \n",
       "239343                        0.111111  ...       0       1        0        1   \n",
       "162476                        0.111111  ...       0       0        1        0   \n",
       "304293                        0.111111  ...       0       0        0        0   \n",
       "\n",
       "        CEP4_12  CEP4_13  CEP4_14  IND_BOM_1_1  IND_BOM_1_2  class  \n",
       "115563        1        0        0            1            0      0  \n",
       "280523        1        0        0            1            0      0  \n",
       "387366        0        0        1            1            0      0  \n",
       "321933        1        0        1            1            0      0  \n",
       "156096        1        0        0            1            0      0  \n",
       "...         ...      ...      ...          ...          ...    ...  \n",
       "245050        0        1        1            0            1      1  \n",
       "149463        1        1        1            0            1      1  \n",
       "239343        0        0        0            0            1      1  \n",
       "162476        1        0        1            0            1      1  \n",
       "304293        1        1        1            0            1      1  \n",
       "\n",
       "[194598 rows x 246 columns]"
      ]
     },
     "execution_count": 20,
     "metadata": {},
     "output_type": "execute_result"
    }
   ],
   "source": [
    "X_train"
   ]
  },
  {
   "cell_type": "markdown",
   "metadata": {},
   "source": [
    "Para isso, iremos utilizar a função shuffle() do sklearn.utils."
   ]
  },
  {
   "cell_type": "code",
   "execution_count": 21,
   "metadata": {},
   "outputs": [],
   "source": [
    "from sklearn.utils import shuffle"
   ]
  },
  {
   "cell_type": "code",
   "execution_count": 22,
   "metadata": {},
   "outputs": [],
   "source": [
    "X_train = shuffle(X_train, random_state=85)"
   ]
  },
  {
   "cell_type": "code",
   "execution_count": 23,
   "metadata": {},
   "outputs": [
    {
     "data": {
      "text/plain": [
       "(194598, 246)"
      ]
     },
     "execution_count": 23,
     "metadata": {},
     "output_type": "execute_result"
    }
   ],
   "source": [
    "X_train.shape"
   ]
  },
  {
   "cell_type": "code",
   "execution_count": 24,
   "metadata": {},
   "outputs": [],
   "source": [
    "X_train.reset_index(drop=True, inplace=True)"
   ]
  },
  {
   "cell_type": "markdown",
   "metadata": {},
   "source": [
    "Abaixo percebemos que os dados foram embaralhados."
   ]
  },
  {
   "cell_type": "code",
   "execution_count": 25,
   "metadata": {},
   "outputs": [
    {
     "data": {
      "text/html": [
       "<div>\n",
       "<style scoped>\n",
       "    .dataframe tbody tr th:only-of-type {\n",
       "        vertical-align: middle;\n",
       "    }\n",
       "\n",
       "    .dataframe tbody tr th {\n",
       "        vertical-align: top;\n",
       "    }\n",
       "\n",
       "    .dataframe thead th {\n",
       "        text-align: right;\n",
       "    }\n",
       "</style>\n",
       "<table border=\"1\" class=\"dataframe\">\n",
       "  <thead>\n",
       "    <tr style=\"text-align: right;\">\n",
       "      <th></th>\n",
       "      <th>UF_1</th>\n",
       "      <th>UF_2</th>\n",
       "      <th>UF_3</th>\n",
       "      <th>UF_4</th>\n",
       "      <th>UF_5</th>\n",
       "      <th>UF_6</th>\n",
       "      <th>UF_7</th>\n",
       "      <th>IDADE</th>\n",
       "      <th>SEXO_1</th>\n",
       "      <th>NIVEL_RELACIONAMENTO_CREDITO01</th>\n",
       "      <th>...</th>\n",
       "      <th>CEP4_8</th>\n",
       "      <th>CEP4_9</th>\n",
       "      <th>CEP4_10</th>\n",
       "      <th>CEP4_11</th>\n",
       "      <th>CEP4_12</th>\n",
       "      <th>CEP4_13</th>\n",
       "      <th>CEP4_14</th>\n",
       "      <th>IND_BOM_1_1</th>\n",
       "      <th>IND_BOM_1_2</th>\n",
       "      <th>class</th>\n",
       "    </tr>\n",
       "  </thead>\n",
       "  <tbody>\n",
       "    <tr>\n",
       "      <th>0</th>\n",
       "      <td>1</td>\n",
       "      <td>1</td>\n",
       "      <td>0</td>\n",
       "      <td>1</td>\n",
       "      <td>0</td>\n",
       "      <td>0</td>\n",
       "      <td>0</td>\n",
       "      <td>0.539355</td>\n",
       "      <td>0</td>\n",
       "      <td>0.666667</td>\n",
       "      <td>...</td>\n",
       "      <td>1</td>\n",
       "      <td>1</td>\n",
       "      <td>0</td>\n",
       "      <td>1</td>\n",
       "      <td>1</td>\n",
       "      <td>0</td>\n",
       "      <td>1</td>\n",
       "      <td>1</td>\n",
       "      <td>0</td>\n",
       "      <td>0</td>\n",
       "    </tr>\n",
       "    <tr>\n",
       "      <th>1</th>\n",
       "      <td>1</td>\n",
       "      <td>1</td>\n",
       "      <td>0</td>\n",
       "      <td>0</td>\n",
       "      <td>0</td>\n",
       "      <td>1</td>\n",
       "      <td>0</td>\n",
       "      <td>0.160825</td>\n",
       "      <td>0</td>\n",
       "      <td>0.111111</td>\n",
       "      <td>...</td>\n",
       "      <td>0</td>\n",
       "      <td>0</td>\n",
       "      <td>0</td>\n",
       "      <td>1</td>\n",
       "      <td>1</td>\n",
       "      <td>1</td>\n",
       "      <td>0</td>\n",
       "      <td>1</td>\n",
       "      <td>0</td>\n",
       "      <td>0</td>\n",
       "    </tr>\n",
       "    <tr>\n",
       "      <th>2</th>\n",
       "      <td>1</td>\n",
       "      <td>1</td>\n",
       "      <td>0</td>\n",
       "      <td>0</td>\n",
       "      <td>0</td>\n",
       "      <td>0</td>\n",
       "      <td>1</td>\n",
       "      <td>0.893350</td>\n",
       "      <td>1</td>\n",
       "      <td>0.111111</td>\n",
       "      <td>...</td>\n",
       "      <td>1</td>\n",
       "      <td>1</td>\n",
       "      <td>0</td>\n",
       "      <td>0</td>\n",
       "      <td>0</td>\n",
       "      <td>0</td>\n",
       "      <td>1</td>\n",
       "      <td>0</td>\n",
       "      <td>1</td>\n",
       "      <td>1</td>\n",
       "    </tr>\n",
       "    <tr>\n",
       "      <th>3</th>\n",
       "      <td>1</td>\n",
       "      <td>1</td>\n",
       "      <td>1</td>\n",
       "      <td>0</td>\n",
       "      <td>0</td>\n",
       "      <td>0</td>\n",
       "      <td>0</td>\n",
       "      <td>0.736429</td>\n",
       "      <td>1</td>\n",
       "      <td>0.111111</td>\n",
       "      <td>...</td>\n",
       "      <td>0</td>\n",
       "      <td>1</td>\n",
       "      <td>0</td>\n",
       "      <td>1</td>\n",
       "      <td>1</td>\n",
       "      <td>0</td>\n",
       "      <td>0</td>\n",
       "      <td>1</td>\n",
       "      <td>0</td>\n",
       "      <td>0</td>\n",
       "    </tr>\n",
       "    <tr>\n",
       "      <th>4</th>\n",
       "      <td>0</td>\n",
       "      <td>1</td>\n",
       "      <td>0</td>\n",
       "      <td>1</td>\n",
       "      <td>0</td>\n",
       "      <td>0</td>\n",
       "      <td>1</td>\n",
       "      <td>0.419123</td>\n",
       "      <td>1</td>\n",
       "      <td>0.111111</td>\n",
       "      <td>...</td>\n",
       "      <td>1</td>\n",
       "      <td>1</td>\n",
       "      <td>1</td>\n",
       "      <td>0</td>\n",
       "      <td>1</td>\n",
       "      <td>0</td>\n",
       "      <td>0</td>\n",
       "      <td>1</td>\n",
       "      <td>0</td>\n",
       "      <td>0</td>\n",
       "    </tr>\n",
       "    <tr>\n",
       "      <th>...</th>\n",
       "      <td>...</td>\n",
       "      <td>...</td>\n",
       "      <td>...</td>\n",
       "      <td>...</td>\n",
       "      <td>...</td>\n",
       "      <td>...</td>\n",
       "      <td>...</td>\n",
       "      <td>...</td>\n",
       "      <td>...</td>\n",
       "      <td>...</td>\n",
       "      <td>...</td>\n",
       "      <td>...</td>\n",
       "      <td>...</td>\n",
       "      <td>...</td>\n",
       "      <td>...</td>\n",
       "      <td>...</td>\n",
       "      <td>...</td>\n",
       "      <td>...</td>\n",
       "      <td>...</td>\n",
       "      <td>...</td>\n",
       "      <td>...</td>\n",
       "    </tr>\n",
       "    <tr>\n",
       "      <th>194593</th>\n",
       "      <td>1</td>\n",
       "      <td>1</td>\n",
       "      <td>0</td>\n",
       "      <td>0</td>\n",
       "      <td>0</td>\n",
       "      <td>1</td>\n",
       "      <td>0</td>\n",
       "      <td>0.243801</td>\n",
       "      <td>1</td>\n",
       "      <td>0.111111</td>\n",
       "      <td>...</td>\n",
       "      <td>0</td>\n",
       "      <td>0</td>\n",
       "      <td>1</td>\n",
       "      <td>0</td>\n",
       "      <td>1</td>\n",
       "      <td>0</td>\n",
       "      <td>1</td>\n",
       "      <td>1</td>\n",
       "      <td>0</td>\n",
       "      <td>0</td>\n",
       "    </tr>\n",
       "    <tr>\n",
       "      <th>194594</th>\n",
       "      <td>1</td>\n",
       "      <td>1</td>\n",
       "      <td>0</td>\n",
       "      <td>0</td>\n",
       "      <td>0</td>\n",
       "      <td>1</td>\n",
       "      <td>0</td>\n",
       "      <td>0.389704</td>\n",
       "      <td>0</td>\n",
       "      <td>0.222222</td>\n",
       "      <td>...</td>\n",
       "      <td>0</td>\n",
       "      <td>1</td>\n",
       "      <td>1</td>\n",
       "      <td>0</td>\n",
       "      <td>1</td>\n",
       "      <td>1</td>\n",
       "      <td>0</td>\n",
       "      <td>1</td>\n",
       "      <td>0</td>\n",
       "      <td>0</td>\n",
       "    </tr>\n",
       "    <tr>\n",
       "      <th>194595</th>\n",
       "      <td>1</td>\n",
       "      <td>1</td>\n",
       "      <td>0</td>\n",
       "      <td>0</td>\n",
       "      <td>0</td>\n",
       "      <td>1</td>\n",
       "      <td>0</td>\n",
       "      <td>0.651523</td>\n",
       "      <td>0</td>\n",
       "      <td>0.111111</td>\n",
       "      <td>...</td>\n",
       "      <td>0</td>\n",
       "      <td>1</td>\n",
       "      <td>0</td>\n",
       "      <td>0</td>\n",
       "      <td>0</td>\n",
       "      <td>0</td>\n",
       "      <td>0</td>\n",
       "      <td>0</td>\n",
       "      <td>1</td>\n",
       "      <td>1</td>\n",
       "    </tr>\n",
       "    <tr>\n",
       "      <th>194596</th>\n",
       "      <td>1</td>\n",
       "      <td>1</td>\n",
       "      <td>1</td>\n",
       "      <td>0</td>\n",
       "      <td>0</td>\n",
       "      <td>0</td>\n",
       "      <td>0</td>\n",
       "      <td>0.825141</td>\n",
       "      <td>0</td>\n",
       "      <td>0.111111</td>\n",
       "      <td>...</td>\n",
       "      <td>0</td>\n",
       "      <td>0</td>\n",
       "      <td>0</td>\n",
       "      <td>0</td>\n",
       "      <td>1</td>\n",
       "      <td>1</td>\n",
       "      <td>1</td>\n",
       "      <td>1</td>\n",
       "      <td>0</td>\n",
       "      <td>0</td>\n",
       "    </tr>\n",
       "    <tr>\n",
       "      <th>194597</th>\n",
       "      <td>1</td>\n",
       "      <td>1</td>\n",
       "      <td>1</td>\n",
       "      <td>0</td>\n",
       "      <td>0</td>\n",
       "      <td>0</td>\n",
       "      <td>0</td>\n",
       "      <td>0.115163</td>\n",
       "      <td>1</td>\n",
       "      <td>0.111111</td>\n",
       "      <td>...</td>\n",
       "      <td>1</td>\n",
       "      <td>0</td>\n",
       "      <td>0</td>\n",
       "      <td>0</td>\n",
       "      <td>1</td>\n",
       "      <td>0</td>\n",
       "      <td>0</td>\n",
       "      <td>1</td>\n",
       "      <td>0</td>\n",
       "      <td>0</td>\n",
       "    </tr>\n",
       "  </tbody>\n",
       "</table>\n",
       "<p>194598 rows × 246 columns</p>\n",
       "</div>"
      ],
      "text/plain": [
       "        UF_1  UF_2  UF_3  UF_4  UF_5  UF_6  UF_7     IDADE  SEXO_1  \\\n",
       "0          1     1     0     1     0     0     0  0.539355       0   \n",
       "1          1     1     0     0     0     1     0  0.160825       0   \n",
       "2          1     1     0     0     0     0     1  0.893350       1   \n",
       "3          1     1     1     0     0     0     0  0.736429       1   \n",
       "4          0     1     0     1     0     0     1  0.419123       1   \n",
       "...      ...   ...   ...   ...   ...   ...   ...       ...     ...   \n",
       "194593     1     1     0     0     0     1     0  0.243801       1   \n",
       "194594     1     1     0     0     0     1     0  0.389704       0   \n",
       "194595     1     1     0     0     0     1     0  0.651523       0   \n",
       "194596     1     1     1     0     0     0     0  0.825141       0   \n",
       "194597     1     1     1     0     0     0     0  0.115163       1   \n",
       "\n",
       "        NIVEL_RELACIONAMENTO_CREDITO01  ...  CEP4_8  CEP4_9  CEP4_10  CEP4_11  \\\n",
       "0                             0.666667  ...       1       1        0        1   \n",
       "1                             0.111111  ...       0       0        0        1   \n",
       "2                             0.111111  ...       1       1        0        0   \n",
       "3                             0.111111  ...       0       1        0        1   \n",
       "4                             0.111111  ...       1       1        1        0   \n",
       "...                                ...  ...     ...     ...      ...      ...   \n",
       "194593                        0.111111  ...       0       0        1        0   \n",
       "194594                        0.222222  ...       0       1        1        0   \n",
       "194595                        0.111111  ...       0       1        0        0   \n",
       "194596                        0.111111  ...       0       0        0        0   \n",
       "194597                        0.111111  ...       1       0        0        0   \n",
       "\n",
       "        CEP4_12  CEP4_13  CEP4_14  IND_BOM_1_1  IND_BOM_1_2  class  \n",
       "0             1        0        1            1            0      0  \n",
       "1             1        1        0            1            0      0  \n",
       "2             0        0        1            0            1      1  \n",
       "3             1        0        0            1            0      0  \n",
       "4             1        0        0            1            0      0  \n",
       "...         ...      ...      ...          ...          ...    ...  \n",
       "194593        1        0        1            1            0      0  \n",
       "194594        1        1        0            1            0      0  \n",
       "194595        0        0        0            0            1      1  \n",
       "194596        1        1        1            1            0      0  \n",
       "194597        1        0        0            1            0      0  \n",
       "\n",
       "[194598 rows x 246 columns]"
      ]
     },
     "execution_count": 25,
     "metadata": {},
     "output_type": "execute_result"
    }
   ],
   "source": [
    "X_train"
   ]
  },
  {
   "cell_type": "markdown",
   "metadata": {},
   "source": [
    "Vamos obter então o valor de y utilizando a coluna \"class\" do dataset."
   ]
  },
  {
   "cell_type": "code",
   "execution_count": 26,
   "metadata": {},
   "outputs": [],
   "source": [
    "y_train = X_train['class'].values"
   ]
  },
  {
   "cell_type": "code",
   "execution_count": 27,
   "metadata": {},
   "outputs": [
    {
     "data": {
      "text/plain": [
       "array([0, 0, 1, ..., 1, 0, 0], dtype=int64)"
      ]
     },
     "execution_count": 27,
     "metadata": {},
     "output_type": "execute_result"
    }
   ],
   "source": [
    "y_train"
   ]
  },
  {
   "cell_type": "markdown",
   "metadata": {},
   "source": [
    "Vamos aplicar os mesmos procedimentos para os dados de validação e teste."
   ]
  },
  {
   "cell_type": "code",
   "execution_count": 28,
   "metadata": {},
   "outputs": [],
   "source": [
    "X_valid = pd.concat([X_valid_class_0, X_valid_class_1])\n",
    "X_valid = shuffle(X_valid, random_state=27)\n",
    "X_valid.reset_index(drop=True, inplace=True)\n",
    "y_valid = X_valid['class'].values"
   ]
  },
  {
   "cell_type": "code",
   "execution_count": 29,
   "metadata": {},
   "outputs": [
    {
     "data": {
      "text/html": [
       "<div>\n",
       "<style scoped>\n",
       "    .dataframe tbody tr th:only-of-type {\n",
       "        vertical-align: middle;\n",
       "    }\n",
       "\n",
       "    .dataframe tbody tr th {\n",
       "        vertical-align: top;\n",
       "    }\n",
       "\n",
       "    .dataframe thead th {\n",
       "        text-align: right;\n",
       "    }\n",
       "</style>\n",
       "<table border=\"1\" class=\"dataframe\">\n",
       "  <thead>\n",
       "    <tr style=\"text-align: right;\">\n",
       "      <th></th>\n",
       "      <th>UF_1</th>\n",
       "      <th>UF_2</th>\n",
       "      <th>UF_3</th>\n",
       "      <th>UF_4</th>\n",
       "      <th>UF_5</th>\n",
       "      <th>UF_6</th>\n",
       "      <th>UF_7</th>\n",
       "      <th>IDADE</th>\n",
       "      <th>SEXO_1</th>\n",
       "      <th>NIVEL_RELACIONAMENTO_CREDITO01</th>\n",
       "      <th>...</th>\n",
       "      <th>CEP4_8</th>\n",
       "      <th>CEP4_9</th>\n",
       "      <th>CEP4_10</th>\n",
       "      <th>CEP4_11</th>\n",
       "      <th>CEP4_12</th>\n",
       "      <th>CEP4_13</th>\n",
       "      <th>CEP4_14</th>\n",
       "      <th>IND_BOM_1_1</th>\n",
       "      <th>IND_BOM_1_2</th>\n",
       "      <th>class</th>\n",
       "    </tr>\n",
       "  </thead>\n",
       "  <tbody>\n",
       "    <tr>\n",
       "      <th>0</th>\n",
       "      <td>1</td>\n",
       "      <td>0</td>\n",
       "      <td>0</td>\n",
       "      <td>0</td>\n",
       "      <td>0</td>\n",
       "      <td>1</td>\n",
       "      <td>1</td>\n",
       "      <td>0.484549</td>\n",
       "      <td>1</td>\n",
       "      <td>0.111111</td>\n",
       "      <td>...</td>\n",
       "      <td>0</td>\n",
       "      <td>1</td>\n",
       "      <td>0</td>\n",
       "      <td>0</td>\n",
       "      <td>1</td>\n",
       "      <td>0</td>\n",
       "      <td>1</td>\n",
       "      <td>1</td>\n",
       "      <td>0</td>\n",
       "      <td>0</td>\n",
       "    </tr>\n",
       "    <tr>\n",
       "      <th>1</th>\n",
       "      <td>1</td>\n",
       "      <td>0</td>\n",
       "      <td>0</td>\n",
       "      <td>1</td>\n",
       "      <td>1</td>\n",
       "      <td>0</td>\n",
       "      <td>0</td>\n",
       "      <td>0.056723</td>\n",
       "      <td>1</td>\n",
       "      <td>0.111111</td>\n",
       "      <td>...</td>\n",
       "      <td>1</td>\n",
       "      <td>0</td>\n",
       "      <td>0</td>\n",
       "      <td>1</td>\n",
       "      <td>1</td>\n",
       "      <td>1</td>\n",
       "      <td>0</td>\n",
       "      <td>0</td>\n",
       "      <td>1</td>\n",
       "      <td>1</td>\n",
       "    </tr>\n",
       "    <tr>\n",
       "      <th>2</th>\n",
       "      <td>1</td>\n",
       "      <td>0</td>\n",
       "      <td>1</td>\n",
       "      <td>0</td>\n",
       "      <td>0</td>\n",
       "      <td>1</td>\n",
       "      <td>0</td>\n",
       "      <td>0.480517</td>\n",
       "      <td>0</td>\n",
       "      <td>0.111111</td>\n",
       "      <td>...</td>\n",
       "      <td>1</td>\n",
       "      <td>0</td>\n",
       "      <td>1</td>\n",
       "      <td>0</td>\n",
       "      <td>0</td>\n",
       "      <td>1</td>\n",
       "      <td>1</td>\n",
       "      <td>0</td>\n",
       "      <td>1</td>\n",
       "      <td>1</td>\n",
       "    </tr>\n",
       "    <tr>\n",
       "      <th>3</th>\n",
       "      <td>1</td>\n",
       "      <td>0</td>\n",
       "      <td>0</td>\n",
       "      <td>1</td>\n",
       "      <td>0</td>\n",
       "      <td>0</td>\n",
       "      <td>1</td>\n",
       "      <td>0.210974</td>\n",
       "      <td>1</td>\n",
       "      <td>0.111111</td>\n",
       "      <td>...</td>\n",
       "      <td>0</td>\n",
       "      <td>0</td>\n",
       "      <td>1</td>\n",
       "      <td>1</td>\n",
       "      <td>0</td>\n",
       "      <td>0</td>\n",
       "      <td>0</td>\n",
       "      <td>0</td>\n",
       "      <td>1</td>\n",
       "      <td>1</td>\n",
       "    </tr>\n",
       "    <tr>\n",
       "      <th>4</th>\n",
       "      <td>1</td>\n",
       "      <td>1</td>\n",
       "      <td>1</td>\n",
       "      <td>0</td>\n",
       "      <td>0</td>\n",
       "      <td>0</td>\n",
       "      <td>0</td>\n",
       "      <td>0.176444</td>\n",
       "      <td>0</td>\n",
       "      <td>0.111111</td>\n",
       "      <td>...</td>\n",
       "      <td>1</td>\n",
       "      <td>0</td>\n",
       "      <td>0</td>\n",
       "      <td>1</td>\n",
       "      <td>0</td>\n",
       "      <td>0</td>\n",
       "      <td>1</td>\n",
       "      <td>1</td>\n",
       "      <td>0</td>\n",
       "      <td>0</td>\n",
       "    </tr>\n",
       "    <tr>\n",
       "      <th>...</th>\n",
       "      <td>...</td>\n",
       "      <td>...</td>\n",
       "      <td>...</td>\n",
       "      <td>...</td>\n",
       "      <td>...</td>\n",
       "      <td>...</td>\n",
       "      <td>...</td>\n",
       "      <td>...</td>\n",
       "      <td>...</td>\n",
       "      <td>...</td>\n",
       "      <td>...</td>\n",
       "      <td>...</td>\n",
       "      <td>...</td>\n",
       "      <td>...</td>\n",
       "      <td>...</td>\n",
       "      <td>...</td>\n",
       "      <td>...</td>\n",
       "      <td>...</td>\n",
       "      <td>...</td>\n",
       "      <td>...</td>\n",
       "      <td>...</td>\n",
       "    </tr>\n",
       "    <tr>\n",
       "      <th>97293</th>\n",
       "      <td>1</td>\n",
       "      <td>0</td>\n",
       "      <td>1</td>\n",
       "      <td>0</td>\n",
       "      <td>1</td>\n",
       "      <td>0</td>\n",
       "      <td>0</td>\n",
       "      <td>0.523680</td>\n",
       "      <td>0</td>\n",
       "      <td>0.111111</td>\n",
       "      <td>...</td>\n",
       "      <td>1</td>\n",
       "      <td>1</td>\n",
       "      <td>0</td>\n",
       "      <td>0</td>\n",
       "      <td>0</td>\n",
       "      <td>0</td>\n",
       "      <td>1</td>\n",
       "      <td>1</td>\n",
       "      <td>0</td>\n",
       "      <td>0</td>\n",
       "    </tr>\n",
       "    <tr>\n",
       "      <th>97294</th>\n",
       "      <td>0</td>\n",
       "      <td>1</td>\n",
       "      <td>0</td>\n",
       "      <td>0</td>\n",
       "      <td>1</td>\n",
       "      <td>0</td>\n",
       "      <td>1</td>\n",
       "      <td>0.151454</td>\n",
       "      <td>0</td>\n",
       "      <td>0.111111</td>\n",
       "      <td>...</td>\n",
       "      <td>0</td>\n",
       "      <td>1</td>\n",
       "      <td>1</td>\n",
       "      <td>1</td>\n",
       "      <td>1</td>\n",
       "      <td>0</td>\n",
       "      <td>0</td>\n",
       "      <td>0</td>\n",
       "      <td>1</td>\n",
       "      <td>1</td>\n",
       "    </tr>\n",
       "    <tr>\n",
       "      <th>97295</th>\n",
       "      <td>0</td>\n",
       "      <td>1</td>\n",
       "      <td>1</td>\n",
       "      <td>0</td>\n",
       "      <td>1</td>\n",
       "      <td>0</td>\n",
       "      <td>0</td>\n",
       "      <td>0.477620</td>\n",
       "      <td>1</td>\n",
       "      <td>0.111111</td>\n",
       "      <td>...</td>\n",
       "      <td>0</td>\n",
       "      <td>1</td>\n",
       "      <td>1</td>\n",
       "      <td>0</td>\n",
       "      <td>1</td>\n",
       "      <td>0</td>\n",
       "      <td>1</td>\n",
       "      <td>1</td>\n",
       "      <td>0</td>\n",
       "      <td>0</td>\n",
       "    </tr>\n",
       "    <tr>\n",
       "      <th>97296</th>\n",
       "      <td>1</td>\n",
       "      <td>1</td>\n",
       "      <td>0</td>\n",
       "      <td>0</td>\n",
       "      <td>0</td>\n",
       "      <td>0</td>\n",
       "      <td>1</td>\n",
       "      <td>0.533392</td>\n",
       "      <td>0</td>\n",
       "      <td>0.111111</td>\n",
       "      <td>...</td>\n",
       "      <td>1</td>\n",
       "      <td>0</td>\n",
       "      <td>0</td>\n",
       "      <td>1</td>\n",
       "      <td>0</td>\n",
       "      <td>0</td>\n",
       "      <td>0</td>\n",
       "      <td>1</td>\n",
       "      <td>0</td>\n",
       "      <td>0</td>\n",
       "    </tr>\n",
       "    <tr>\n",
       "      <th>97297</th>\n",
       "      <td>1</td>\n",
       "      <td>1</td>\n",
       "      <td>0</td>\n",
       "      <td>0</td>\n",
       "      <td>0</td>\n",
       "      <td>0</td>\n",
       "      <td>1</td>\n",
       "      <td>0.609041</td>\n",
       "      <td>1</td>\n",
       "      <td>0.111111</td>\n",
       "      <td>...</td>\n",
       "      <td>0</td>\n",
       "      <td>1</td>\n",
       "      <td>0</td>\n",
       "      <td>1</td>\n",
       "      <td>0</td>\n",
       "      <td>0</td>\n",
       "      <td>0</td>\n",
       "      <td>1</td>\n",
       "      <td>0</td>\n",
       "      <td>0</td>\n",
       "    </tr>\n",
       "  </tbody>\n",
       "</table>\n",
       "<p>97298 rows × 246 columns</p>\n",
       "</div>"
      ],
      "text/plain": [
       "       UF_1  UF_2  UF_3  UF_4  UF_5  UF_6  UF_7     IDADE  SEXO_1  \\\n",
       "0         1     0     0     0     0     1     1  0.484549       1   \n",
       "1         1     0     0     1     1     0     0  0.056723       1   \n",
       "2         1     0     1     0     0     1     0  0.480517       0   \n",
       "3         1     0     0     1     0     0     1  0.210974       1   \n",
       "4         1     1     1     0     0     0     0  0.176444       0   \n",
       "...     ...   ...   ...   ...   ...   ...   ...       ...     ...   \n",
       "97293     1     0     1     0     1     0     0  0.523680       0   \n",
       "97294     0     1     0     0     1     0     1  0.151454       0   \n",
       "97295     0     1     1     0     1     0     0  0.477620       1   \n",
       "97296     1     1     0     0     0     0     1  0.533392       0   \n",
       "97297     1     1     0     0     0     0     1  0.609041       1   \n",
       "\n",
       "       NIVEL_RELACIONAMENTO_CREDITO01  ...  CEP4_8  CEP4_9  CEP4_10  CEP4_11  \\\n",
       "0                            0.111111  ...       0       1        0        0   \n",
       "1                            0.111111  ...       1       0        0        1   \n",
       "2                            0.111111  ...       1       0        1        0   \n",
       "3                            0.111111  ...       0       0        1        1   \n",
       "4                            0.111111  ...       1       0        0        1   \n",
       "...                               ...  ...     ...     ...      ...      ...   \n",
       "97293                        0.111111  ...       1       1        0        0   \n",
       "97294                        0.111111  ...       0       1        1        1   \n",
       "97295                        0.111111  ...       0       1        1        0   \n",
       "97296                        0.111111  ...       1       0        0        1   \n",
       "97297                        0.111111  ...       0       1        0        1   \n",
       "\n",
       "       CEP4_12  CEP4_13  CEP4_14  IND_BOM_1_1  IND_BOM_1_2  class  \n",
       "0            1        0        1            1            0      0  \n",
       "1            1        1        0            0            1      1  \n",
       "2            0        1        1            0            1      1  \n",
       "3            0        0        0            0            1      1  \n",
       "4            0        0        1            1            0      0  \n",
       "...        ...      ...      ...          ...          ...    ...  \n",
       "97293        0        0        1            1            0      0  \n",
       "97294        1        0        0            0            1      1  \n",
       "97295        1        0        1            1            0      0  \n",
       "97296        0        0        0            1            0      0  \n",
       "97297        0        0        0            1            0      0  \n",
       "\n",
       "[97298 rows x 246 columns]"
      ]
     },
     "execution_count": 29,
     "metadata": {},
     "output_type": "execute_result"
    }
   ],
   "source": [
    "X_valid"
   ]
  },
  {
   "cell_type": "code",
   "execution_count": 30,
   "metadata": {},
   "outputs": [
    {
     "data": {
      "text/plain": [
       "array([0, 1, 1, ..., 0, 0, 0], dtype=int64)"
      ]
     },
     "execution_count": 30,
     "metadata": {},
     "output_type": "execute_result"
    }
   ],
   "source": [
    "y_valid"
   ]
  },
  {
   "cell_type": "code",
   "execution_count": 31,
   "metadata": {},
   "outputs": [],
   "source": [
    "X_test = pd.concat([X_test_class_0, X_test_class_1])\n",
    "X_test = shuffle(X_test, random_state=13)\n",
    "X_test.reset_index(drop=True, inplace=True)\n",
    "y_test = X_test['class'].values"
   ]
  },
  {
   "cell_type": "code",
   "execution_count": 32,
   "metadata": {},
   "outputs": [
    {
     "data": {
      "text/html": [
       "<div>\n",
       "<style scoped>\n",
       "    .dataframe tbody tr th:only-of-type {\n",
       "        vertical-align: middle;\n",
       "    }\n",
       "\n",
       "    .dataframe tbody tr th {\n",
       "        vertical-align: top;\n",
       "    }\n",
       "\n",
       "    .dataframe thead th {\n",
       "        text-align: right;\n",
       "    }\n",
       "</style>\n",
       "<table border=\"1\" class=\"dataframe\">\n",
       "  <thead>\n",
       "    <tr style=\"text-align: right;\">\n",
       "      <th></th>\n",
       "      <th>UF_1</th>\n",
       "      <th>UF_2</th>\n",
       "      <th>UF_3</th>\n",
       "      <th>UF_4</th>\n",
       "      <th>UF_5</th>\n",
       "      <th>UF_6</th>\n",
       "      <th>UF_7</th>\n",
       "      <th>IDADE</th>\n",
       "      <th>SEXO_1</th>\n",
       "      <th>NIVEL_RELACIONAMENTO_CREDITO01</th>\n",
       "      <th>...</th>\n",
       "      <th>CEP4_8</th>\n",
       "      <th>CEP4_9</th>\n",
       "      <th>CEP4_10</th>\n",
       "      <th>CEP4_11</th>\n",
       "      <th>CEP4_12</th>\n",
       "      <th>CEP4_13</th>\n",
       "      <th>CEP4_14</th>\n",
       "      <th>IND_BOM_1_1</th>\n",
       "      <th>IND_BOM_1_2</th>\n",
       "      <th>class</th>\n",
       "    </tr>\n",
       "  </thead>\n",
       "  <tbody>\n",
       "    <tr>\n",
       "      <th>0</th>\n",
       "      <td>0</td>\n",
       "      <td>1</td>\n",
       "      <td>0</td>\n",
       "      <td>0</td>\n",
       "      <td>1</td>\n",
       "      <td>0</td>\n",
       "      <td>1</td>\n",
       "      <td>0.203307</td>\n",
       "      <td>1</td>\n",
       "      <td>0.111111</td>\n",
       "      <td>...</td>\n",
       "      <td>1</td>\n",
       "      <td>1</td>\n",
       "      <td>1</td>\n",
       "      <td>0</td>\n",
       "      <td>0</td>\n",
       "      <td>0</td>\n",
       "      <td>1</td>\n",
       "      <td>0</td>\n",
       "      <td>1</td>\n",
       "      <td>1</td>\n",
       "    </tr>\n",
       "    <tr>\n",
       "      <th>1</th>\n",
       "      <td>0</td>\n",
       "      <td>1</td>\n",
       "      <td>0</td>\n",
       "      <td>1</td>\n",
       "      <td>0</td>\n",
       "      <td>1</td>\n",
       "      <td>0</td>\n",
       "      <td>0.463081</td>\n",
       "      <td>0</td>\n",
       "      <td>0.111111</td>\n",
       "      <td>...</td>\n",
       "      <td>0</td>\n",
       "      <td>0</td>\n",
       "      <td>0</td>\n",
       "      <td>1</td>\n",
       "      <td>1</td>\n",
       "      <td>0</td>\n",
       "      <td>0</td>\n",
       "      <td>1</td>\n",
       "      <td>0</td>\n",
       "      <td>0</td>\n",
       "    </tr>\n",
       "    <tr>\n",
       "      <th>2</th>\n",
       "      <td>1</td>\n",
       "      <td>0</td>\n",
       "      <td>1</td>\n",
       "      <td>1</td>\n",
       "      <td>0</td>\n",
       "      <td>0</td>\n",
       "      <td>0</td>\n",
       "      <td>0.700820</td>\n",
       "      <td>1</td>\n",
       "      <td>0.111111</td>\n",
       "      <td>...</td>\n",
       "      <td>0</td>\n",
       "      <td>1</td>\n",
       "      <td>1</td>\n",
       "      <td>1</td>\n",
       "      <td>1</td>\n",
       "      <td>0</td>\n",
       "      <td>1</td>\n",
       "      <td>0</td>\n",
       "      <td>1</td>\n",
       "      <td>1</td>\n",
       "    </tr>\n",
       "    <tr>\n",
       "      <th>3</th>\n",
       "      <td>1</td>\n",
       "      <td>1</td>\n",
       "      <td>0</td>\n",
       "      <td>0</td>\n",
       "      <td>0</td>\n",
       "      <td>1</td>\n",
       "      <td>0</td>\n",
       "      <td>0.561164</td>\n",
       "      <td>0</td>\n",
       "      <td>0.111111</td>\n",
       "      <td>...</td>\n",
       "      <td>0</td>\n",
       "      <td>0</td>\n",
       "      <td>0</td>\n",
       "      <td>0</td>\n",
       "      <td>1</td>\n",
       "      <td>1</td>\n",
       "      <td>0</td>\n",
       "      <td>1</td>\n",
       "      <td>0</td>\n",
       "      <td>0</td>\n",
       "    </tr>\n",
       "    <tr>\n",
       "      <th>4</th>\n",
       "      <td>1</td>\n",
       "      <td>1</td>\n",
       "      <td>1</td>\n",
       "      <td>0</td>\n",
       "      <td>0</td>\n",
       "      <td>0</td>\n",
       "      <td>0</td>\n",
       "      <td>0.170537</td>\n",
       "      <td>1</td>\n",
       "      <td>0.111111</td>\n",
       "      <td>...</td>\n",
       "      <td>1</td>\n",
       "      <td>0</td>\n",
       "      <td>0</td>\n",
       "      <td>0</td>\n",
       "      <td>1</td>\n",
       "      <td>1</td>\n",
       "      <td>0</td>\n",
       "      <td>0</td>\n",
       "      <td>1</td>\n",
       "      <td>1</td>\n",
       "    </tr>\n",
       "    <tr>\n",
       "      <th>...</th>\n",
       "      <td>...</td>\n",
       "      <td>...</td>\n",
       "      <td>...</td>\n",
       "      <td>...</td>\n",
       "      <td>...</td>\n",
       "      <td>...</td>\n",
       "      <td>...</td>\n",
       "      <td>...</td>\n",
       "      <td>...</td>\n",
       "      <td>...</td>\n",
       "      <td>...</td>\n",
       "      <td>...</td>\n",
       "      <td>...</td>\n",
       "      <td>...</td>\n",
       "      <td>...</td>\n",
       "      <td>...</td>\n",
       "      <td>...</td>\n",
       "      <td>...</td>\n",
       "      <td>...</td>\n",
       "      <td>...</td>\n",
       "      <td>...</td>\n",
       "    </tr>\n",
       "    <tr>\n",
       "      <th>97295</th>\n",
       "      <td>1</td>\n",
       "      <td>1</td>\n",
       "      <td>1</td>\n",
       "      <td>0</td>\n",
       "      <td>0</td>\n",
       "      <td>0</td>\n",
       "      <td>0</td>\n",
       "      <td>0.135495</td>\n",
       "      <td>1</td>\n",
       "      <td>0.111111</td>\n",
       "      <td>...</td>\n",
       "      <td>1</td>\n",
       "      <td>0</td>\n",
       "      <td>0</td>\n",
       "      <td>1</td>\n",
       "      <td>0</td>\n",
       "      <td>0</td>\n",
       "      <td>0</td>\n",
       "      <td>1</td>\n",
       "      <td>0</td>\n",
       "      <td>0</td>\n",
       "    </tr>\n",
       "    <tr>\n",
       "      <th>97296</th>\n",
       "      <td>1</td>\n",
       "      <td>0</td>\n",
       "      <td>1</td>\n",
       "      <td>0</td>\n",
       "      <td>0</td>\n",
       "      <td>1</td>\n",
       "      <td>0</td>\n",
       "      <td>0.056609</td>\n",
       "      <td>0</td>\n",
       "      <td>0.111111</td>\n",
       "      <td>...</td>\n",
       "      <td>1</td>\n",
       "      <td>1</td>\n",
       "      <td>0</td>\n",
       "      <td>0</td>\n",
       "      <td>0</td>\n",
       "      <td>0</td>\n",
       "      <td>0</td>\n",
       "      <td>0</td>\n",
       "      <td>1</td>\n",
       "      <td>1</td>\n",
       "    </tr>\n",
       "    <tr>\n",
       "      <th>97297</th>\n",
       "      <td>0</td>\n",
       "      <td>1</td>\n",
       "      <td>0</td>\n",
       "      <td>1</td>\n",
       "      <td>0</td>\n",
       "      <td>0</td>\n",
       "      <td>1</td>\n",
       "      <td>0.024918</td>\n",
       "      <td>0</td>\n",
       "      <td>0.111111</td>\n",
       "      <td>...</td>\n",
       "      <td>1</td>\n",
       "      <td>0</td>\n",
       "      <td>1</td>\n",
       "      <td>1</td>\n",
       "      <td>0</td>\n",
       "      <td>0</td>\n",
       "      <td>0</td>\n",
       "      <td>0</td>\n",
       "      <td>1</td>\n",
       "      <td>1</td>\n",
       "    </tr>\n",
       "    <tr>\n",
       "      <th>97298</th>\n",
       "      <td>1</td>\n",
       "      <td>1</td>\n",
       "      <td>0</td>\n",
       "      <td>0</td>\n",
       "      <td>1</td>\n",
       "      <td>0</td>\n",
       "      <td>0</td>\n",
       "      <td>0.195129</td>\n",
       "      <td>0</td>\n",
       "      <td>0.111111</td>\n",
       "      <td>...</td>\n",
       "      <td>0</td>\n",
       "      <td>1</td>\n",
       "      <td>1</td>\n",
       "      <td>1</td>\n",
       "      <td>0</td>\n",
       "      <td>1</td>\n",
       "      <td>1</td>\n",
       "      <td>1</td>\n",
       "      <td>0</td>\n",
       "      <td>0</td>\n",
       "    </tr>\n",
       "    <tr>\n",
       "      <th>97299</th>\n",
       "      <td>1</td>\n",
       "      <td>1</td>\n",
       "      <td>1</td>\n",
       "      <td>0</td>\n",
       "      <td>0</td>\n",
       "      <td>0</td>\n",
       "      <td>0</td>\n",
       "      <td>0.722401</td>\n",
       "      <td>1</td>\n",
       "      <td>0.111111</td>\n",
       "      <td>...</td>\n",
       "      <td>0</td>\n",
       "      <td>0</td>\n",
       "      <td>1</td>\n",
       "      <td>1</td>\n",
       "      <td>0</td>\n",
       "      <td>1</td>\n",
       "      <td>0</td>\n",
       "      <td>1</td>\n",
       "      <td>0</td>\n",
       "      <td>0</td>\n",
       "    </tr>\n",
       "  </tbody>\n",
       "</table>\n",
       "<p>97300 rows × 246 columns</p>\n",
       "</div>"
      ],
      "text/plain": [
       "       UF_1  UF_2  UF_3  UF_4  UF_5  UF_6  UF_7     IDADE  SEXO_1  \\\n",
       "0         0     1     0     0     1     0     1  0.203307       1   \n",
       "1         0     1     0     1     0     1     0  0.463081       0   \n",
       "2         1     0     1     1     0     0     0  0.700820       1   \n",
       "3         1     1     0     0     0     1     0  0.561164       0   \n",
       "4         1     1     1     0     0     0     0  0.170537       1   \n",
       "...     ...   ...   ...   ...   ...   ...   ...       ...     ...   \n",
       "97295     1     1     1     0     0     0     0  0.135495       1   \n",
       "97296     1     0     1     0     0     1     0  0.056609       0   \n",
       "97297     0     1     0     1     0     0     1  0.024918       0   \n",
       "97298     1     1     0     0     1     0     0  0.195129       0   \n",
       "97299     1     1     1     0     0     0     0  0.722401       1   \n",
       "\n",
       "       NIVEL_RELACIONAMENTO_CREDITO01  ...  CEP4_8  CEP4_9  CEP4_10  CEP4_11  \\\n",
       "0                            0.111111  ...       1       1        1        0   \n",
       "1                            0.111111  ...       0       0        0        1   \n",
       "2                            0.111111  ...       0       1        1        1   \n",
       "3                            0.111111  ...       0       0        0        0   \n",
       "4                            0.111111  ...       1       0        0        0   \n",
       "...                               ...  ...     ...     ...      ...      ...   \n",
       "97295                        0.111111  ...       1       0        0        1   \n",
       "97296                        0.111111  ...       1       1        0        0   \n",
       "97297                        0.111111  ...       1       0        1        1   \n",
       "97298                        0.111111  ...       0       1        1        1   \n",
       "97299                        0.111111  ...       0       0        1        1   \n",
       "\n",
       "       CEP4_12  CEP4_13  CEP4_14  IND_BOM_1_1  IND_BOM_1_2  class  \n",
       "0            0        0        1            0            1      1  \n",
       "1            1        0        0            1            0      0  \n",
       "2            1        0        1            0            1      1  \n",
       "3            1        1        0            1            0      0  \n",
       "4            1        1        0            0            1      1  \n",
       "...        ...      ...      ...          ...          ...    ...  \n",
       "97295        0        0        0            1            0      0  \n",
       "97296        0        0        0            0            1      1  \n",
       "97297        0        0        0            0            1      1  \n",
       "97298        0        1        1            1            0      0  \n",
       "97299        0        1        0            1            0      0  \n",
       "\n",
       "[97300 rows x 246 columns]"
      ]
     },
     "execution_count": 32,
     "metadata": {},
     "output_type": "execute_result"
    }
   ],
   "source": [
    "X_test"
   ]
  },
  {
   "cell_type": "code",
   "execution_count": 33,
   "metadata": {},
   "outputs": [
    {
     "data": {
      "text/plain": [
       "array([1, 0, 1, ..., 1, 0, 0], dtype=int64)"
      ]
     },
     "execution_count": 33,
     "metadata": {},
     "output_type": "execute_result"
    }
   ],
   "source": [
    "y_test"
   ]
  },
  {
   "cell_type": "code",
   "execution_count": 34,
   "metadata": {
    "colab": {
     "base_uri": "https://localhost:8080/"
    },
    "id": "kYXB8xrPGsxn",
    "outputId": "ff3ec40c-36e3-4733-9e8d-ea20e47340c1"
   },
   "outputs": [
    {
     "name": "stdout",
     "output_type": "stream",
     "text": [
      "Quantidade de entradas para treino: 194598\n",
      "Quantidade de entradas para validação: 97298\n",
      "Quantidade de entradas para teste: 97300\n"
     ]
    }
   ],
   "source": [
    "print('Quantidade de entradas para treino:', len(X_train))\n",
    "print('Quantidade de entradas para validação:', len(X_valid))\n",
    "print('Quantidade de entradas para teste:', len(X_test))"
   ]
  },
  {
   "cell_type": "markdown",
   "metadata": {
    "id": "MgyWPQ9BGe3Q"
   },
   "source": [
    "### Oversampling - Replicar a classe minoritária para ficar do tamanho da classe majoritária"
   ]
  },
  {
   "cell_type": "code",
   "execution_count": 35,
   "metadata": {
    "colab": {
     "base_uri": "https://localhost:8080/"
    },
    "id": "5DFkN-JbH-AC",
    "outputId": "dc766e29-8e9b-4928-f09c-209cf07c3a71"
   },
   "outputs": [
    {
     "name": "stdout",
     "output_type": "stream",
     "text": [
      "Quantidade antes do over sampling\n",
      "Quantidade classe 0 treino: 127549\n",
      "Quantidade classe 1 treino: 67049\n",
      "Quantidade classe 0 validação: 63774\n",
      "Quantidade classe 1 validação: 33524\n",
      "Quantidade classe 0 teste: 63775\n",
      "Quantidade classe 1 teste: 33525\n"
     ]
    }
   ],
   "source": [
    "print('Quantidade antes do over sampling')\n",
    "print('Quantidade classe 0 treino:', (X_train[X_train['class'] == 0]).shape[0])\n",
    "print('Quantidade classe 1 treino:', (X_train[X_train['class'] == 1]).shape[0])\n",
    "print('Quantidade classe 0 validação:', (X_valid[X_valid['class'] == 0]).shape[0])\n",
    "print('Quantidade classe 1 validação:', (X_valid[X_valid['class'] == 1]).shape[0])\n",
    "print('Quantidade classe 0 teste:', (X_test[X_test['class'] == 0]).shape[0])\n",
    "print('Quantidade classe 1 teste:', (X_test[X_test['class'] == 1]).shape[0])"
   ]
  },
  {
   "cell_type": "code",
   "execution_count": 36,
   "metadata": {
    "id": "0uainKjAHCRU"
   },
   "outputs": [],
   "source": [
    "from imblearn.over_sampling import SMOTE"
   ]
  },
  {
   "cell_type": "markdown",
   "metadata": {},
   "source": [
    "Vamos utilizar a biblioteca imblearn para fazer o oversampling.\n",
    "\n",
    "Para isso usamos a função SMOTE (Synthetic Minority Over-sampling Technique) que cria por padrão novos dados sintéticos para a classe minoritária."
   ]
  },
  {
   "cell_type": "code",
   "execution_count": 37,
   "metadata": {},
   "outputs": [],
   "source": [
    "oversample = SMOTE(n_jobs=-1)\n",
    "X_train, y_train = oversample.fit_resample(X_train, y_train)"
   ]
  },
  {
   "cell_type": "code",
   "execution_count": 38,
   "metadata": {
    "colab": {
     "base_uri": "https://localhost:8080/"
    },
    "id": "RKABwcJjGnmp",
    "outputId": "a12c51de-5554-409c-e483-5c26d1c3edf6"
   },
   "outputs": [
    {
     "name": "stdout",
     "output_type": "stream",
     "text": [
      "Quantidade classe 0 treino: 127549\n",
      "Quantidade classe 1 treino: 127549\n"
     ]
    }
   ],
   "source": [
    "print('Quantidade classe 0 treino:', (X_train[X_train['class'] == 0]).shape[0])\n",
    "print('Quantidade classe 1 treino:', (X_train[X_train['class'] == 1]).shape[0])"
   ]
  },
  {
   "cell_type": "markdown",
   "metadata": {},
   "source": [
    "Como não sabemos se os dados estão embaralhados após o oversample, vamos embaralhar novamente."
   ]
  },
  {
   "cell_type": "code",
   "execution_count": 39,
   "metadata": {},
   "outputs": [],
   "source": [
    "X_train = shuffle(X_train, random_state=42)\n",
    "X_train.reset_index(drop=True, inplace=True)"
   ]
  },
  {
   "cell_type": "code",
   "execution_count": 40,
   "metadata": {},
   "outputs": [
    {
     "data": {
      "text/html": [
       "<div>\n",
       "<style scoped>\n",
       "    .dataframe tbody tr th:only-of-type {\n",
       "        vertical-align: middle;\n",
       "    }\n",
       "\n",
       "    .dataframe tbody tr th {\n",
       "        vertical-align: top;\n",
       "    }\n",
       "\n",
       "    .dataframe thead th {\n",
       "        text-align: right;\n",
       "    }\n",
       "</style>\n",
       "<table border=\"1\" class=\"dataframe\">\n",
       "  <thead>\n",
       "    <tr style=\"text-align: right;\">\n",
       "      <th></th>\n",
       "      <th>UF_1</th>\n",
       "      <th>UF_2</th>\n",
       "      <th>UF_3</th>\n",
       "      <th>UF_4</th>\n",
       "      <th>UF_5</th>\n",
       "      <th>UF_6</th>\n",
       "      <th>UF_7</th>\n",
       "      <th>IDADE</th>\n",
       "      <th>SEXO_1</th>\n",
       "      <th>NIVEL_RELACIONAMENTO_CREDITO01</th>\n",
       "      <th>...</th>\n",
       "      <th>CEP4_8</th>\n",
       "      <th>CEP4_9</th>\n",
       "      <th>CEP4_10</th>\n",
       "      <th>CEP4_11</th>\n",
       "      <th>CEP4_12</th>\n",
       "      <th>CEP4_13</th>\n",
       "      <th>CEP4_14</th>\n",
       "      <th>IND_BOM_1_1</th>\n",
       "      <th>IND_BOM_1_2</th>\n",
       "      <th>class</th>\n",
       "    </tr>\n",
       "  </thead>\n",
       "  <tbody>\n",
       "    <tr>\n",
       "      <th>0</th>\n",
       "      <td>1</td>\n",
       "      <td>1</td>\n",
       "      <td>1</td>\n",
       "      <td>0</td>\n",
       "      <td>0</td>\n",
       "      <td>0</td>\n",
       "      <td>0</td>\n",
       "      <td>0.140550</td>\n",
       "      <td>1</td>\n",
       "      <td>0.111111</td>\n",
       "      <td>...</td>\n",
       "      <td>1</td>\n",
       "      <td>1</td>\n",
       "      <td>0</td>\n",
       "      <td>0</td>\n",
       "      <td>0</td>\n",
       "      <td>0</td>\n",
       "      <td>0</td>\n",
       "      <td>1</td>\n",
       "      <td>0</td>\n",
       "      <td>0</td>\n",
       "    </tr>\n",
       "    <tr>\n",
       "      <th>1</th>\n",
       "      <td>1</td>\n",
       "      <td>1</td>\n",
       "      <td>0</td>\n",
       "      <td>0</td>\n",
       "      <td>0</td>\n",
       "      <td>0</td>\n",
       "      <td>1</td>\n",
       "      <td>0.243744</td>\n",
       "      <td>1</td>\n",
       "      <td>0.111111</td>\n",
       "      <td>...</td>\n",
       "      <td>1</td>\n",
       "      <td>1</td>\n",
       "      <td>1</td>\n",
       "      <td>0</td>\n",
       "      <td>0</td>\n",
       "      <td>0</td>\n",
       "      <td>0</td>\n",
       "      <td>0</td>\n",
       "      <td>1</td>\n",
       "      <td>1</td>\n",
       "    </tr>\n",
       "    <tr>\n",
       "      <th>2</th>\n",
       "      <td>1</td>\n",
       "      <td>0</td>\n",
       "      <td>1</td>\n",
       "      <td>0</td>\n",
       "      <td>0</td>\n",
       "      <td>0</td>\n",
       "      <td>1</td>\n",
       "      <td>0.641186</td>\n",
       "      <td>0</td>\n",
       "      <td>0.111111</td>\n",
       "      <td>...</td>\n",
       "      <td>1</td>\n",
       "      <td>1</td>\n",
       "      <td>1</td>\n",
       "      <td>0</td>\n",
       "      <td>0</td>\n",
       "      <td>0</td>\n",
       "      <td>1</td>\n",
       "      <td>1</td>\n",
       "      <td>0</td>\n",
       "      <td>0</td>\n",
       "    </tr>\n",
       "    <tr>\n",
       "      <th>3</th>\n",
       "      <td>1</td>\n",
       "      <td>0</td>\n",
       "      <td>0</td>\n",
       "      <td>0</td>\n",
       "      <td>1</td>\n",
       "      <td>0</td>\n",
       "      <td>1</td>\n",
       "      <td>0.657486</td>\n",
       "      <td>0</td>\n",
       "      <td>0.111111</td>\n",
       "      <td>...</td>\n",
       "      <td>0</td>\n",
       "      <td>0</td>\n",
       "      <td>0</td>\n",
       "      <td>0</td>\n",
       "      <td>0</td>\n",
       "      <td>1</td>\n",
       "      <td>0</td>\n",
       "      <td>1</td>\n",
       "      <td>0</td>\n",
       "      <td>0</td>\n",
       "    </tr>\n",
       "    <tr>\n",
       "      <th>4</th>\n",
       "      <td>1</td>\n",
       "      <td>0</td>\n",
       "      <td>1</td>\n",
       "      <td>0</td>\n",
       "      <td>0</td>\n",
       "      <td>0</td>\n",
       "      <td>1</td>\n",
       "      <td>0.189449</td>\n",
       "      <td>0</td>\n",
       "      <td>0.111111</td>\n",
       "      <td>...</td>\n",
       "      <td>1</td>\n",
       "      <td>0</td>\n",
       "      <td>0</td>\n",
       "      <td>1</td>\n",
       "      <td>1</td>\n",
       "      <td>0</td>\n",
       "      <td>0</td>\n",
       "      <td>0</td>\n",
       "      <td>1</td>\n",
       "      <td>1</td>\n",
       "    </tr>\n",
       "    <tr>\n",
       "      <th>...</th>\n",
       "      <td>...</td>\n",
       "      <td>...</td>\n",
       "      <td>...</td>\n",
       "      <td>...</td>\n",
       "      <td>...</td>\n",
       "      <td>...</td>\n",
       "      <td>...</td>\n",
       "      <td>...</td>\n",
       "      <td>...</td>\n",
       "      <td>...</td>\n",
       "      <td>...</td>\n",
       "      <td>...</td>\n",
       "      <td>...</td>\n",
       "      <td>...</td>\n",
       "      <td>...</td>\n",
       "      <td>...</td>\n",
       "      <td>...</td>\n",
       "      <td>...</td>\n",
       "      <td>...</td>\n",
       "      <td>...</td>\n",
       "      <td>...</td>\n",
       "    </tr>\n",
       "    <tr>\n",
       "      <th>255093</th>\n",
       "      <td>1</td>\n",
       "      <td>1</td>\n",
       "      <td>0</td>\n",
       "      <td>1</td>\n",
       "      <td>0</td>\n",
       "      <td>0</td>\n",
       "      <td>0</td>\n",
       "      <td>0.208078</td>\n",
       "      <td>0</td>\n",
       "      <td>0.111111</td>\n",
       "      <td>...</td>\n",
       "      <td>0</td>\n",
       "      <td>1</td>\n",
       "      <td>1</td>\n",
       "      <td>0</td>\n",
       "      <td>0</td>\n",
       "      <td>1</td>\n",
       "      <td>0</td>\n",
       "      <td>0</td>\n",
       "      <td>1</td>\n",
       "      <td>1</td>\n",
       "    </tr>\n",
       "    <tr>\n",
       "      <th>255094</th>\n",
       "      <td>1</td>\n",
       "      <td>1</td>\n",
       "      <td>1</td>\n",
       "      <td>0</td>\n",
       "      <td>0</td>\n",
       "      <td>0</td>\n",
       "      <td>0</td>\n",
       "      <td>0.479495</td>\n",
       "      <td>0</td>\n",
       "      <td>0.111111</td>\n",
       "      <td>...</td>\n",
       "      <td>0</td>\n",
       "      <td>0</td>\n",
       "      <td>1</td>\n",
       "      <td>1</td>\n",
       "      <td>0</td>\n",
       "      <td>1</td>\n",
       "      <td>0</td>\n",
       "      <td>0</td>\n",
       "      <td>1</td>\n",
       "      <td>1</td>\n",
       "    </tr>\n",
       "    <tr>\n",
       "      <th>255095</th>\n",
       "      <td>1</td>\n",
       "      <td>1</td>\n",
       "      <td>0</td>\n",
       "      <td>1</td>\n",
       "      <td>0</td>\n",
       "      <td>0</td>\n",
       "      <td>0</td>\n",
       "      <td>0.202796</td>\n",
       "      <td>0</td>\n",
       "      <td>0.111111</td>\n",
       "      <td>...</td>\n",
       "      <td>0</td>\n",
       "      <td>1</td>\n",
       "      <td>1</td>\n",
       "      <td>1</td>\n",
       "      <td>0</td>\n",
       "      <td>0</td>\n",
       "      <td>0</td>\n",
       "      <td>1</td>\n",
       "      <td>0</td>\n",
       "      <td>0</td>\n",
       "    </tr>\n",
       "    <tr>\n",
       "      <th>255096</th>\n",
       "      <td>1</td>\n",
       "      <td>1</td>\n",
       "      <td>1</td>\n",
       "      <td>0</td>\n",
       "      <td>0</td>\n",
       "      <td>0</td>\n",
       "      <td>0</td>\n",
       "      <td>0.797085</td>\n",
       "      <td>0</td>\n",
       "      <td>0.111111</td>\n",
       "      <td>...</td>\n",
       "      <td>0</td>\n",
       "      <td>0</td>\n",
       "      <td>1</td>\n",
       "      <td>1</td>\n",
       "      <td>1</td>\n",
       "      <td>0</td>\n",
       "      <td>1</td>\n",
       "      <td>0</td>\n",
       "      <td>1</td>\n",
       "      <td>1</td>\n",
       "    </tr>\n",
       "    <tr>\n",
       "      <th>255097</th>\n",
       "      <td>1</td>\n",
       "      <td>1</td>\n",
       "      <td>1</td>\n",
       "      <td>0</td>\n",
       "      <td>0</td>\n",
       "      <td>0</td>\n",
       "      <td>0</td>\n",
       "      <td>0.115504</td>\n",
       "      <td>1</td>\n",
       "      <td>0.111111</td>\n",
       "      <td>...</td>\n",
       "      <td>0</td>\n",
       "      <td>1</td>\n",
       "      <td>0</td>\n",
       "      <td>0</td>\n",
       "      <td>0</td>\n",
       "      <td>0</td>\n",
       "      <td>1</td>\n",
       "      <td>1</td>\n",
       "      <td>0</td>\n",
       "      <td>0</td>\n",
       "    </tr>\n",
       "  </tbody>\n",
       "</table>\n",
       "<p>255098 rows × 246 columns</p>\n",
       "</div>"
      ],
      "text/plain": [
       "        UF_1  UF_2  UF_3  UF_4  UF_5  UF_6  UF_7     IDADE  SEXO_1  \\\n",
       "0          1     1     1     0     0     0     0  0.140550       1   \n",
       "1          1     1     0     0     0     0     1  0.243744       1   \n",
       "2          1     0     1     0     0     0     1  0.641186       0   \n",
       "3          1     0     0     0     1     0     1  0.657486       0   \n",
       "4          1     0     1     0     0     0     1  0.189449       0   \n",
       "...      ...   ...   ...   ...   ...   ...   ...       ...     ...   \n",
       "255093     1     1     0     1     0     0     0  0.208078       0   \n",
       "255094     1     1     1     0     0     0     0  0.479495       0   \n",
       "255095     1     1     0     1     0     0     0  0.202796       0   \n",
       "255096     1     1     1     0     0     0     0  0.797085       0   \n",
       "255097     1     1     1     0     0     0     0  0.115504       1   \n",
       "\n",
       "        NIVEL_RELACIONAMENTO_CREDITO01  ...  CEP4_8  CEP4_9  CEP4_10  CEP4_11  \\\n",
       "0                             0.111111  ...       1       1        0        0   \n",
       "1                             0.111111  ...       1       1        1        0   \n",
       "2                             0.111111  ...       1       1        1        0   \n",
       "3                             0.111111  ...       0       0        0        0   \n",
       "4                             0.111111  ...       1       0        0        1   \n",
       "...                                ...  ...     ...     ...      ...      ...   \n",
       "255093                        0.111111  ...       0       1        1        0   \n",
       "255094                        0.111111  ...       0       0        1        1   \n",
       "255095                        0.111111  ...       0       1        1        1   \n",
       "255096                        0.111111  ...       0       0        1        1   \n",
       "255097                        0.111111  ...       0       1        0        0   \n",
       "\n",
       "        CEP4_12  CEP4_13  CEP4_14  IND_BOM_1_1  IND_BOM_1_2  class  \n",
       "0             0        0        0            1            0      0  \n",
       "1             0        0        0            0            1      1  \n",
       "2             0        0        1            1            0      0  \n",
       "3             0        1        0            1            0      0  \n",
       "4             1        0        0            0            1      1  \n",
       "...         ...      ...      ...          ...          ...    ...  \n",
       "255093        0        1        0            0            1      1  \n",
       "255094        0        1        0            0            1      1  \n",
       "255095        0        0        0            1            0      0  \n",
       "255096        1        0        1            0            1      1  \n",
       "255097        0        0        1            1            0      0  \n",
       "\n",
       "[255098 rows x 246 columns]"
      ]
     },
     "execution_count": 40,
     "metadata": {},
     "output_type": "execute_result"
    }
   ],
   "source": [
    "X_train"
   ]
  },
  {
   "cell_type": "markdown",
   "metadata": {},
   "source": [
    "Ao embaralhar os dados de X, perdemos a referência de y, como ainda temos a coluna \"class\" presente, vamos utilizar ela para obter o valor de y."
   ]
  },
  {
   "cell_type": "code",
   "execution_count": 41,
   "metadata": {},
   "outputs": [],
   "source": [
    "y_train = X_train['class'].values"
   ]
  },
  {
   "cell_type": "code",
   "execution_count": 42,
   "metadata": {},
   "outputs": [],
   "source": [
    "X_train.drop(['class', 'IND_BOM_1_1', 'IND_BOM_1_2'], axis=1, inplace=True)"
   ]
  },
  {
   "cell_type": "markdown",
   "metadata": {},
   "source": [
    "Vamos aplicar o mesmo para o conjunto de validação."
   ]
  },
  {
   "cell_type": "code",
   "execution_count": 43,
   "metadata": {
    "id": "1kmypf-nG-13"
   },
   "outputs": [],
   "source": [
    "oversample = SMOTE(n_jobs=-1)\n",
    "X_valid, y_valid = oversample.fit_resample(X_valid, y_valid)"
   ]
  },
  {
   "cell_type": "code",
   "execution_count": 44,
   "metadata": {},
   "outputs": [],
   "source": [
    "X_valid = shuffle(X_valid, random_state=15)\n",
    "X_valid.reset_index(drop=True, inplace=True)\n",
    "y_valid = X_valid['class'].values\n",
    "X_valid.drop(['class', 'IND_BOM_1_1', 'IND_BOM_1_2'], axis=1, inplace=True)"
   ]
  },
  {
   "cell_type": "code",
   "execution_count": 45,
   "metadata": {
    "colab": {
     "base_uri": "https://localhost:8080/"
    },
    "id": "EoeqqfV2G-_y",
    "outputId": "d7d7e19c-65dd-4e93-b359-649ce32e5c5a"
   },
   "outputs": [
    {
     "name": "stdout",
     "output_type": "stream",
     "text": [
      "Quantidade classe 0 valid: 63774\n",
      "Quantidade classe 1 valid: 63774\n"
     ]
    }
   ],
   "source": [
    "print('Quantidade classe 0 valid:', (y_valid == 0).sum())\n",
    "print('Quantidade classe 1 valid:', (y_valid == 1).sum())"
   ]
  },
  {
   "cell_type": "markdown",
   "metadata": {},
   "source": [
    "O Conjunto de teste não necessita de replicação, então vamos apenas dropar as colunas que não serão utilizadas."
   ]
  },
  {
   "cell_type": "code",
   "execution_count": 46,
   "metadata": {},
   "outputs": [],
   "source": [
    "X_test.drop(['class', 'IND_BOM_1_1', 'IND_BOM_1_2'], axis=1, inplace=True)"
   ]
  },
  {
   "cell_type": "code",
   "execution_count": 47,
   "metadata": {},
   "outputs": [
    {
     "data": {
      "text/html": [
       "<div>\n",
       "<style scoped>\n",
       "    .dataframe tbody tr th:only-of-type {\n",
       "        vertical-align: middle;\n",
       "    }\n",
       "\n",
       "    .dataframe tbody tr th {\n",
       "        vertical-align: top;\n",
       "    }\n",
       "\n",
       "    .dataframe thead th {\n",
       "        text-align: right;\n",
       "    }\n",
       "</style>\n",
       "<table border=\"1\" class=\"dataframe\">\n",
       "  <thead>\n",
       "    <tr style=\"text-align: right;\">\n",
       "      <th></th>\n",
       "      <th>UF_1</th>\n",
       "      <th>UF_2</th>\n",
       "      <th>UF_3</th>\n",
       "      <th>UF_4</th>\n",
       "      <th>UF_5</th>\n",
       "      <th>UF_6</th>\n",
       "      <th>UF_7</th>\n",
       "      <th>IDADE</th>\n",
       "      <th>SEXO_1</th>\n",
       "      <th>NIVEL_RELACIONAMENTO_CREDITO01</th>\n",
       "      <th>...</th>\n",
       "      <th>CEP4_5</th>\n",
       "      <th>CEP4_6</th>\n",
       "      <th>CEP4_7</th>\n",
       "      <th>CEP4_8</th>\n",
       "      <th>CEP4_9</th>\n",
       "      <th>CEP4_10</th>\n",
       "      <th>CEP4_11</th>\n",
       "      <th>CEP4_12</th>\n",
       "      <th>CEP4_13</th>\n",
       "      <th>CEP4_14</th>\n",
       "    </tr>\n",
       "  </thead>\n",
       "  <tbody>\n",
       "    <tr>\n",
       "      <th>0</th>\n",
       "      <td>0</td>\n",
       "      <td>1</td>\n",
       "      <td>0</td>\n",
       "      <td>0</td>\n",
       "      <td>1</td>\n",
       "      <td>0</td>\n",
       "      <td>1</td>\n",
       "      <td>0.203307</td>\n",
       "      <td>1</td>\n",
       "      <td>0.111111</td>\n",
       "      <td>...</td>\n",
       "      <td>0</td>\n",
       "      <td>0</td>\n",
       "      <td>0</td>\n",
       "      <td>1</td>\n",
       "      <td>1</td>\n",
       "      <td>1</td>\n",
       "      <td>0</td>\n",
       "      <td>0</td>\n",
       "      <td>0</td>\n",
       "      <td>1</td>\n",
       "    </tr>\n",
       "    <tr>\n",
       "      <th>1</th>\n",
       "      <td>0</td>\n",
       "      <td>1</td>\n",
       "      <td>0</td>\n",
       "      <td>1</td>\n",
       "      <td>0</td>\n",
       "      <td>1</td>\n",
       "      <td>0</td>\n",
       "      <td>0.463081</td>\n",
       "      <td>0</td>\n",
       "      <td>0.111111</td>\n",
       "      <td>...</td>\n",
       "      <td>0</td>\n",
       "      <td>0</td>\n",
       "      <td>1</td>\n",
       "      <td>0</td>\n",
       "      <td>0</td>\n",
       "      <td>0</td>\n",
       "      <td>1</td>\n",
       "      <td>1</td>\n",
       "      <td>0</td>\n",
       "      <td>0</td>\n",
       "    </tr>\n",
       "    <tr>\n",
       "      <th>2</th>\n",
       "      <td>1</td>\n",
       "      <td>0</td>\n",
       "      <td>1</td>\n",
       "      <td>1</td>\n",
       "      <td>0</td>\n",
       "      <td>0</td>\n",
       "      <td>0</td>\n",
       "      <td>0.700820</td>\n",
       "      <td>1</td>\n",
       "      <td>0.111111</td>\n",
       "      <td>...</td>\n",
       "      <td>1</td>\n",
       "      <td>0</td>\n",
       "      <td>0</td>\n",
       "      <td>0</td>\n",
       "      <td>1</td>\n",
       "      <td>1</td>\n",
       "      <td>1</td>\n",
       "      <td>1</td>\n",
       "      <td>0</td>\n",
       "      <td>1</td>\n",
       "    </tr>\n",
       "    <tr>\n",
       "      <th>3</th>\n",
       "      <td>1</td>\n",
       "      <td>1</td>\n",
       "      <td>0</td>\n",
       "      <td>0</td>\n",
       "      <td>0</td>\n",
       "      <td>1</td>\n",
       "      <td>0</td>\n",
       "      <td>0.561164</td>\n",
       "      <td>0</td>\n",
       "      <td>0.111111</td>\n",
       "      <td>...</td>\n",
       "      <td>0</td>\n",
       "      <td>0</td>\n",
       "      <td>1</td>\n",
       "      <td>0</td>\n",
       "      <td>0</td>\n",
       "      <td>0</td>\n",
       "      <td>0</td>\n",
       "      <td>1</td>\n",
       "      <td>1</td>\n",
       "      <td>0</td>\n",
       "    </tr>\n",
       "    <tr>\n",
       "      <th>4</th>\n",
       "      <td>1</td>\n",
       "      <td>1</td>\n",
       "      <td>1</td>\n",
       "      <td>0</td>\n",
       "      <td>0</td>\n",
       "      <td>0</td>\n",
       "      <td>0</td>\n",
       "      <td>0.170537</td>\n",
       "      <td>1</td>\n",
       "      <td>0.111111</td>\n",
       "      <td>...</td>\n",
       "      <td>0</td>\n",
       "      <td>1</td>\n",
       "      <td>0</td>\n",
       "      <td>1</td>\n",
       "      <td>0</td>\n",
       "      <td>0</td>\n",
       "      <td>0</td>\n",
       "      <td>1</td>\n",
       "      <td>1</td>\n",
       "      <td>0</td>\n",
       "    </tr>\n",
       "    <tr>\n",
       "      <th>...</th>\n",
       "      <td>...</td>\n",
       "      <td>...</td>\n",
       "      <td>...</td>\n",
       "      <td>...</td>\n",
       "      <td>...</td>\n",
       "      <td>...</td>\n",
       "      <td>...</td>\n",
       "      <td>...</td>\n",
       "      <td>...</td>\n",
       "      <td>...</td>\n",
       "      <td>...</td>\n",
       "      <td>...</td>\n",
       "      <td>...</td>\n",
       "      <td>...</td>\n",
       "      <td>...</td>\n",
       "      <td>...</td>\n",
       "      <td>...</td>\n",
       "      <td>...</td>\n",
       "      <td>...</td>\n",
       "      <td>...</td>\n",
       "      <td>...</td>\n",
       "    </tr>\n",
       "    <tr>\n",
       "      <th>97295</th>\n",
       "      <td>1</td>\n",
       "      <td>1</td>\n",
       "      <td>1</td>\n",
       "      <td>0</td>\n",
       "      <td>0</td>\n",
       "      <td>0</td>\n",
       "      <td>0</td>\n",
       "      <td>0.135495</td>\n",
       "      <td>1</td>\n",
       "      <td>0.111111</td>\n",
       "      <td>...</td>\n",
       "      <td>1</td>\n",
       "      <td>1</td>\n",
       "      <td>1</td>\n",
       "      <td>1</td>\n",
       "      <td>0</td>\n",
       "      <td>0</td>\n",
       "      <td>1</td>\n",
       "      <td>0</td>\n",
       "      <td>0</td>\n",
       "      <td>0</td>\n",
       "    </tr>\n",
       "    <tr>\n",
       "      <th>97296</th>\n",
       "      <td>1</td>\n",
       "      <td>0</td>\n",
       "      <td>1</td>\n",
       "      <td>0</td>\n",
       "      <td>0</td>\n",
       "      <td>1</td>\n",
       "      <td>0</td>\n",
       "      <td>0.056609</td>\n",
       "      <td>0</td>\n",
       "      <td>0.111111</td>\n",
       "      <td>...</td>\n",
       "      <td>1</td>\n",
       "      <td>0</td>\n",
       "      <td>1</td>\n",
       "      <td>1</td>\n",
       "      <td>1</td>\n",
       "      <td>0</td>\n",
       "      <td>0</td>\n",
       "      <td>0</td>\n",
       "      <td>0</td>\n",
       "      <td>0</td>\n",
       "    </tr>\n",
       "    <tr>\n",
       "      <th>97297</th>\n",
       "      <td>0</td>\n",
       "      <td>1</td>\n",
       "      <td>0</td>\n",
       "      <td>1</td>\n",
       "      <td>0</td>\n",
       "      <td>0</td>\n",
       "      <td>1</td>\n",
       "      <td>0.024918</td>\n",
       "      <td>0</td>\n",
       "      <td>0.111111</td>\n",
       "      <td>...</td>\n",
       "      <td>0</td>\n",
       "      <td>1</td>\n",
       "      <td>0</td>\n",
       "      <td>1</td>\n",
       "      <td>0</td>\n",
       "      <td>1</td>\n",
       "      <td>1</td>\n",
       "      <td>0</td>\n",
       "      <td>0</td>\n",
       "      <td>0</td>\n",
       "    </tr>\n",
       "    <tr>\n",
       "      <th>97298</th>\n",
       "      <td>1</td>\n",
       "      <td>1</td>\n",
       "      <td>0</td>\n",
       "      <td>0</td>\n",
       "      <td>1</td>\n",
       "      <td>0</td>\n",
       "      <td>0</td>\n",
       "      <td>0.195129</td>\n",
       "      <td>0</td>\n",
       "      <td>0.111111</td>\n",
       "      <td>...</td>\n",
       "      <td>0</td>\n",
       "      <td>0</td>\n",
       "      <td>0</td>\n",
       "      <td>0</td>\n",
       "      <td>1</td>\n",
       "      <td>1</td>\n",
       "      <td>1</td>\n",
       "      <td>0</td>\n",
       "      <td>1</td>\n",
       "      <td>1</td>\n",
       "    </tr>\n",
       "    <tr>\n",
       "      <th>97299</th>\n",
       "      <td>1</td>\n",
       "      <td>1</td>\n",
       "      <td>1</td>\n",
       "      <td>0</td>\n",
       "      <td>0</td>\n",
       "      <td>0</td>\n",
       "      <td>0</td>\n",
       "      <td>0.722401</td>\n",
       "      <td>1</td>\n",
       "      <td>0.111111</td>\n",
       "      <td>...</td>\n",
       "      <td>0</td>\n",
       "      <td>0</td>\n",
       "      <td>0</td>\n",
       "      <td>0</td>\n",
       "      <td>0</td>\n",
       "      <td>1</td>\n",
       "      <td>1</td>\n",
       "      <td>0</td>\n",
       "      <td>1</td>\n",
       "      <td>0</td>\n",
       "    </tr>\n",
       "  </tbody>\n",
       "</table>\n",
       "<p>97300 rows × 243 columns</p>\n",
       "</div>"
      ],
      "text/plain": [
       "       UF_1  UF_2  UF_3  UF_4  UF_5  UF_6  UF_7     IDADE  SEXO_1  \\\n",
       "0         0     1     0     0     1     0     1  0.203307       1   \n",
       "1         0     1     0     1     0     1     0  0.463081       0   \n",
       "2         1     0     1     1     0     0     0  0.700820       1   \n",
       "3         1     1     0     0     0     1     0  0.561164       0   \n",
       "4         1     1     1     0     0     0     0  0.170537       1   \n",
       "...     ...   ...   ...   ...   ...   ...   ...       ...     ...   \n",
       "97295     1     1     1     0     0     0     0  0.135495       1   \n",
       "97296     1     0     1     0     0     1     0  0.056609       0   \n",
       "97297     0     1     0     1     0     0     1  0.024918       0   \n",
       "97298     1     1     0     0     1     0     0  0.195129       0   \n",
       "97299     1     1     1     0     0     0     0  0.722401       1   \n",
       "\n",
       "       NIVEL_RELACIONAMENTO_CREDITO01  ...  CEP4_5  CEP4_6  CEP4_7  CEP4_8  \\\n",
       "0                            0.111111  ...       0       0       0       1   \n",
       "1                            0.111111  ...       0       0       1       0   \n",
       "2                            0.111111  ...       1       0       0       0   \n",
       "3                            0.111111  ...       0       0       1       0   \n",
       "4                            0.111111  ...       0       1       0       1   \n",
       "...                               ...  ...     ...     ...     ...     ...   \n",
       "97295                        0.111111  ...       1       1       1       1   \n",
       "97296                        0.111111  ...       1       0       1       1   \n",
       "97297                        0.111111  ...       0       1       0       1   \n",
       "97298                        0.111111  ...       0       0       0       0   \n",
       "97299                        0.111111  ...       0       0       0       0   \n",
       "\n",
       "       CEP4_9  CEP4_10  CEP4_11  CEP4_12  CEP4_13  CEP4_14  \n",
       "0           1        1        0        0        0        1  \n",
       "1           0        0        1        1        0        0  \n",
       "2           1        1        1        1        0        1  \n",
       "3           0        0        0        1        1        0  \n",
       "4           0        0        0        1        1        0  \n",
       "...       ...      ...      ...      ...      ...      ...  \n",
       "97295       0        0        1        0        0        0  \n",
       "97296       1        0        0        0        0        0  \n",
       "97297       0        1        1        0        0        0  \n",
       "97298       1        1        1        0        1        1  \n",
       "97299       0        1        1        0        1        0  \n",
       "\n",
       "[97300 rows x 243 columns]"
      ]
     },
     "execution_count": 47,
     "metadata": {},
     "output_type": "execute_result"
    }
   ],
   "source": [
    "X_test"
   ]
  },
  {
   "cell_type": "code",
   "execution_count": 48,
   "metadata": {},
   "outputs": [
    {
     "data": {
      "text/plain": [
       "array([1, 0, 1, ..., 1, 0, 0], dtype=int64)"
      ]
     },
     "execution_count": 48,
     "metadata": {},
     "output_type": "execute_result"
    }
   ],
   "source": [
    "y_test"
   ]
  },
  {
   "cell_type": "code",
   "execution_count": 49,
   "metadata": {
    "colab": {
     "base_uri": "https://localhost:8080/"
    },
    "id": "90TA_PmcG_SM",
    "outputId": "e000f1b9-513c-4bce-8ee6-f60f05f58eee"
   },
   "outputs": [
    {
     "name": "stdout",
     "output_type": "stream",
     "text": [
      "Quantidade classe 0 test: 63775\n",
      "Quantidade classe 1 test: 33525\n"
     ]
    }
   ],
   "source": [
    "print('Quantidade classe 0 test:', (y_test == 0).sum())\n",
    "print('Quantidade classe 1 test:', (y_test == 1).sum())"
   ]
  },
  {
   "cell_type": "markdown",
   "metadata": {
    "id": "wj8xxC5c4qDQ"
   },
   "source": [
    "# Funções auxiliares para métricas"
   ]
  },
  {
   "cell_type": "markdown",
   "metadata": {},
   "source": [
    "Métricas utilizadas:\n",
    "\n",
    "- Teste estatístico Kolmogorov-Smirnov (KS)\n",
    "\n",
    "- Acurácia\n",
    "\n",
    "- Recall\n",
    "\n",
    "- Precision\n",
    "\n",
    "- F1-Score\n",
    "\n",
    "- Auroc (Área sob a Curva Roc)\n",
    "\n",
    "- Matriz de confusão\n",
    "      [TP  FP]\n",
    "      [FN  TN]"
   ]
  },
  {
   "cell_type": "code",
   "execution_count": 50,
   "metadata": {
    "id": "TYEt721Q4t7Q"
   },
   "outputs": [],
   "source": [
    "from sklearn.metrics import confusion_matrix\n",
    "from sklearn.metrics import accuracy_score, recall_score, precision_score, f1_score\n",
    "from sklearn.metrics import roc_auc_score, average_precision_score\n",
    "from sklearn.metrics import roc_curve, RocCurveDisplay\n",
    "\n",
    "from scipy.stats import ks_2samp\n",
    "\n",
    "import matplotlib\n",
    "import matplotlib.pyplot as plt"
   ]
  },
  {
   "cell_type": "code",
   "execution_count": 51,
   "metadata": {},
   "outputs": [],
   "source": [
    "def plot_ks_statistic(y, y_pred_scores=None):\n",
    "    if y_pred_scores is not None:\n",
    "        skplt.metrics.plot_ks_statistic(y, y_pred_scores)\n",
    "        plt.show()"
   ]
  },
  {
   "cell_type": "code",
   "execution_count": 52,
   "metadata": {},
   "outputs": [],
   "source": [
    "def plot_roc_curve(actual, pred_proba):\n",
    "    skplt.metrics.plot_roc(actual, pred_proba)\n",
    "    plt.show()"
   ]
  },
  {
   "cell_type": "code",
   "execution_count": 53,
   "metadata": {
    "id": "g4vvpND1-2Il"
   },
   "outputs": [],
   "source": [
    "def print_metrics(actual, pred, pred_proba):\n",
    "    print('Accuracy: {:.4f}'.format(accuracy_score(actual, pred)))\n",
    "    print('Recall: {:.4f}'.format(recall_score(actual, pred)))\n",
    "    print('Precision: {:.4f}'.format(precision_score(actual, pred)))\n",
    "    print('F1-Score: {:.4f}'.format(f1_score(actual, pred)))\n",
    "    print('ROC AUC Score: {:.4f}'.format(roc_auc_score(actual, pred_proba[:, 1])))\n",
    "    print('Matriz de confusão no conjunto de teste:')\n",
    "    print(confusion_matrix(actual, pred))\n",
    "    plot_ks_statistic(actual, pred_proba)\n",
    "    plot_roc_curve(actual, pred_proba)"
   ]
  },
  {
   "cell_type": "code",
   "execution_count": 54,
   "metadata": {},
   "outputs": [],
   "source": [
    "def eval_metrics(actual, pred):\n",
    "    accuracy = accuracy_score(actual, pred)\n",
    "    recall = recall_score(actual, pred)\n",
    "    precision = precision_score(actual, pred)\n",
    "    f1 = f1_score(actual, pred)\n",
    "    return accuracy, recall, precision, f1"
   ]
  },
  {
   "cell_type": "code",
   "execution_count": 55,
   "metadata": {},
   "outputs": [],
   "source": [
    "def eval_ks_metric(actual, pred):\n",
    "    df = pd.DataFrame()\n",
    "    df['real'] = actual\n",
    "    df['proba'] = pred[:, 1]\n",
    "    \n",
    "    # Recover each class\n",
    "    class0 = df[df['real'] == 0]\n",
    "    class1 = df[df['real'] == 1]\n",
    "    ks_stat = ks_2samp(class0['proba'], class1['proba'])\n",
    "    return ks_stat.statistic"
   ]
  },
  {
   "cell_type": "markdown",
   "metadata": {},
   "source": [
    "# Algoritmos"
   ]
  },
  {
   "cell_type": "code",
   "execution_count": 56,
   "metadata": {},
   "outputs": [],
   "source": [
    "n_trials=100"
   ]
  },
  {
   "cell_type": "markdown",
   "metadata": {
    "id": "mYwhyxkdEt16"
   },
   "source": [
    "### Modelo MLP"
   ]
  },
  {
   "cell_type": "markdown",
   "metadata": {},
   "source": [
    "Descrição dos principais parâmetros:\n",
    "\n",
    " - hidden_layer_sizes: tupla, comprimento da camada oculta. O padrão é (100,), o que significa uma única camada oculta com 100 neurônios.\n",
    "\n",
    " - activation: função de ativação para a camada oculta. Os valores possíveis são ‘identity’, ‘logistic’, ‘tanh’, ‘relu’. O padrão é ‘relu’.\n",
    "\n",
    " - learning_rate_init: a taxa de aprendizado inicial para ‘sgd’ ou ‘adam’. O padrão é 0,001."
   ]
  },
  {
   "cell_type": "code",
   "execution_count": 57,
   "metadata": {},
   "outputs": [],
   "source": [
    "from sklearn.neural_network import MLPClassifier"
   ]
  },
  {
   "cell_type": "markdown",
   "metadata": {},
   "source": [
    "#### 1ª Configuração"
   ]
  },
  {
   "cell_type": "code",
   "execution_count": 58,
   "metadata": {},
   "outputs": [],
   "source": [
    "mlp_clf = MLPClassifier(random_state=67)"
   ]
  },
  {
   "cell_type": "code",
   "execution_count": 59,
   "metadata": {},
   "outputs": [
    {
     "name": "stdout",
     "output_type": "stream",
     "text": [
      "CPU times: total: 17min 21s\n",
      "Wall time: 5min 5s\n"
     ]
    },
    {
     "name": "stderr",
     "output_type": "stream",
     "text": [
      "c:\\Users\\jonat\\anaconda3\\lib\\site-packages\\sklearn\\neural_network\\_multilayer_perceptron.py:702: ConvergenceWarning: Stochastic Optimizer: Maximum iterations (200) reached and the optimization hasn't converged yet.\n",
      "  warnings.warn(\n"
     ]
    },
    {
     "data": {
      "text/html": [
       "<style>#sk-container-id-1 {color: black;background-color: white;}#sk-container-id-1 pre{padding: 0;}#sk-container-id-1 div.sk-toggleable {background-color: white;}#sk-container-id-1 label.sk-toggleable__label {cursor: pointer;display: block;width: 100%;margin-bottom: 0;padding: 0.3em;box-sizing: border-box;text-align: center;}#sk-container-id-1 label.sk-toggleable__label-arrow:before {content: \"▸\";float: left;margin-right: 0.25em;color: #696969;}#sk-container-id-1 label.sk-toggleable__label-arrow:hover:before {color: black;}#sk-container-id-1 div.sk-estimator:hover label.sk-toggleable__label-arrow:before {color: black;}#sk-container-id-1 div.sk-toggleable__content {max-height: 0;max-width: 0;overflow: hidden;text-align: left;background-color: #f0f8ff;}#sk-container-id-1 div.sk-toggleable__content pre {margin: 0.2em;color: black;border-radius: 0.25em;background-color: #f0f8ff;}#sk-container-id-1 input.sk-toggleable__control:checked~div.sk-toggleable__content {max-height: 200px;max-width: 100%;overflow: auto;}#sk-container-id-1 input.sk-toggleable__control:checked~label.sk-toggleable__label-arrow:before {content: \"▾\";}#sk-container-id-1 div.sk-estimator input.sk-toggleable__control:checked~label.sk-toggleable__label {background-color: #d4ebff;}#sk-container-id-1 div.sk-label input.sk-toggleable__control:checked~label.sk-toggleable__label {background-color: #d4ebff;}#sk-container-id-1 input.sk-hidden--visually {border: 0;clip: rect(1px 1px 1px 1px);clip: rect(1px, 1px, 1px, 1px);height: 1px;margin: -1px;overflow: hidden;padding: 0;position: absolute;width: 1px;}#sk-container-id-1 div.sk-estimator {font-family: monospace;background-color: #f0f8ff;border: 1px dotted black;border-radius: 0.25em;box-sizing: border-box;margin-bottom: 0.5em;}#sk-container-id-1 div.sk-estimator:hover {background-color: #d4ebff;}#sk-container-id-1 div.sk-parallel-item::after {content: \"\";width: 100%;border-bottom: 1px solid gray;flex-grow: 1;}#sk-container-id-1 div.sk-label:hover label.sk-toggleable__label {background-color: #d4ebff;}#sk-container-id-1 div.sk-serial::before {content: \"\";position: absolute;border-left: 1px solid gray;box-sizing: border-box;top: 0;bottom: 0;left: 50%;z-index: 0;}#sk-container-id-1 div.sk-serial {display: flex;flex-direction: column;align-items: center;background-color: white;padding-right: 0.2em;padding-left: 0.2em;position: relative;}#sk-container-id-1 div.sk-item {position: relative;z-index: 1;}#sk-container-id-1 div.sk-parallel {display: flex;align-items: stretch;justify-content: center;background-color: white;position: relative;}#sk-container-id-1 div.sk-item::before, #sk-container-id-1 div.sk-parallel-item::before {content: \"\";position: absolute;border-left: 1px solid gray;box-sizing: border-box;top: 0;bottom: 0;left: 50%;z-index: -1;}#sk-container-id-1 div.sk-parallel-item {display: flex;flex-direction: column;z-index: 1;position: relative;background-color: white;}#sk-container-id-1 div.sk-parallel-item:first-child::after {align-self: flex-end;width: 50%;}#sk-container-id-1 div.sk-parallel-item:last-child::after {align-self: flex-start;width: 50%;}#sk-container-id-1 div.sk-parallel-item:only-child::after {width: 0;}#sk-container-id-1 div.sk-dashed-wrapped {border: 1px dashed gray;margin: 0 0.4em 0.5em 0.4em;box-sizing: border-box;padding-bottom: 0.4em;background-color: white;}#sk-container-id-1 div.sk-label label {font-family: monospace;font-weight: bold;display: inline-block;line-height: 1.2em;}#sk-container-id-1 div.sk-label-container {text-align: center;}#sk-container-id-1 div.sk-container {/* jupyter's `normalize.less` sets `[hidden] { display: none; }` but bootstrap.min.css set `[hidden] { display: none !important; }` so we also need the `!important` here to be able to override the default hidden behavior on the sphinx rendered scikit-learn.org. See: https://github.com/scikit-learn/scikit-learn/issues/21755 */display: inline-block !important;position: relative;}#sk-container-id-1 div.sk-text-repr-fallback {display: none;}</style><div id=\"sk-container-id-1\" class=\"sk-top-container\"><div class=\"sk-text-repr-fallback\"><pre>MLPClassifier(random_state=67)</pre><b>In a Jupyter environment, please rerun this cell to show the HTML representation or trust the notebook. <br />On GitHub, the HTML representation is unable to render, please try loading this page with nbviewer.org.</b></div><div class=\"sk-container\" hidden><div class=\"sk-item\"><div class=\"sk-estimator sk-toggleable\"><input class=\"sk-toggleable__control sk-hidden--visually\" id=\"sk-estimator-id-1\" type=\"checkbox\" checked><label for=\"sk-estimator-id-1\" class=\"sk-toggleable__label sk-toggleable__label-arrow\">MLPClassifier</label><div class=\"sk-toggleable__content\"><pre>MLPClassifier(random_state=67)</pre></div></div></div></div></div>"
      ],
      "text/plain": [
       "MLPClassifier(random_state=67)"
      ]
     },
     "execution_count": 59,
     "metadata": {},
     "output_type": "execute_result"
    }
   ],
   "source": [
    "%%time\n",
    "mlp_clf.fit(X_train, y_train)"
   ]
  },
  {
   "cell_type": "code",
   "execution_count": 60,
   "metadata": {},
   "outputs": [],
   "source": [
    "y_mlp_pred_valid_1st = mlp_clf.predict(X_valid)\n",
    "y_mlp_pred_valid_proba_1st = mlp_clf.predict_proba(X_valid)"
   ]
  },
  {
   "cell_type": "markdown",
   "metadata": {},
   "source": [
    "##### 1ª Análise de desempenho"
   ]
  },
  {
   "cell_type": "code",
   "execution_count": 61,
   "metadata": {},
   "outputs": [
    {
     "name": "stdout",
     "output_type": "stream",
     "text": [
      "Accuracy: 0.7196\n",
      "Recall: 0.6554\n",
      "Precision: 0.7520\n",
      "F1-Score: 0.7004\n",
      "ROC AUC Score: 0.7986\n",
      "Matriz de confusão no conjunto de teste:\n",
      "[[49987 13787]\n",
      " [21978 41796]]\n"
     ]
    },
    {
     "data": {
      "image/png": "[encoded data removed]",
      "text/plain": [
       "<Figure size 432x288 with 1 Axes>"
      ]
     },
     "metadata": {
      "needs_background": "light"
     },
     "output_type": "display_data"
    },
    {
     "data": {
      "image/png": "[encoded data removed]",
      "text/plain": [
       "<Figure size 432x288 with 1 Axes>"
      ]
     },
     "metadata": {
      "needs_background": "light"
     },
     "output_type": "display_data"
    }
   ],
   "source": [
    "print_metrics(y_valid, y_mlp_pred_valid_1st, y_mlp_pred_valid_proba_1st)"
   ]
  },
  {
   "cell_type": "markdown",
   "metadata": {},
   "source": [
    "#### 2ª Configuração"
   ]
  },
  {
   "cell_type": "markdown",
   "metadata": {},
   "source": [
    "Na 2ª configuração, utilizamos a biblioteca optuna para otimizar os parâmetros do modelo. \n",
    "\n",
    "Nessa configuração, o modelo foi treinado sempre com duas camadas ocultas, com os neurônios variando de 10 a 100, com passo de 10."
   ]
  },
  {
   "cell_type": "code",
   "execution_count": 62,
   "metadata": {},
   "outputs": [],
   "source": [
    "def mlp_fn(trial):\n",
    "  # Define the search space\n",
    "    params = {\n",
    "        'learning_rate_init': trial.suggest_float('learning_rate_init', 0.001, 0.1, step=0.001),\n",
    "        'first_layer_neurons': trial.suggest_int('first_layer_neurons', 10, 100, step=10),\n",
    "        'second_layer_neurons': trial.suggest_int('second_layer_neurons', 10, 100, step=10),\n",
    "        'activation': trial.suggest_categorical('activation', ['identity', 'logistic', 'tanh',  'relu'])\n",
    "    }\n",
    "\n",
    "    mlp_reg = MLPClassifier(\n",
    "        hidden_layer_sizes=(params['first_layer_neurons'], params['second_layer_neurons']),\n",
    "        learning_rate_init=params['learning_rate_init'],\n",
    "        activation=params['activation'],\n",
    "        random_state=42\n",
    "    )\n",
    "\n",
    "    mlp_reg.fit(X_train, y_train)\n",
    "\n",
    "    y_pred_valid_proba = mlp_reg.predict_proba(X_valid)\n",
    "\n",
    "    statistic = eval_ks_metric(y_valid, y_pred_valid_proba)\n",
    "\n",
    "    gc.collect()\n",
    "\n",
    "    return statistic"
   ]
  },
  {
   "cell_type": "code",
   "execution_count": 63,
   "metadata": {},
   "outputs": [
    {
     "name": "stderr",
     "output_type": "stream",
     "text": [
      "\u001b[32m[I 2022-10-18 08:47:01,349]\u001b[0m A new study created in memory with name: no-name-737f6d33-4d5d-491b-8267-6dc182a4596b\u001b[0m\n"
     ]
    }
   ],
   "source": [
    "mlp_study = optuna.create_study(direction=\"maximize\")"
   ]
  },
  {
   "cell_type": "code",
   "execution_count": 64,
   "metadata": {
    "scrolled": true
   },
   "outputs": [
    {
     "name": "stderr",
     "output_type": "stream",
     "text": [
      "\u001b[32m[I 2022-10-18 08:47:44,882]\u001b[0m Trial 0 finished with value: 0.44908583435255744 and parameters: {'learning_rate_init': 0.08700000000000001, 'first_layer_neurons': 50, 'second_layer_neurons': 100, 'activation': 'relu'}. Best is trial 0 with value: 0.44908583435255744.\u001b[0m\n",
      "\u001b[32m[I 2022-10-18 08:49:46,168]\u001b[0m Trial 1 finished with value: 0.45576567253112554 and parameters: {'learning_rate_init': 0.035, 'first_layer_neurons': 30, 'second_layer_neurons': 90, 'activation': 'logistic'}. Best is trial 1 with value: 0.45576567253112554.\u001b[0m\n",
      "\u001b[32m[I 2022-10-18 08:50:15,487]\u001b[0m Trial 2 finished with value: 0.41297393922288084 and parameters: {'learning_rate_init': 0.096, 'first_layer_neurons': 100, 'second_layer_neurons': 70, 'activation': 'identity'}. Best is trial 1 with value: 0.45576567253112554.\u001b[0m\n",
      "\u001b[32m[I 2022-10-18 08:51:42,358]\u001b[0m Trial 3 finished with value: 0.45231599084266316 and parameters: {'learning_rate_init': 0.013000000000000001, 'first_layer_neurons': 10, 'second_layer_neurons': 20, 'activation': 'identity'}. Best is trial 1 with value: 0.45576567253112554.\u001b[0m\n",
      "\u001b[32m[I 2022-10-18 08:53:54,843]\u001b[0m Trial 4 finished with value: 0.35707341549847904 and parameters: {'learning_rate_init': 0.07100000000000001, 'first_layer_neurons': 100, 'second_layer_neurons': 70, 'activation': 'logistic'}. Best is trial 1 with value: 0.45576567253112554.\u001b[0m\n",
      "\u001b[32m[I 2022-10-18 08:55:02,565]\u001b[0m Trial 5 finished with value: 0.4631824881613196 and parameters: {'learning_rate_init': 0.02, 'first_layer_neurons': 70, 'second_layer_neurons': 100, 'activation': 'relu'}. Best is trial 5 with value: 0.4631824881613196.\u001b[0m\n",
      "\u001b[32m[I 2022-10-18 08:55:52,624]\u001b[0m Trial 6 finished with value: 0.4160629723711857 and parameters: {'learning_rate_init': 0.085, 'first_layer_neurons': 40, 'second_layer_neurons': 100, 'activation': 'logistic'}. Best is trial 5 with value: 0.4631824881613196.\u001b[0m\n",
      "\u001b[32m[I 2022-10-18 08:56:14,305]\u001b[0m Trial 7 finished with value: 0.3597077178787593 and parameters: {'learning_rate_init': 0.041, 'first_layer_neurons': 60, 'second_layer_neurons': 90, 'activation': 'tanh'}. Best is trial 5 with value: 0.4631824881613196.\u001b[0m\n"
     ]
    }
   ],
   "source": [
    "mlp_study.optimize(mlp_fn, n_trials=n_trials)"
   ]
  },
  {
   "cell_type": "markdown",
   "metadata": {},
   "source": [
    "##### 2ª Análise de desempenho"
   ]
  },
  {
   "cell_type": "code",
   "execution_count": null,
   "metadata": {},
   "outputs": [
    {
     "data": {
      "text/plain": [
       "{'learning_rate_init': 0.007,\n",
       " 'first_layer_neurons': 40,\n",
       " 'second_layer_neurons': 100,\n",
       " 'activation': 'relu'}"
      ]
     },
     "execution_count": 65,
     "metadata": {},
     "output_type": "execute_result"
    }
   ],
   "source": [
    "mlp_study.best_params"
   ]
  },
  {
   "cell_type": "markdown",
   "metadata": {},
   "source": [
    "Aqui iremos analisar o desempenho do modelo com os melhores parâmetros encontrados pela biblioteca optuna."
   ]
  },
  {
   "cell_type": "code",
   "execution_count": null,
   "metadata": {},
   "outputs": [
    {
     "name": "stdout",
     "output_type": "stream",
     "text": [
      "Accuracy: 0.7378\n",
      "Recall: 0.6326\n",
      "Precision: 0.8011\n",
      "F1-Score: 0.7070\n",
      "ROC AUC Score: 0.8224\n",
      "Matriz de confusão no conjunto de teste:\n",
      "[[53758 10016]\n",
      " [23428 40346]]\n"
     ]
    },
    {
     "data": {
      "image/png": "[encoded data removed]",
      "text/plain": [
       "<Figure size 432x288 with 1 Axes>"
      ]
     },
     "metadata": {
      "needs_background": "light"
     },
     "output_type": "display_data"
    },
    {
     "data": {
      "image/png": "[encoded data removed]",
      "text/plain": [
       "<Figure size 432x288 with 1 Axes>"
      ]
     },
     "metadata": {
      "needs_background": "light"
     },
     "output_type": "display_data"
    }
   ],
   "source": [
    "mlp_reg = MLPClassifier(\n",
    "    hidden_layer_sizes=(mlp_study.best_params['first_layer_neurons'], mlp_study.best_params['second_layer_neurons']),\n",
    "    learning_rate_init=mlp_study.best_params['learning_rate_init'],\n",
    "    activation=mlp_study.best_params['activation'],\n",
    "    random_state=42\n",
    ")\n",
    "\n",
    "mlp_reg.fit(X_train, y_train)\n",
    "\n",
    "y_pred_valid = mlp_reg.predict(X_valid)\n",
    "y_pred_valid_proba = mlp_reg.predict_proba(X_valid)\n",
    "\n",
    "print_metrics(y_valid, y_pred_valid, y_pred_valid_proba)"
   ]
  },
  {
   "cell_type": "markdown",
   "metadata": {
    "id": "mYwhyxkdEt16"
   },
   "source": [
    "### Modelo Random Forest"
   ]
  },
  {
   "cell_type": "markdown",
   "metadata": {
    "id": "cAZM1rGKHb-7"
   },
   "source": [
    "Descrição dos principais parâmetros que serão utilizados:\n",
    "\n",
    "- n_estimators\n",
    "  - O número de árvores na floresta.\n",
    "\n",
    "- max_depth\n",
    "  - A profundidade máxima da árvore.\n",
    "  - 'None' significa que os nós são expandidos até que todas as folhas sejam puras(se o nó possui prediz apenas 1 classe) ou até que todas as folhas contenham menos de min_samples_split amostras.\n",
    "\n",
    "- max_leaf_nodes\n",
    "  - O número max de nós folha. \n",
    "  - 'None' significa então pode haver um número ilimitado de nós folha."
   ]
  },
  {
   "cell_type": "code",
   "execution_count": null,
   "metadata": {
    "id": "sHmEuyCIEv7O"
   },
   "outputs": [],
   "source": [
    "from sklearn.ensemble import RandomForestClassifier"
   ]
  },
  {
   "cell_type": "markdown",
   "metadata": {
    "id": "2dNd5Uvg4fjC"
   },
   "source": [
    "#### 1ª Configuração"
   ]
  },
  {
   "cell_type": "markdown",
   "metadata": {
    "id": "6HDyP542CdtN"
   },
   "source": [
    "A primeira configuração é utilizada com os parâmetros padrões do Sklearn.\n",
    "\n",
    "Segue abaixo a lista dos principais hiperparâmetros:\n",
    "\n",
    "- n_estimators = 100\n",
    "\n",
    "- criterion = 'gini'\n",
    "\n",
    "- max_depth = None \n",
    "\n",
    "- min_samples_split = 2\n",
    "\n",
    "- min_samples_leaf = 1\n",
    "\n",
    "- max_features = 'sqrt'\n",
    "\n",
    "- max_leaf_nodes = None"
   ]
  },
  {
   "cell_type": "code",
   "execution_count": null,
   "metadata": {
    "id": "kIs_MMjkhsU5"
   },
   "outputs": [],
   "source": [
    "clf_rf = RandomForestClassifier(random_state=42, n_jobs=-1)"
   ]
  },
  {
   "cell_type": "code",
   "execution_count": null,
   "metadata": {
    "colab": {
     "base_uri": "https://localhost:8080/"
    },
    "id": "bluXpSrShs9A",
    "outputId": "cfb3b8d7-8054-43b4-9535-50c2da3d924a"
   },
   "outputs": [
    {
     "name": "stdout",
     "output_type": "stream",
     "text": [
      "CPU times: total: 5min 54s\n",
      "Wall time: 34.7 s\n"
     ]
    }
   ],
   "source": [
    "%%time\n",
    "history_rf = clf_rf.fit(X_train, y_train)"
   ]
  },
  {
   "cell_type": "code",
   "execution_count": null,
   "metadata": {},
   "outputs": [],
   "source": [
    "y_valid_pred_rf_1st = clf_rf.predict(X_valid)"
   ]
  },
  {
   "cell_type": "code",
   "execution_count": null,
   "metadata": {},
   "outputs": [],
   "source": [
    "y_valid_proba_rf_1st = clf_rf.predict_proba(X_valid)"
   ]
  },
  {
   "cell_type": "markdown",
   "metadata": {
    "id": "s1Z1S6I96qLQ"
   },
   "source": [
    "##### 1ª Análise de Desempenho"
   ]
  },
  {
   "cell_type": "code",
   "execution_count": null,
   "metadata": {},
   "outputs": [
    {
     "name": "stdout",
     "output_type": "stream",
     "text": [
      "Accuracy: 0.7344\n",
      "Recall: 0.6493\n",
      "Precision: 0.7826\n",
      "F1-Score: 0.7097\n",
      "ROC AUC Score: 0.8143\n",
      "Matriz de confusão no conjunto de teste:\n",
      "[[52269 11505]\n",
      " [22366 41408]]\n"
     ]
    },
    {
     "data": {
      "image/png": "[encoded data removed]",
      "text/plain": [
       "<Figure size 432x288 with 1 Axes>"
      ]
     },
     "metadata": {
      "needs_background": "light"
     },
     "output_type": "display_data"
    },
    {
     "data": {
      "image/png": "[encoded data removed]",
      "text/plain": [
       "<Figure size 432x288 with 1 Axes>"
      ]
     },
     "metadata": {
      "needs_background": "light"
     },
     "output_type": "display_data"
    }
   ],
   "source": [
    "print_metrics(y_valid, y_valid_pred_rf_1st, y_valid_proba_rf_1st)"
   ]
  },
  {
   "cell_type": "markdown",
   "metadata": {
    "id": "5pVdid7yEMS8"
   },
   "source": [
    "#### 2ª Configuração"
   ]
  },
  {
   "cell_type": "markdown",
   "metadata": {
    "id": "b7nArA2JE1Zk"
   },
   "source": [
    "Para a segunda configuração vamos criar um estudo de caso usando o optuna, variando alguns hiperparâmetros"
   ]
  },
  {
   "cell_type": "code",
   "execution_count": null,
   "metadata": {
    "id": "-X1R61biD1G4"
   },
   "outputs": [],
   "source": [
    "def random_forest(trial):\n",
    "    params = {\n",
    "        'n_estimators':  trial.suggest_int('n_estimators', 100, 500, step=10),\n",
    "        'max_depth': trial.suggest_int('max_depth', 1, 50),\n",
    "        'min_samples_leaf': trial.suggest_int('min_samples_leaf', 10, 1000, step = 10)\n",
    "    }\n",
    "    # Create the model\n",
    "    rnd_forest = RandomForestClassifier(\n",
    "        n_estimators=params[\"n_estimators\"],\n",
    "        max_depth=params[\"max_depth\"],\n",
    "        min_samples_leaf=params[\"min_samples_leaf\"],\n",
    "        random_state=0,\n",
    "        n_jobs=-1\n",
    "    )\n",
    "\n",
    "    rnd_forest.fit(X_train, y_train)\n",
    "\n",
    "    y_pred_proba = rnd_forest.predict_proba(X_valid)\n",
    "\n",
    "    statistic = eval_ks_metric(y_valid, y_pred_proba)\n",
    "\n",
    "    gc.collect()\n",
    "\n",
    "    return statistic"
   ]
  },
  {
   "cell_type": "code",
   "execution_count": null,
   "metadata": {
    "scrolled": true
   },
   "outputs": [
    {
     "name": "stderr",
     "output_type": "stream",
     "text": [
      "\u001b[32m[I 2022-10-16 23:15:12,541]\u001b[0m A new study created in memory with name: no-name-b79e8350-d7b2-4f22-8862-82e3014f9c87\u001b[0m\n"
     ]
    }
   ],
   "source": [
    "rf_study = optuna.create_study(direction=\"maximize\")"
   ]
  },
  {
   "cell_type": "code",
   "execution_count": null,
   "metadata": {},
   "outputs": [
    {
     "name": "stderr",
     "output_type": "stream",
     "text": [
      "\u001b[32m[I 2022-10-16 23:15:53,785]\u001b[0m Trial 0 finished with value: 0.44370746699281843 and parameters: {'n_estimators': 230, 'max_depth': 45, 'min_samples_leaf': 960}. Best is trial 0 with value: 0.44370746699281843.\u001b[0m\n",
      "\u001b[32m[I 2022-10-16 23:16:27,176]\u001b[0m Trial 1 finished with value: 0.3918995201806379 and parameters: {'n_estimators': 390, 'max_depth': 4, 'min_samples_leaf': 750}. Best is trial 0 with value: 0.44370746699281843.\u001b[0m\n",
      "\u001b[32m[I 2022-10-16 23:17:04,289]\u001b[0m Trial 2 finished with value: 0.45971712610154614 and parameters: {'n_estimators': 180, 'max_depth': 31, 'min_samples_leaf': 420}. Best is trial 2 with value: 0.45971712610154614.\u001b[0m\n",
      "\u001b[32m[I 2022-10-16 23:17:28,016]\u001b[0m Trial 3 finished with value: 0.46994072819644367 and parameters: {'n_estimators': 100, 'max_depth': 14, 'min_samples_leaf': 80}. Best is trial 3 with value: 0.46994072819644367.\u001b[0m\n",
      "\u001b[32m[I 2022-10-16 23:18:09,939]\u001b[0m Trial 4 finished with value: 0.4465769749427667 and parameters: {'n_estimators': 230, 'max_depth': 26, 'min_samples_leaf': 820}. Best is trial 3 with value: 0.46994072819644367.\u001b[0m\n",
      "\u001b[32m[I 2022-10-16 23:19:00,631]\u001b[0m Trial 5 finished with value: 0.4627904788785398 and parameters: {'n_estimators': 230, 'max_depth': 16, 'min_samples_leaf': 270}. Best is trial 3 with value: 0.46994072819644367.\u001b[0m\n",
      "\u001b[32m[I 2022-10-16 23:20:15,566]\u001b[0m Trial 6 finished with value: 0.4757895066955185 and parameters: {'n_estimators': 320, 'max_depth': 26, 'min_samples_leaf': 110}. Best is trial 6 with value: 0.4757895066955185.\u001b[0m\n",
      "\u001b[32m[I 2022-10-16 23:20:46,821]\u001b[0m Trial 7 finished with value: 0.3641923040737605 and parameters: {'n_estimators': 450, 'max_depth': 3, 'min_samples_leaf': 170}. Best is trial 6 with value: 0.4757895066955185.\u001b[0m\n",
      "\u001b[32m[I 2022-10-16 23:21:19,087]\u001b[0m Trial 8 finished with value: 0.4536174616614922 and parameters: {'n_estimators': 160, 'max_depth': 42, 'min_samples_leaf': 580}. Best is trial 6 with value: 0.4757895066955185.\u001b[0m\n",
      "\u001b[32m[I 2022-10-16 23:22:24,971]\u001b[0m Trial 9 finished with value: 0.44615360491736444 and parameters: {'n_estimators': 370, 'max_depth': 28, 'min_samples_leaf': 870}. Best is trial 6 with value: 0.4757895066955185.\u001b[0m\n",
      "\u001b[32m[I 2022-10-16 23:24:00,048]\u001b[0m Trial 10 finished with value: 0.4882867626305391 and parameters: {'n_estimators': 320, 'max_depth': 35, 'min_samples_leaf': 10}. Best is trial 10 with value: 0.4882867626305391.\u001b[0m\n",
      "\u001b[32m[I 2022-10-16 23:25:15,312]\u001b[0m Trial 11 finished with value: 0.47894126132906834 and parameters: {'n_estimators': 310, 'max_depth': 37, 'min_samples_leaf': 80}. Best is trial 10 with value: 0.4882867626305391.\u001b[0m\n",
      "\u001b[32m[I 2022-10-16 23:26:39,105]\u001b[0m Trial 12 finished with value: 0.4880985981748048 and parameters: {'n_estimators': 300, 'max_depth': 37, 'min_samples_leaf': 20}. Best is trial 10 with value: 0.4882867626305391.\u001b[0m\n",
      "\u001b[32m[I 2022-10-16 23:28:18,885]\u001b[0m Trial 13 finished with value: 0.4643271552670368 and parameters: {'n_estimators': 480, 'max_depth': 50, 'min_samples_leaf': 300}. Best is trial 10 with value: 0.4882867626305391.\u001b[0m\n",
      "\u001b[32m[I 2022-10-16 23:30:11,349]\u001b[0m Trial 14 finished with value: 0.48838084485840627 and parameters: {'n_estimators': 380, 'max_depth': 38, 'min_samples_leaf': 10}. Best is trial 14 with value: 0.48838084485840627.\u001b[0m\n",
      "\u001b[32m[I 2022-10-16 23:31:25,321]\u001b[0m Trial 15 finished with value: 0.4555618277040801 and parameters: {'n_estimators': 390, 'max_depth': 35, 'min_samples_leaf': 540}. Best is trial 14 with value: 0.48838084485840627.\u001b[0m\n",
      "\u001b[32m[I 2022-10-16 23:32:55,233]\u001b[0m Trial 16 finished with value: 0.4678395584407439 and parameters: {'n_estimators': 430, 'max_depth': 44, 'min_samples_leaf': 260}. Best is trial 14 with value: 0.48838084485840627.\u001b[0m\n",
      "\u001b[32m[I 2022-10-16 23:34:00,918]\u001b[0m Trial 17 finished with value: 0.4609872361777527 and parameters: {'n_estimators': 330, 'max_depth': 19, 'min_samples_leaf': 380}. Best is trial 14 with value: 0.48838084485840627.\u001b[0m\n",
      "\u001b[32m[I 2022-10-16 23:35:00,240]\u001b[0m Trial 18 finished with value: 0.4707090663906922 and parameters: {'n_estimators': 270, 'max_depth': 21, 'min_samples_leaf': 180}. Best is trial 14 with value: 0.48838084485840627.\u001b[0m\n",
      "\u001b[32m[I 2022-10-16 23:36:32,287]\u001b[0m Trial 19 finished with value: 0.45404083168689435 and parameters: {'n_estimators': 500, 'max_depth': 31, 'min_samples_leaf': 650}. Best is trial 14 with value: 0.48838084485840627.\u001b[0m\n",
      "\u001b[32m[I 2022-10-16 23:38:16,208]\u001b[0m Trial 20 finished with value: 0.4883494841157839 and parameters: {'n_estimators': 360, 'max_depth': 50, 'min_samples_leaf': 10}. Best is trial 14 with value: 0.48838084485840627.\u001b[0m\n",
      "\u001b[32m[I 2022-10-16 23:40:01,462]\u001b[0m Trial 21 finished with value: 0.4883494841157839 and parameters: {'n_estimators': 360, 'max_depth': 50, 'min_samples_leaf': 10}. Best is trial 14 with value: 0.48838084485840627.\u001b[0m\n",
      "\u001b[32m[I 2022-10-16 23:41:20,330]\u001b[0m Trial 22 finished with value: 0.47012889265217794 and parameters: {'n_estimators': 360, 'max_depth': 50, 'min_samples_leaf': 190}. Best is trial 14 with value: 0.48838084485840627.\u001b[0m\n",
      "\u001b[32m[I 2022-10-16 23:43:25,917]\u001b[0m Trial 23 finished with value: 0.4892746260231442 and parameters: {'n_estimators': 430, 'max_depth': 41, 'min_samples_leaf': 10}. Best is trial 23 with value: 0.4892746260231442.\u001b[0m\n",
      "\u001b[32m[I 2022-10-16 23:45:04,756]\u001b[0m Trial 24 finished with value: 0.4747859629316022 and parameters: {'n_estimators': 430, 'max_depth': 42, 'min_samples_leaf': 130}. Best is trial 23 with value: 0.4892746260231442.\u001b[0m\n",
      "\u001b[32m[I 2022-10-16 23:46:26,535]\u001b[0m Trial 25 finished with value: 0.46199077994166904 and parameters: {'n_estimators': 410, 'max_depth': 46, 'min_samples_leaf': 380}. Best is trial 23 with value: 0.4892746260231442.\u001b[0m\n",
      "\u001b[32m[I 2022-10-16 23:48:04,609]\u001b[0m Trial 26 finished with value: 0.4677925173268103 and parameters: {'n_estimators': 460, 'max_depth': 40, 'min_samples_leaf': 230}. Best is trial 23 with value: 0.4892746260231442.\u001b[0m\n",
      "\u001b[32m[I 2022-10-16 23:49:42,487]\u001b[0m Trial 27 finished with value: 0.47944303321102644 and parameters: {'n_estimators': 410, 'max_depth': 47, 'min_samples_leaf': 80}. Best is trial 23 with value: 0.4892746260231442.\u001b[0m\n",
      "\u001b[32m[I 2022-10-16 23:50:55,557]\u001b[0m Trial 28 finished with value: 0.4636372189293443 and parameters: {'n_estimators': 360, 'max_depth': 40, 'min_samples_leaf': 330}. Best is trial 23 with value: 0.4892746260231442.\u001b[0m\n",
      "\u001b[32m[I 2022-10-16 23:52:42,374]\u001b[0m Trial 29 finished with value: 0.4749741273873365 and parameters: {'n_estimators': 470, 'max_depth': 46, 'min_samples_leaf': 130}. Best is trial 23 with value: 0.4892746260231442.\u001b[0m\n",
      "\u001b[32m[I 2022-10-16 23:53:49,323]\u001b[0m Trial 30 finished with value: 0.48209301596261794 and parameters: {'n_estimators': 270, 'max_depth': 30, 'min_samples_leaf': 60}. Best is trial 23 with value: 0.4892746260231442.\u001b[0m\n",
      "\u001b[32m[I 2022-10-16 23:55:21,960]\u001b[0m Trial 31 finished with value: 0.48789475334775934 and parameters: {'n_estimators': 350, 'max_depth': 50, 'min_samples_leaf': 30}. Best is trial 23 with value: 0.4892746260231442.\u001b[0m\n",
      "\u001b[32m[I 2022-10-16 23:57:06,068]\u001b[0m Trial 32 finished with value: 0.48867877191331893 and parameters: {'n_estimators': 390, 'max_depth': 47, 'min_samples_leaf': 20}. Best is trial 23 with value: 0.4892746260231442.\u001b[0m\n",
      "\u001b[32m[I 2022-10-16 23:58:11,121]\u001b[0m Trial 33 finished with value: 0.444240599617399 and parameters: {'n_estimators': 390, 'max_depth': 43, 'min_samples_leaf': 960}. Best is trial 23 with value: 0.4892746260231442.\u001b[0m\n",
      "\u001b[32m[I 2022-10-16 23:59:32,263]\u001b[0m Trial 34 finished with value: 0.45785116191551417 and parameters: {'n_estimators': 430, 'max_depth': 47, 'min_samples_leaf': 460}. Best is trial 23 with value: 0.4892746260231442.\u001b[0m\n",
      "\u001b[32m[I 2022-10-17 00:01:00,916]\u001b[0m Trial 35 finished with value: 0.47390786213817543 and parameters: {'n_estimators': 390, 'max_depth': 39, 'min_samples_leaf': 140}. Best is trial 23 with value: 0.4892746260231442.\u001b[0m\n",
      "\u001b[32m[I 2022-10-17 00:02:02,692]\u001b[0m Trial 36 finished with value: 0.46893718443252735 and parameters: {'n_estimators': 280, 'max_depth': 34, 'min_samples_leaf': 220}. Best is trial 23 with value: 0.4892746260231442.\u001b[0m\n",
      "\u001b[32m[I 2022-10-17 00:03:23,496]\u001b[0m Trial 37 finished with value: 0.48146580111017034 and parameters: {'n_estimators': 340, 'max_depth': 44, 'min_samples_leaf': 70}. Best is trial 23 with value: 0.4892746260231442.\u001b[0m\n",
      "\u001b[32m[I 2022-10-17 00:04:26,115]\u001b[0m Trial 38 finished with value: 0.438627026687992 and parameters: {'n_estimators': 410, 'max_depth': 9, 'min_samples_leaf': 700}. Best is trial 23 with value: 0.4892746260231442.\u001b[0m\n",
      "\u001b[32m[I 2022-10-17 00:06:05,241]\u001b[0m Trial 39 finished with value: 0.47632263932009916 and parameters: {'n_estimators': 440, 'max_depth': 47, 'min_samples_leaf': 110}. Best is trial 23 with value: 0.4892746260231442.\u001b[0m\n",
      "\u001b[32m[I 2022-10-17 00:07:53,095]\u001b[0m Trial 40 finished with value: 0.472245742779189 and parameters: {'n_estimators': 500, 'max_depth': 38, 'min_samples_leaf': 160}. Best is trial 23 with value: 0.4892746260231442.\u001b[0m\n",
      "\u001b[32m[I 2022-10-17 00:09:34,336]\u001b[0m Trial 41 finished with value: 0.48881989525511965 and parameters: {'n_estimators': 380, 'max_depth': 48, 'min_samples_leaf': 20}. Best is trial 23 with value: 0.4892746260231442.\u001b[0m\n",
      "\u001b[32m[I 2022-10-17 00:11:06,712]\u001b[0m Trial 42 finished with value: 0.4829240756421112 and parameters: {'n_estimators': 380, 'max_depth': 42, 'min_samples_leaf': 50}. Best is trial 23 with value: 0.4892746260231442.\u001b[0m\n",
      "\u001b[32m[I 2022-10-17 00:13:02,867]\u001b[0m Trial 43 finished with value: 0.4888042148838085 and parameters: {'n_estimators': 410, 'max_depth': 48, 'min_samples_leaf': 10}. Best is trial 23 with value: 0.4892746260231442.\u001b[0m\n",
      "\u001b[32m[I 2022-10-17 00:14:40,305]\u001b[0m Trial 44 finished with value: 0.47757706902499447 and parameters: {'n_estimators': 410, 'max_depth': 45, 'min_samples_leaf': 100}. Best is trial 23 with value: 0.4892746260231442.\u001b[0m\n",
      "\u001b[32m[I 2022-10-17 00:15:16,003]\u001b[0m Trial 45 finished with value: 0.48267318970113215 and parameters: {'n_estimators': 140, 'max_depth': 48, 'min_samples_leaf': 60}. Best is trial 23 with value: 0.4892746260231442.\u001b[0m\n",
      "\u001b[32m[I 2022-10-17 00:16:52,769]\u001b[0m Trial 46 finished with value: 0.4694859974284191 and parameters: {'n_estimators': 450, 'max_depth': 41, 'min_samples_leaf': 210}. Best is trial 23 with value: 0.4892746260231442.\u001b[0m\n",
      "\u001b[32m[I 2022-10-17 00:18:26,673]\u001b[0m Trial 47 finished with value: 0.4774829867971273 and parameters: {'n_estimators': 400, 'max_depth': 33, 'min_samples_leaf': 100}. Best is trial 23 with value: 0.4892746260231442.\u001b[0m\n",
      "\u001b[32m[I 2022-10-17 00:20:04,190]\u001b[0m Trial 48 finished with value: 0.48549565653714677 and parameters: {'n_estimators': 380, 'max_depth': 44, 'min_samples_leaf': 40}. Best is trial 23 with value: 0.4892746260231442.\u001b[0m\n",
      "\u001b[32m[I 2022-10-17 00:21:11,343]\u001b[0m Trial 49 finished with value: 0.47208893906607713 and parameters: {'n_estimators': 300, 'max_depth': 37, 'min_samples_leaf': 160}. Best is trial 23 with value: 0.4892746260231442.\u001b[0m\n",
      "\u001b[32m[I 2022-10-17 00:21:53,439]\u001b[0m Trial 50 finished with value: 0.4659422335120896 and parameters: {'n_estimators': 200, 'max_depth': 22, 'min_samples_leaf': 270}. Best is trial 23 with value: 0.4892746260231442.\u001b[0m\n",
      "\u001b[32m[I 2022-10-17 00:23:32,919]\u001b[0m Trial 51 finished with value: 0.4889923793395428 and parameters: {'n_estimators': 340, 'max_depth': 48, 'min_samples_leaf': 10}. Best is trial 23 with value: 0.4892746260231442.\u001b[0m\n",
      "\u001b[32m[I 2022-10-17 00:25:12,241]\u001b[0m Trial 52 finished with value: 0.4889923793395428 and parameters: {'n_estimators': 340, 'max_depth': 48, 'min_samples_leaf': 10}. Best is trial 23 with value: 0.4892746260231442.\u001b[0m\n",
      "\u001b[32m[I 2022-10-17 00:26:35,060]\u001b[0m Trial 53 finished with value: 0.48282999341424404 and parameters: {'n_estimators': 330, 'max_depth': 48, 'min_samples_leaf': 50}. Best is trial 23 with value: 0.4892746260231442.\u001b[0m\n",
      "\u001b[32m[I 2022-10-17 00:28:14,183]\u001b[0m Trial 54 finished with value: 0.4889923793395428 and parameters: {'n_estimators': 340, 'max_depth': 48, 'min_samples_leaf': 10}. Best is trial 23 with value: 0.4892746260231442.\u001b[0m\n",
      "\u001b[32m[I 2022-10-17 00:29:24,177]\u001b[0m Trial 55 finished with value: 0.4755229403832283 and parameters: {'n_estimators': 300, 'max_depth': 45, 'min_samples_leaf': 110}. Best is trial 23 with value: 0.4892746260231442.\u001b[0m\n",
      "\u001b[32m[I 2022-10-17 00:30:46,286]\u001b[0m Trial 56 finished with value: 0.4796155172954496 and parameters: {'n_estimators': 340, 'max_depth': 49, 'min_samples_leaf': 80}. Best is trial 23 with value: 0.4892746260231442.\u001b[0m\n",
      "\u001b[32m[I 2022-10-17 00:32:19,390]\u001b[0m Trial 57 finished with value: 0.4888355756264309 and parameters: {'n_estimators': 320, 'max_depth': 43, 'min_samples_leaf': 10}. Best is trial 23 with value: 0.4892746260231442.\u001b[0m\n",
      "\u001b[32m[I 2022-10-17 00:33:02,594]\u001b[0m Trial 58 finished with value: 0.44897607175337917 and parameters: {'n_estimators': 240, 'max_depth': 43, 'min_samples_leaf': 790}. Best is trial 23 with value: 0.4892746260231442.\u001b[0m\n",
      "\u001b[32m[I 2022-10-17 00:34:03,582]\u001b[0m Trial 59 finished with value: 0.45976416721547964 and parameters: {'n_estimators': 320, 'max_depth': 11, 'min_samples_leaf': 140}. Best is trial 23 with value: 0.4892746260231442.\u001b[0m\n",
      "\u001b[32m[I 2022-10-17 00:34:57,446]\u001b[0m Trial 60 finished with value: 0.46964280114153106 and parameters: {'n_estimators': 250, 'max_depth': 41, 'min_samples_leaf': 190}. Best is trial 23 with value: 0.4892746260231442.\u001b[0m\n",
      "\u001b[32m[I 2022-10-17 00:36:24,977]\u001b[0m Trial 61 finished with value: 0.4896666353059241 and parameters: {'n_estimators': 310, 'max_depth': 48, 'min_samples_leaf': 10}. Best is trial 61 with value: 0.4896666353059241.\u001b[0m\n",
      "\u001b[32m[I 2022-10-17 00:37:35,938]\u001b[0m Trial 62 finished with value: 0.4825477467306426 and parameters: {'n_estimators': 290, 'max_depth': 45, 'min_samples_leaf': 50}. Best is trial 61 with value: 0.4896666353059241.\u001b[0m\n",
      "\u001b[32m[I 2022-10-17 00:39:06,717]\u001b[0m Trial 63 finished with value: 0.489008059710854 and parameters: {'n_estimators': 320, 'max_depth': 49, 'min_samples_leaf': 10}. Best is trial 61 with value: 0.4896666353059241.\u001b[0m\n",
      "\u001b[32m[I 2022-10-17 00:40:20,755]\u001b[0m Trial 64 finished with value: 0.4786119735315333 and parameters: {'n_estimators': 320, 'max_depth': 50, 'min_samples_leaf': 90}. Best is trial 61 with value: 0.4896666353059241.\u001b[0m\n",
      "\u001b[32m[I 2022-10-17 00:41:34,612]\u001b[0m Trial 65 finished with value: 0.4883965252297175 and parameters: {'n_estimators': 260, 'max_depth': 46, 'min_samples_leaf': 10}. Best is trial 61 with value: 0.4896666353059241.\u001b[0m\n",
      "\u001b[32m[I 2022-10-17 00:42:48,022]\u001b[0m Trial 66 finished with value: 0.48155988333803745 and parameters: {'n_estimators': 310, 'max_depth': 43, 'min_samples_leaf': 70}. Best is trial 61 with value: 0.4896666353059241.\u001b[0m\n",
      "\u001b[32m[I 2022-10-17 00:44:06,027]\u001b[0m Trial 67 finished with value: 0.4740960265939097 and parameters: {'n_estimators': 350, 'max_depth': 49, 'min_samples_leaf': 130}. Best is trial 61 with value: 0.4896666353059241.\u001b[0m\n",
      "\u001b[32m[I 2022-10-17 00:45:31,376]\u001b[0m Trial 68 finished with value: 0.4846802772289648 and parameters: {'n_estimators': 340, 'max_depth': 46, 'min_samples_leaf': 40}. Best is trial 61 with value: 0.4896666353059241.\u001b[0m\n",
      "\u001b[32m[I 2022-10-17 00:46:36,878]\u001b[0m Trial 69 finished with value: 0.4789412613290683 and parameters: {'n_estimators': 280, 'max_depth': 40, 'min_samples_leaf': 80}. Best is trial 61 with value: 0.4896666353059241.\u001b[0m\n",
      "\u001b[32m[I 2022-10-17 00:47:34,497]\u001b[0m Trial 70 finished with value: 0.4554677454762129 and parameters: {'n_estimators': 310, 'max_depth': 44, 'min_samples_leaf': 500}. Best is trial 61 with value: 0.4896666353059241.\u001b[0m\n",
      "\u001b[32m[I 2022-10-17 00:49:08,937]\u001b[0m Trial 71 finished with value: 0.4877693103772697 and parameters: {'n_estimators': 370, 'max_depth': 49, 'min_samples_leaf': 30}. Best is trial 61 with value: 0.4896666353059241.\u001b[0m\n",
      "\u001b[32m[I 2022-10-17 00:50:42,327]\u001b[0m Trial 72 finished with value: 0.48924326528052187 and parameters: {'n_estimators': 330, 'max_depth': 48, 'min_samples_leaf': 10}. Best is trial 61 with value: 0.4896666353059241.\u001b[0m\n",
      "\u001b[32m[I 2022-10-17 00:51:37,893]\u001b[0m Trial 73 finished with value: 0.4448678144698467 and parameters: {'n_estimators': 330, 'max_depth': 46, 'min_samples_leaf': 910}. Best is trial 61 with value: 0.4896666353059241.\u001b[0m\n",
      "\u001b[32m[I 2022-10-17 00:52:30,266]\u001b[0m Trial 74 finished with value: 0.453115689779534 and parameters: {'n_estimators': 290, 'max_depth': 48, 'min_samples_leaf': 620}. Best is trial 61 with value: 0.4896666353059241.\u001b[0m\n",
      "\u001b[32m[I 2022-10-17 00:54:08,297]\u001b[0m Trial 75 finished with value: 0.4887414933985637 and parameters: {'n_estimators': 350, 'max_depth': 50, 'min_samples_leaf': 10}. Best is trial 61 with value: 0.4896666353059241.\u001b[0m\n",
      "\u001b[32m[I 2022-10-17 00:55:17,844]\u001b[0m Trial 76 finished with value: 0.47575814595289617 and parameters: {'n_estimators': 310, 'max_depth': 25, 'min_samples_leaf': 110}. Best is trial 61 with value: 0.4896666353059241.\u001b[0m\n",
      "\u001b[32m[I 2022-10-17 00:56:37,786]\u001b[0m Trial 77 finished with value: 0.4827829523003105 and parameters: {'n_estimators': 330, 'max_depth': 42, 'min_samples_leaf': 50}. Best is trial 61 with value: 0.4896666353059241.\u001b[0m\n",
      "\u001b[32m[I 2022-10-17 00:57:50,429]\u001b[0m Trial 78 finished with value: 0.4849311631699439 and parameters: {'n_estimators': 290, 'max_depth': 45, 'min_samples_leaf': 40}. Best is trial 61 with value: 0.4896666353059241.\u001b[0m\n",
      "\u001b[32m[I 2022-10-17 00:59:15,998]\u001b[0m Trial 79 finished with value: 0.4791764668987361 and parameters: {'n_estimators': 370, 'max_depth': 47, 'min_samples_leaf': 80}. Best is trial 61 with value: 0.4896666353059241.\u001b[0m\n",
      "\u001b[32m[I 2022-10-17 01:00:27,602]\u001b[0m Trial 80 finished with value: 0.47412738733653215 and parameters: {'n_estimators': 320, 'max_depth': 43, 'min_samples_leaf': 130}. Best is trial 61 with value: 0.4896666353059241.\u001b[0m\n",
      "\u001b[32m[I 2022-10-17 01:02:03,664]\u001b[0m Trial 81 finished with value: 0.4889923793395428 and parameters: {'n_estimators': 340, 'max_depth': 48, 'min_samples_leaf': 10}. Best is trial 61 with value: 0.4896666353059241.\u001b[0m\n",
      "\u001b[32m[I 2022-10-17 01:03:42,376]\u001b[0m Trial 82 finished with value: 0.4889923793395428 and parameters: {'n_estimators': 340, 'max_depth': 48, 'min_samples_leaf': 10}. Best is trial 61 with value: 0.4896666353059241.\u001b[0m\n",
      "\u001b[32m[I 2022-10-17 01:05:08,616]\u001b[0m Trial 83 finished with value: 0.48246934487408666 and parameters: {'n_estimators': 350, 'max_depth': 49, 'min_samples_leaf': 60}. Best is trial 61 with value: 0.4896666353059241.\u001b[0m\n",
      "\u001b[32m[I 2022-10-17 01:06:36,448]\u001b[0m Trial 84 finished with value: 0.48781635149120334 and parameters: {'n_estimators': 340, 'max_depth': 47, 'min_samples_leaf': 30}. Best is trial 61 with value: 0.4896666353059241.\u001b[0m\n",
      "\u001b[32m[I 2022-10-17 01:07:58,378]\u001b[0m Trial 85 finished with value: 0.4771693793709035 and parameters: {'n_estimators': 360, 'max_depth': 49, 'min_samples_leaf': 100}. Best is trial 61 with value: 0.4896666353059241.\u001b[0m\n",
      "\u001b[32m[I 2022-10-17 01:09:33,213]\u001b[0m Trial 86 finished with value: 0.4877693103772697 and parameters: {'n_estimators': 370, 'max_depth': 46, 'min_samples_leaf': 30}. Best is trial 61 with value: 0.4896666353059241.\u001b[0m\n",
      "\u001b[32m[I 2022-10-17 01:09:43,419]\u001b[0m Trial 87 finished with value: 0.302050992567504 and parameters: {'n_estimators': 220, 'max_depth': 2, 'min_samples_leaf': 160}. Best is trial 61 with value: 0.4896666353059241.\u001b[0m\n",
      "\u001b[32m[I 2022-10-17 01:10:57,867]\u001b[0m Trial 88 finished with value: 0.4820616552199956 and parameters: {'n_estimators': 310, 'max_depth': 50, 'min_samples_leaf': 60}. Best is trial 61 with value: 0.4896666353059241.\u001b[0m\n",
      "\u001b[32m[I 2022-10-17 01:12:03,844]\u001b[0m Trial 89 finished with value: 0.4625239125662496 and parameters: {'n_estimators': 330, 'max_depth': 47, 'min_samples_leaf': 310}. Best is trial 61 with value: 0.4896666353059241.\u001b[0m\n",
      "\u001b[32m[I 2022-10-17 01:12:36,325]\u001b[0m Trial 90 finished with value: 0.4841471446043843 and parameters: {'n_estimators': 110, 'max_depth': 48, 'min_samples_leaf': 10}. Best is trial 61 with value: 0.4896666353059241.\u001b[0m\n",
      "\u001b[32m[I 2022-10-17 01:14:06,934]\u001b[0m Trial 91 finished with value: 0.4892119045378995 and parameters: {'n_estimators': 320, 'max_depth': 44, 'min_samples_leaf': 10}. Best is trial 61 with value: 0.4896666353059241.\u001b[0m\n",
      "\u001b[32m[I 2022-10-17 01:15:22,885]\u001b[0m Trial 92 finished with value: 0.4812462759118136 and parameters: {'n_estimators': 300, 'max_depth': 48, 'min_samples_leaf': 70}. Best is trial 61 with value: 0.4896666353059241.\u001b[0m\n",
      "\u001b[32m[I 2022-10-17 01:16:47,840]\u001b[0m Trial 93 finished with value: 0.4846802772289648 and parameters: {'n_estimators': 340, 'max_depth': 45, 'min_samples_leaf': 40}. Best is trial 61 with value: 0.4896666353059241.\u001b[0m\n",
      "\u001b[32m[I 2022-10-17 01:18:06,385]\u001b[0m Trial 94 finished with value: 0.47632263932009916 and parameters: {'n_estimators': 350, 'max_depth': 44, 'min_samples_leaf': 110}. Best is trial 61 with value: 0.4896666353059241.\u001b[0m\n",
      "\u001b[32m[I 2022-10-17 01:19:15,996]\u001b[0m Trial 95 finished with value: 0.4870636936682661 and parameters: {'n_estimators': 270, 'max_depth': 49, 'min_samples_leaf': 30}. Best is trial 61 with value: 0.4896666353059241.\u001b[0m\n",
      "\u001b[32m[I 2022-10-17 01:20:57,492]\u001b[0m Trial 96 finished with value: 0.48828676263053905 and parameters: {'n_estimators': 360, 'max_depth': 46, 'min_samples_leaf': 10}. Best is trial 61 with value: 0.4896666353059241.\u001b[0m\n",
      "\u001b[32m[I 2022-10-17 01:22:14,257]\u001b[0m Trial 97 finished with value: 0.4795998369241383 and parameters: {'n_estimators': 330, 'max_depth': 50, 'min_samples_leaf': 80}. Best is trial 61 with value: 0.4896666353059241.\u001b[0m\n",
      "\u001b[32m[I 2022-10-17 01:23:31,906]\u001b[0m Trial 98 finished with value: 0.4820616552199956 and parameters: {'n_estimators': 310, 'max_depth': 41, 'min_samples_leaf': 60}. Best is trial 61 with value: 0.4896666353059241.\u001b[0m\n",
      "\u001b[32m[I 2022-10-17 01:24:30,380]\u001b[0m Trial 99 finished with value: 0.4242638065669395 and parameters: {'n_estimators': 480, 'max_depth': 6, 'min_samples_leaf': 30}. Best is trial 61 with value: 0.4896666353059241.\u001b[0m\n"
     ]
    },
    {
     "name": "stdout",
     "output_type": "stream",
     "text": [
      "CPU times: total: 23h 48min 46s\n",
      "Wall time: 2h 9min 17s\n"
     ]
    }
   ],
   "source": [
    "%%time\n",
    "rf_study.optimize(random_forest, n_trials=n_trials)"
   ]
  },
  {
   "cell_type": "code",
   "execution_count": null,
   "metadata": {},
   "outputs": [
    {
     "data": {
      "text/plain": [
       "{'n_estimators': 310, 'max_depth': 48, 'min_samples_leaf': 10}"
      ]
     },
     "execution_count": 79,
     "metadata": {},
     "output_type": "execute_result"
    }
   ],
   "source": [
    "rf_study.best_params"
   ]
  },
  {
   "cell_type": "markdown",
   "metadata": {},
   "source": [
    "##### 2ª Análise de Desempenho"
   ]
  },
  {
   "cell_type": "code",
   "execution_count": null,
   "metadata": {},
   "outputs": [
    {
     "data": {
      "text/html": [
       "<style>#sk-container-id-2 {color: black;background-color: white;}#sk-container-id-2 pre{padding: 0;}#sk-container-id-2 div.sk-toggleable {background-color: white;}#sk-container-id-2 label.sk-toggleable__label {cursor: pointer;display: block;width: 100%;margin-bottom: 0;padding: 0.3em;box-sizing: border-box;text-align: center;}#sk-container-id-2 label.sk-toggleable__label-arrow:before {content: \"▸\";float: left;margin-right: 0.25em;color: #696969;}#sk-container-id-2 label.sk-toggleable__label-arrow:hover:before {color: black;}#sk-container-id-2 div.sk-estimator:hover label.sk-toggleable__label-arrow:before {color: black;}#sk-container-id-2 div.sk-toggleable__content {max-height: 0;max-width: 0;overflow: hidden;text-align: left;background-color: #f0f8ff;}#sk-container-id-2 div.sk-toggleable__content pre {margin: 0.2em;color: black;border-radius: 0.25em;background-color: #f0f8ff;}#sk-container-id-2 input.sk-toggleable__control:checked~div.sk-toggleable__content {max-height: 200px;max-width: 100%;overflow: auto;}#sk-container-id-2 input.sk-toggleable__control:checked~label.sk-toggleable__label-arrow:before {content: \"▾\";}#sk-container-id-2 div.sk-estimator input.sk-toggleable__control:checked~label.sk-toggleable__label {background-color: #d4ebff;}#sk-container-id-2 div.sk-label input.sk-toggleable__control:checked~label.sk-toggleable__label {background-color: #d4ebff;}#sk-container-id-2 input.sk-hidden--visually {border: 0;clip: rect(1px 1px 1px 1px);clip: rect(1px, 1px, 1px, 1px);height: 1px;margin: -1px;overflow: hidden;padding: 0;position: absolute;width: 1px;}#sk-container-id-2 div.sk-estimator {font-family: monospace;background-color: #f0f8ff;border: 1px dotted black;border-radius: 0.25em;box-sizing: border-box;margin-bottom: 0.5em;}#sk-container-id-2 div.sk-estimator:hover {background-color: #d4ebff;}#sk-container-id-2 div.sk-parallel-item::after {content: \"\";width: 100%;border-bottom: 1px solid gray;flex-grow: 1;}#sk-container-id-2 div.sk-label:hover label.sk-toggleable__label {background-color: #d4ebff;}#sk-container-id-2 div.sk-serial::before {content: \"\";position: absolute;border-left: 1px solid gray;box-sizing: border-box;top: 0;bottom: 0;left: 50%;z-index: 0;}#sk-container-id-2 div.sk-serial {display: flex;flex-direction: column;align-items: center;background-color: white;padding-right: 0.2em;padding-left: 0.2em;position: relative;}#sk-container-id-2 div.sk-item {position: relative;z-index: 1;}#sk-container-id-2 div.sk-parallel {display: flex;align-items: stretch;justify-content: center;background-color: white;position: relative;}#sk-container-id-2 div.sk-item::before, #sk-container-id-2 div.sk-parallel-item::before {content: \"\";position: absolute;border-left: 1px solid gray;box-sizing: border-box;top: 0;bottom: 0;left: 50%;z-index: -1;}#sk-container-id-2 div.sk-parallel-item {display: flex;flex-direction: column;z-index: 1;position: relative;background-color: white;}#sk-container-id-2 div.sk-parallel-item:first-child::after {align-self: flex-end;width: 50%;}#sk-container-id-2 div.sk-parallel-item:last-child::after {align-self: flex-start;width: 50%;}#sk-container-id-2 div.sk-parallel-item:only-child::after {width: 0;}#sk-container-id-2 div.sk-dashed-wrapped {border: 1px dashed gray;margin: 0 0.4em 0.5em 0.4em;box-sizing: border-box;padding-bottom: 0.4em;background-color: white;}#sk-container-id-2 div.sk-label label {font-family: monospace;font-weight: bold;display: inline-block;line-height: 1.2em;}#sk-container-id-2 div.sk-label-container {text-align: center;}#sk-container-id-2 div.sk-container {/* jupyter's `normalize.less` sets `[hidden] { display: none; }` but bootstrap.min.css set `[hidden] { display: none !important; }` so we also need the `!important` here to be able to override the default hidden behavior on the sphinx rendered scikit-learn.org. See: https://github.com/scikit-learn/scikit-learn/issues/21755 */display: inline-block !important;position: relative;}#sk-container-id-2 div.sk-text-repr-fallback {display: none;}</style><div id=\"sk-container-id-2\" class=\"sk-top-container\"><div class=\"sk-text-repr-fallback\"><pre>RandomForestClassifier(max_depth=48, min_samples_leaf=10, n_estimators=310,\n",
       "                       n_jobs=-1, random_state=0)</pre><b>In a Jupyter environment, please rerun this cell to show the HTML representation or trust the notebook. <br />On GitHub, the HTML representation is unable to render, please try loading this page with nbviewer.org.</b></div><div class=\"sk-container\" hidden><div class=\"sk-item\"><div class=\"sk-estimator sk-toggleable\"><input class=\"sk-toggleable__control sk-hidden--visually\" id=\"sk-estimator-id-2\" type=\"checkbox\" checked><label for=\"sk-estimator-id-2\" class=\"sk-toggleable__label sk-toggleable__label-arrow\">RandomForestClassifier</label><div class=\"sk-toggleable__content\"><pre>RandomForestClassifier(max_depth=48, min_samples_leaf=10, n_estimators=310,\n",
       "                       n_jobs=-1, random_state=0)</pre></div></div></div></div></div>"
      ],
      "text/plain": [
       "RandomForestClassifier(max_depth=48, min_samples_leaf=10, n_estimators=310,\n",
       "                       n_jobs=-1, random_state=0)"
      ]
     },
     "execution_count": 80,
     "metadata": {},
     "output_type": "execute_result"
    }
   ],
   "source": [
    "rnd_forest_trial = RandomForestClassifier(\n",
    "    n_estimators=rf_study.best_params[\"n_estimators\"],\n",
    "    max_depth=rf_study.best_params[\"max_depth\"],\n",
    "    min_samples_leaf=rf_study.best_params[\"min_samples_leaf\"],\n",
    "    random_state=0,\n",
    "    n_jobs=-1\n",
    ")\n",
    "\n",
    "rnd_forest_trial.fit(X_train, y_train)"
   ]
  },
  {
   "cell_type": "code",
   "execution_count": null,
   "metadata": {},
   "outputs": [
    {
     "name": "stdout",
     "output_type": "stream",
     "text": [
      "Accuracy: 0.7441\n",
      "Recall: 0.6690\n",
      "Precision: 0.7872\n",
      "F1-Score: 0.7233\n",
      "ROC AUC Score: 0.8262\n",
      "Matriz de confusão no conjunto de teste:\n",
      "[[52240 11534]\n",
      " [21111 42663]]\n"
     ]
    },
    {
     "data": {
      "image/png": "[encoded data removed]",
      "text/plain": [
       "<Figure size 432x288 with 1 Axes>"
      ]
     },
     "metadata": {
      "needs_background": "light"
     },
     "output_type": "display_data"
    },
    {
     "data": {
      "image/png": "[encoded data removed]",
      "text/plain": [
       "<Figure size 432x288 with 1 Axes>"
      ]
     },
     "metadata": {
      "needs_background": "light"
     },
     "output_type": "display_data"
    }
   ],
   "source": [
    "y_pred_valid = rnd_forest_trial.predict(X_valid)\n",
    "y_pred_valid_proba = rnd_forest_trial.predict_proba(X_valid)\n",
    "\n",
    "print_metrics(y_valid, y_pred_valid, y_pred_valid_proba)"
   ]
  },
  {
   "cell_type": "markdown",
   "metadata": {},
   "source": [
    "### Modelo SVM"
   ]
  },
  {
   "cell_type": "markdown",
   "metadata": {},
   "source": [
    "Descrição dos principais parâmetros:\n",
    "\n",
    "- C\n",
    "  - Parâmetro de regularização. A força da regularização é inversamente proporcional a C. Deve ser estritamente positiva. A penalidade é uma penalidade de 12 ao quadrado.\n",
    "\n",
    "- kernel\n",
    "  - Especifica o tipo de kernel a ser usado no algoritmo. Se nenhum for fornecido, 'rbf' será usado. Se um callable for fornecido, ele será usado para pré-computar a matriz do kernel a partir de matrizes de dados; essa matriz deve ser uma matriz de forma\n",
    "  - Valor default: rbf\n",
    "\n",
    "- degree\n",
    "  - Grau da função kernel polinomial ('poli'). Ignorado por todos os outros kernels.\n",
    "  - Valor default: 3\n",
    "\n",
    "- gamma\n",
    "  - Coeficiente de kernel para 'rbf', 'poli' e 'sigmóide'\n"
   ]
  },
  {
   "cell_type": "code",
   "execution_count": null,
   "metadata": {},
   "outputs": [],
   "source": [
    "import numpy as np\n",
    "from sklearn.pipeline import make_pipeline\n",
    "from sklearn.preprocessing import StandardScaler\n",
    "from sklearn.svm import SVC"
   ]
  },
  {
   "cell_type": "code",
   "execution_count": null,
   "metadata": {},
   "outputs": [],
   "source": [
    "clf_svm = SVC(gamma='auto', probability=True)"
   ]
  },
  {
   "cell_type": "code",
   "execution_count": null,
   "metadata": {},
   "outputs": [
    {
     "name": "stdout",
     "output_type": "stream",
     "text": [
      "CPU times: total: 16h 21min 38s\n",
      "Wall time: 20h 47min 52s\n"
     ]
    },
    {
     "data": {
      "text/html": [
       "<style>#sk-container-id-3 {color: black;background-color: white;}#sk-container-id-3 pre{padding: 0;}#sk-container-id-3 div.sk-toggleable {background-color: white;}#sk-container-id-3 label.sk-toggleable__label {cursor: pointer;display: block;width: 100%;margin-bottom: 0;padding: 0.3em;box-sizing: border-box;text-align: center;}#sk-container-id-3 label.sk-toggleable__label-arrow:before {content: \"▸\";float: left;margin-right: 0.25em;color: #696969;}#sk-container-id-3 label.sk-toggleable__label-arrow:hover:before {color: black;}#sk-container-id-3 div.sk-estimator:hover label.sk-toggleable__label-arrow:before {color: black;}#sk-container-id-3 div.sk-toggleable__content {max-height: 0;max-width: 0;overflow: hidden;text-align: left;background-color: #f0f8ff;}#sk-container-id-3 div.sk-toggleable__content pre {margin: 0.2em;color: black;border-radius: 0.25em;background-color: #f0f8ff;}#sk-container-id-3 input.sk-toggleable__control:checked~div.sk-toggleable__content {max-height: 200px;max-width: 100%;overflow: auto;}#sk-container-id-3 input.sk-toggleable__control:checked~label.sk-toggleable__label-arrow:before {content: \"▾\";}#sk-container-id-3 div.sk-estimator input.sk-toggleable__control:checked~label.sk-toggleable__label {background-color: #d4ebff;}#sk-container-id-3 div.sk-label input.sk-toggleable__control:checked~label.sk-toggleable__label {background-color: #d4ebff;}#sk-container-id-3 input.sk-hidden--visually {border: 0;clip: rect(1px 1px 1px 1px);clip: rect(1px, 1px, 1px, 1px);height: 1px;margin: -1px;overflow: hidden;padding: 0;position: absolute;width: 1px;}#sk-container-id-3 div.sk-estimator {font-family: monospace;background-color: #f0f8ff;border: 1px dotted black;border-radius: 0.25em;box-sizing: border-box;margin-bottom: 0.5em;}#sk-container-id-3 div.sk-estimator:hover {background-color: #d4ebff;}#sk-container-id-3 div.sk-parallel-item::after {content: \"\";width: 100%;border-bottom: 1px solid gray;flex-grow: 1;}#sk-container-id-3 div.sk-label:hover label.sk-toggleable__label {background-color: #d4ebff;}#sk-container-id-3 div.sk-serial::before {content: \"\";position: absolute;border-left: 1px solid gray;box-sizing: border-box;top: 0;bottom: 0;left: 50%;z-index: 0;}#sk-container-id-3 div.sk-serial {display: flex;flex-direction: column;align-items: center;background-color: white;padding-right: 0.2em;padding-left: 0.2em;position: relative;}#sk-container-id-3 div.sk-item {position: relative;z-index: 1;}#sk-container-id-3 div.sk-parallel {display: flex;align-items: stretch;justify-content: center;background-color: white;position: relative;}#sk-container-id-3 div.sk-item::before, #sk-container-id-3 div.sk-parallel-item::before {content: \"\";position: absolute;border-left: 1px solid gray;box-sizing: border-box;top: 0;bottom: 0;left: 50%;z-index: -1;}#sk-container-id-3 div.sk-parallel-item {display: flex;flex-direction: column;z-index: 1;position: relative;background-color: white;}#sk-container-id-3 div.sk-parallel-item:first-child::after {align-self: flex-end;width: 50%;}#sk-container-id-3 div.sk-parallel-item:last-child::after {align-self: flex-start;width: 50%;}#sk-container-id-3 div.sk-parallel-item:only-child::after {width: 0;}#sk-container-id-3 div.sk-dashed-wrapped {border: 1px dashed gray;margin: 0 0.4em 0.5em 0.4em;box-sizing: border-box;padding-bottom: 0.4em;background-color: white;}#sk-container-id-3 div.sk-label label {font-family: monospace;font-weight: bold;display: inline-block;line-height: 1.2em;}#sk-container-id-3 div.sk-label-container {text-align: center;}#sk-container-id-3 div.sk-container {/* jupyter's `normalize.less` sets `[hidden] { display: none; }` but bootstrap.min.css set `[hidden] { display: none !important; }` so we also need the `!important` here to be able to override the default hidden behavior on the sphinx rendered scikit-learn.org. See: https://github.com/scikit-learn/scikit-learn/issues/21755 */display: inline-block !important;position: relative;}#sk-container-id-3 div.sk-text-repr-fallback {display: none;}</style><div id=\"sk-container-id-3\" class=\"sk-top-container\"><div class=\"sk-text-repr-fallback\"><pre>SVC(gamma=&#x27;auto&#x27;, probability=True)</pre><b>In a Jupyter environment, please rerun this cell to show the HTML representation or trust the notebook. <br />On GitHub, the HTML representation is unable to render, please try loading this page with nbviewer.org.</b></div><div class=\"sk-container\" hidden><div class=\"sk-item\"><div class=\"sk-estimator sk-toggleable\"><input class=\"sk-toggleable__control sk-hidden--visually\" id=\"sk-estimator-id-3\" type=\"checkbox\" checked><label for=\"sk-estimator-id-3\" class=\"sk-toggleable__label sk-toggleable__label-arrow\">SVC</label><div class=\"sk-toggleable__content\"><pre>SVC(gamma=&#x27;auto&#x27;, probability=True)</pre></div></div></div></div></div>"
      ],
      "text/plain": [
       "SVC(gamma='auto', probability=True)"
      ]
     },
     "execution_count": 84,
     "metadata": {},
     "output_type": "execute_result"
    }
   ],
   "source": [
    "%%time\n",
    "clf_svm.fit(X_train, y_train)"
   ]
  },
  {
   "cell_type": "code",
   "execution_count": null,
   "metadata": {},
   "outputs": [],
   "source": [
    "y_valid_pred_svm = clf_svm.predict(X_valid)"
   ]
  },
  {
   "cell_type": "code",
   "execution_count": null,
   "metadata": {},
   "outputs": [],
   "source": [
    "y_valid_proba_svm = clf_svm.predict_proba(X_valid)"
   ]
  },
  {
   "cell_type": "markdown",
   "metadata": {},
   "source": [
    "##### Análise de Desempenho"
   ]
  },
  {
   "cell_type": "code",
   "execution_count": null,
   "metadata": {},
   "outputs": [
    {
     "name": "stdout",
     "output_type": "stream",
     "text": [
      "Accuracy: 0.7297\n",
      "Recall: 0.6423\n",
      "Precision: 0.7783\n",
      "F1-Score: 0.7038\n",
      "ROC AUC Score: 0.8116\n",
      "Matriz de confusão no conjunto de teste:\n",
      "[[52108 11666]\n",
      " [22810 40964]]\n"
     ]
    },
    {
     "data": {
      "image/png": "[encoded data removed]",
      "text/plain": [
       "<Figure size 432x288 with 1 Axes>"
      ]
     },
     "metadata": {
      "needs_background": "light"
     },
     "output_type": "display_data"
    },
    {
     "data": {
      "image/png": "[encoded data removed]",
      "text/plain": [
       "<Figure size 432x288 with 1 Axes>"
      ]
     },
     "metadata": {
      "needs_background": "light"
     },
     "output_type": "display_data"
    }
   ],
   "source": [
    "print_metrics(y_valid, y_valid_pred_svm, y_valid_proba_svm)"
   ]
  },
  {
   "cell_type": "markdown",
   "metadata": {},
   "source": [
    "### Ensemble de MLP"
   ]
  },
  {
   "cell_type": "markdown",
   "metadata": {},
   "source": [
    "Para o ensemble de MLP utilizamos a biblioteca BaggingClassifier do Sklearn, que cria um conjunto de classificadores baseados no classficador escolhido, cada um treinado em uma parte do conjunto de dados.\n",
    "\n",
    "No final, a predição é feita pela agregação de cada das predições de cada classificador, seja essa agregação por votação ou por média."
   ]
  },
  {
   "cell_type": "code",
   "execution_count": null,
   "metadata": {},
   "outputs": [],
   "source": [
    "from sklearn.ensemble import BaggingClassifier"
   ]
  },
  {
   "cell_type": "markdown",
   "metadata": {},
   "source": [
    "Para esse ensemble, utilizamos o modelo MLP com as melhores configurações obtidas pelo Optuna."
   ]
  },
  {
   "cell_type": "code",
   "execution_count": null,
   "metadata": {},
   "outputs": [],
   "source": [
    "params_ens = mlp_study.best_params\n",
    "\n",
    "ens_mlp = MLPClassifier(\n",
    "        hidden_layer_sizes=(params_ens['first_layer_neurons'], params_ens['second_layer_neurons']),\n",
    "        learning_rate_init=params_ens['learning_rate_init'],\n",
    "        activation=params_ens['activation'],\n",
    "        random_state=42\n",
    "    )"
   ]
  },
  {
   "cell_type": "markdown",
   "metadata": {},
   "source": [
    "Iremos utilizar 100 estimadores para o ensemble."
   ]
  },
  {
   "cell_type": "code",
   "execution_count": null,
   "metadata": {},
   "outputs": [],
   "source": [
    "mlp_ens_clf = BaggingClassifier(base_estimator=ens_mlp, n_estimators=100, random_state=0, n_jobs=-1)"
   ]
  },
  {
   "cell_type": "code",
   "execution_count": null,
   "metadata": {},
   "outputs": [],
   "source": [
    "mlp_ens_clf.fit(X_train, y_train)"
   ]
  },
  {
   "cell_type": "code",
   "execution_count": null,
   "metadata": {},
   "outputs": [],
   "source": [
    "y_valid_pred_ens_mlp = mlp_ens_clf.predict(X_valid)\n",
    "y_valid_pred_proba_ens_mlp = mlp_ens_clf.predict_proba(X_valid)"
   ]
  },
  {
   "cell_type": "markdown",
   "metadata": {},
   "source": [
    "##### Análise de desempenho"
   ]
  },
  {
   "cell_type": "code",
   "execution_count": null,
   "metadata": {},
   "outputs": [
    {
     "name": "stdout",
     "output_type": "stream",
     "text": [
      "Accuracy: 0.7446\n",
      "Recall: 0.6573\n",
      "Precision: 0.7964\n",
      "F1-Score: 0.7202\n",
      "ROC AUC Score: 0.8295\n",
      "Matriz de confusão no conjunto de teste:\n",
      "[[53054 10720]\n",
      " [21854 41920]]\n"
     ]
    },
    {
     "data": {
      "image/png": "[encoded data removed]",
      "text/plain": [
       "<Figure size 432x288 with 1 Axes>"
      ]
     },
     "metadata": {
      "needs_background": "light"
     },
     "output_type": "display_data"
    },
    {
     "data": {
      "image/png": "[encoded data removed]",
      "text/plain": [
       "<Figure size 432x288 with 1 Axes>"
      ]
     },
     "metadata": {
      "needs_background": "light"
     },
     "output_type": "display_data"
    }
   ],
   "source": [
    "print_metrics(y_valid, y_valid_pred_ens_mlp, y_valid_pred_proba_ens_mlp)"
   ]
  },
  {
   "cell_type": "markdown",
   "metadata": {},
   "source": [
    "### Modelo AdaBoost"
   ]
  },
  {
   "cell_type": "markdown",
   "metadata": {},
   "source": [
    "O modelo AdaBoost é parecido com o modelo do BaggingClassifier, porém, ao invés de treinar vários classificadores, ele treina um classificador e, em seguida, treina outro classificador que tenta corrigir os erros do primeiro classificador."
   ]
  },
  {
   "cell_type": "markdown",
   "metadata": {},
   "source": [
    "Definição dos parâmetros\n",
    "* base_estimator object, default=None\n",
    "    * O estimador base a partir do qual o conjunto impulsionado é construído. É necessário suporte para ponderação de amostra, bem como atributos classes_ e n_classes_ apropriados. Se Nenhum, então o estimador base é DecisionTreeClassifier inicializado com max_depth=1.\n",
    "\n",
    "* n_estimators int, default=50\n",
    "    * O número máximo de estimadores em que o reforço é encerrado. Em caso de ajuste perfeito, o processo de aprendizagem é interrompido precocemente. Os valores devem estar no intervalo [1, inf).\n",
    "\n",
    "* learning_rate float, default=1.0\n",
    "    * Peso aplicado a cada classificador em cada iteração de reforço. Uma taxa de aprendizado mais alta aumenta a contribuição de cada classificador. Há um trade-off entre os parâmetros learning_rate e n_estimators. Os valores devem estar no intervalo (0,0, inf).\n",
    "\n",
    "* algorithm {‘SAMME’, ‘SAMME.R’}, default=’SAMME.R’\n",
    "    * Se 'SAMME.R', use o algoritmo de reforço real SAMME.R. base_estimator deve suportar o cálculo de probabilidades de classe. Se 'SAMME', use o algoritmo de reforço discreto SAMME. O algoritmo SAMME.R normalmente converge mais rápido que o SAMME, alcançando um erro de teste menor com menos iterações de reforço.\n",
    "\n",
    "* random_state int, RandomState instance or None, default=None\n",
    "    * Controla a semente aleatória fornecida em cada base_estimator em cada iteração de reforço. Assim, ele só é usado quando base_estimator expõe um random_state. Passe um int para saída reproduzível em várias chamadas de função. Consulte Glossário."
   ]
  },
  {
   "cell_type": "code",
   "execution_count": null,
   "metadata": {},
   "outputs": [],
   "source": [
    "from sklearn.ensemble import AdaBoostClassifier"
   ]
  },
  {
   "cell_type": "markdown",
   "metadata": {},
   "source": [
    "#### Configuração Utilizada"
   ]
  },
  {
   "cell_type": "markdown",
   "metadata": {},
   "source": [
    "A primeira configuração é utilizada com os parâmetros padrões do Sklearn.\n",
    "\n",
    "Segue abaixo a lista dos principais hiperparâmetros:\n",
    "\n",
    "- n_estimators = 100\n",
    "\n",
    "- learning_rate = 1\n",
    "\n",
    "- algorithm = SAMME.R\n",
    "\n",
    "- random_state = 1\n"
   ]
  },
  {
   "cell_type": "code",
   "execution_count": null,
   "metadata": {},
   "outputs": [],
   "source": [
    "clf_adaBoost = AdaBoostClassifier(n_estimators=100, learning_rate = 1, random_state=0)"
   ]
  },
  {
   "cell_type": "code",
   "execution_count": null,
   "metadata": {},
   "outputs": [
    {
     "name": "stdout",
     "output_type": "stream",
     "text": [
      "CPU times: total: 4min 4s\n",
      "Wall time: 4min 41s\n"
     ]
    }
   ],
   "source": [
    "%%time\n",
    "history_adaBoost = clf_adaBoost.fit(X_train, y_train)"
   ]
  },
  {
   "cell_type": "code",
   "execution_count": null,
   "metadata": {},
   "outputs": [],
   "source": [
    "y_valid_pred_adaBoost = clf_adaBoost.predict(X_valid)"
   ]
  },
  {
   "cell_type": "code",
   "execution_count": null,
   "metadata": {},
   "outputs": [],
   "source": [
    "y_valid_proba_adaBoost = clf_adaBoost.predict_proba(X_valid)"
   ]
  },
  {
   "cell_type": "markdown",
   "metadata": {},
   "source": [
    "##### Análise de Desempenho"
   ]
  },
  {
   "cell_type": "code",
   "execution_count": null,
   "metadata": {},
   "outputs": [
    {
     "name": "stdout",
     "output_type": "stream",
     "text": [
      "Accuracy: 0.7319\n",
      "Recall: 0.6916\n",
      "Precision: 0.7522\n",
      "F1-Score: 0.7206\n",
      "ROC AUC Score: 0.8176\n",
      "Matriz de confusão no conjunto de teste:\n",
      "[[49247 14527]\n",
      " [19671 44103]]\n"
     ]
    },
    {
     "data": {
      "image/png": "[encoded data removed]",
      "text/plain": [
       "<Figure size 432x288 with 1 Axes>"
      ]
     },
     "metadata": {
      "needs_background": "light"
     },
     "output_type": "display_data"
    },
    {
     "data": {
      "image/png": "[encoded data removed]",
      "text/plain": [
       "<Figure size 432x288 with 1 Axes>"
      ]
     },
     "metadata": {
      "needs_background": "light"
     },
     "output_type": "display_data"
    }
   ],
   "source": [
    "print_metrics(y_valid, y_valid_pred_adaBoost, y_valid_proba_adaBoost)"
   ]
  },
  {
   "cell_type": "markdown",
   "metadata": {
    "id": "mYwhyxkdEt16"
   },
   "source": [
    "### Modelo XGBoost"
   ]
  },
  {
   "cell_type": "markdown",
   "metadata": {
    "id": "cAZM1rGKHb-7"
   },
   "source": [
    "Descrição dos principais parâmetros utilizados:\n",
    "\n",
    "- learning_rate\n",
    "  - Possíveis valores: intervalo (0,0, inf)\n",
    "  - default=0.1\n",
    "  - A taxa de aprendizado reduz a contribuição de cada árvore por learning_rate. Há um trade-off entre learning_rate e n_estimators. \n",
    "\n",
    "- n_estimators\n",
    "  - Os valores devem estar no intervalo [1, inf).\n",
    "  - default=100\n",
    "  - O número de estágios de reforço a serem executados. \n",
    "  - **O aumento de gradiente é bastante robusto ao over-fitting, portanto, um número grande geralmente resulta em melhor desempenho.\n",
    "\n",
    "- max_depth\n",
    "  - Os valores devem estar no intervalo [1, inf).\n",
    "  - default=3\n",
    "  - Ajuste este parâmetro para melhorar o desempenho; \n",
    "    - O melhor valor depende da interação das variáveis de entrada."
   ]
  },
  {
   "cell_type": "code",
   "execution_count": null,
   "metadata": {
    "id": "sHmEuyCIEv7O"
   },
   "outputs": [],
   "source": [
    "from sklearn.ensemble import GradientBoostingClassifier"
   ]
  },
  {
   "cell_type": "markdown",
   "metadata": {
    "id": "2dNd5Uvg4fjC"
   },
   "source": [
    "#### 1ª Configuração"
   ]
  },
  {
   "cell_type": "markdown",
   "metadata": {
    "id": "6HDyP542CdtN"
   },
   "source": [
    "A primeira configuração é utilizada com os parâmetros padrões do Sklearn.\n",
    "\n",
    "Segue abaixo a lista dos principais hiperparâmetros:\n",
    "\n",
    "- learning_rate\n",
    "  - default=0.1\n",
    "\n",
    "- n_estimators\n",
    "  - default=100\n",
    "\n",
    "- max_depth\n",
    "  - default=3"
   ]
  },
  {
   "cell_type": "code",
   "execution_count": null,
   "metadata": {
    "id": "kIs_MMjkhsU5"
   },
   "outputs": [],
   "source": [
    "clf_gb = xgb.XGBClassifier(random_state=27)"
   ]
  },
  {
   "cell_type": "code",
   "execution_count": null,
   "metadata": {
    "colab": {
     "base_uri": "https://localhost:8080/"
    },
    "id": "bluXpSrShs9A",
    "outputId": "cfb3b8d7-8054-43b4-9535-50c2da3d924a"
   },
   "outputs": [
    {
     "name": "stdout",
     "output_type": "stream",
     "text": [
      "CPU times: total: 8min 55s\n",
      "Wall time: 51 s\n"
     ]
    },
    {
     "data": {
      "text/html": [
       "<style>#sk-container-id-5 {color: black;background-color: white;}#sk-container-id-5 pre{padding: 0;}#sk-container-id-5 div.sk-toggleable {background-color: white;}#sk-container-id-5 label.sk-toggleable__label {cursor: pointer;display: block;width: 100%;margin-bottom: 0;padding: 0.3em;box-sizing: border-box;text-align: center;}#sk-container-id-5 label.sk-toggleable__label-arrow:before {content: \"▸\";float: left;margin-right: 0.25em;color: #696969;}#sk-container-id-5 label.sk-toggleable__label-arrow:hover:before {color: black;}#sk-container-id-5 div.sk-estimator:hover label.sk-toggleable__label-arrow:before {color: black;}#sk-container-id-5 div.sk-toggleable__content {max-height: 0;max-width: 0;overflow: hidden;text-align: left;background-color: #f0f8ff;}#sk-container-id-5 div.sk-toggleable__content pre {margin: 0.2em;color: black;border-radius: 0.25em;background-color: #f0f8ff;}#sk-container-id-5 input.sk-toggleable__control:checked~div.sk-toggleable__content {max-height: 200px;max-width: 100%;overflow: auto;}#sk-container-id-5 input.sk-toggleable__control:checked~label.sk-toggleable__label-arrow:before {content: \"▾\";}#sk-container-id-5 div.sk-estimator input.sk-toggleable__control:checked~label.sk-toggleable__label {background-color: #d4ebff;}#sk-container-id-5 div.sk-label input.sk-toggleable__control:checked~label.sk-toggleable__label {background-color: #d4ebff;}#sk-container-id-5 input.sk-hidden--visually {border: 0;clip: rect(1px 1px 1px 1px);clip: rect(1px, 1px, 1px, 1px);height: 1px;margin: -1px;overflow: hidden;padding: 0;position: absolute;width: 1px;}#sk-container-id-5 div.sk-estimator {font-family: monospace;background-color: #f0f8ff;border: 1px dotted black;border-radius: 0.25em;box-sizing: border-box;margin-bottom: 0.5em;}#sk-container-id-5 div.sk-estimator:hover {background-color: #d4ebff;}#sk-container-id-5 div.sk-parallel-item::after {content: \"\";width: 100%;border-bottom: 1px solid gray;flex-grow: 1;}#sk-container-id-5 div.sk-label:hover label.sk-toggleable__label {background-color: #d4ebff;}#sk-container-id-5 div.sk-serial::before {content: \"\";position: absolute;border-left: 1px solid gray;box-sizing: border-box;top: 0;bottom: 0;left: 50%;z-index: 0;}#sk-container-id-5 div.sk-serial {display: flex;flex-direction: column;align-items: center;background-color: white;padding-right: 0.2em;padding-left: 0.2em;position: relative;}#sk-container-id-5 div.sk-item {position: relative;z-index: 1;}#sk-container-id-5 div.sk-parallel {display: flex;align-items: stretch;justify-content: center;background-color: white;position: relative;}#sk-container-id-5 div.sk-item::before, #sk-container-id-5 div.sk-parallel-item::before {content: \"\";position: absolute;border-left: 1px solid gray;box-sizing: border-box;top: 0;bottom: 0;left: 50%;z-index: -1;}#sk-container-id-5 div.sk-parallel-item {display: flex;flex-direction: column;z-index: 1;position: relative;background-color: white;}#sk-container-id-5 div.sk-parallel-item:first-child::after {align-self: flex-end;width: 50%;}#sk-container-id-5 div.sk-parallel-item:last-child::after {align-self: flex-start;width: 50%;}#sk-container-id-5 div.sk-parallel-item:only-child::after {width: 0;}#sk-container-id-5 div.sk-dashed-wrapped {border: 1px dashed gray;margin: 0 0.4em 0.5em 0.4em;box-sizing: border-box;padding-bottom: 0.4em;background-color: white;}#sk-container-id-5 div.sk-label label {font-family: monospace;font-weight: bold;display: inline-block;line-height: 1.2em;}#sk-container-id-5 div.sk-label-container {text-align: center;}#sk-container-id-5 div.sk-container {/* jupyter's `normalize.less` sets `[hidden] { display: none; }` but bootstrap.min.css set `[hidden] { display: none !important; }` so we also need the `!important` here to be able to override the default hidden behavior on the sphinx rendered scikit-learn.org. See: https://github.com/scikit-learn/scikit-learn/issues/21755 */display: inline-block !important;position: relative;}#sk-container-id-5 div.sk-text-repr-fallback {display: none;}</style><div id=\"sk-container-id-5\" class=\"sk-top-container\"><div class=\"sk-text-repr-fallback\"><pre>XGBClassifier(base_score=0.5, booster=&#x27;gbtree&#x27;, callbacks=None,\n",
       "              colsample_bylevel=1, colsample_bynode=1, colsample_bytree=1,\n",
       "              early_stopping_rounds=None, enable_categorical=False,\n",
       "              eval_metric=None, gamma=0, gpu_id=-1, grow_policy=&#x27;depthwise&#x27;,\n",
       "              importance_type=None, interaction_constraints=&#x27;&#x27;,\n",
       "              learning_rate=0.300000012, max_bin=256, max_cat_to_onehot=4,\n",
       "              max_delta_step=0, max_depth=6, max_leaves=0, min_child_weight=1,\n",
       "              missing=nan, monotone_constraints=&#x27;()&#x27;, n_estimators=100,\n",
       "              n_jobs=0, num_parallel_tree=1, predictor=&#x27;auto&#x27;, random_state=27,\n",
       "              reg_alpha=0, reg_lambda=1, ...)</pre><b>In a Jupyter environment, please rerun this cell to show the HTML representation or trust the notebook. <br />On GitHub, the HTML representation is unable to render, please try loading this page with nbviewer.org.</b></div><div class=\"sk-container\" hidden><div class=\"sk-item\"><div class=\"sk-estimator sk-toggleable\"><input class=\"sk-toggleable__control sk-hidden--visually\" id=\"sk-estimator-id-7\" type=\"checkbox\" checked><label for=\"sk-estimator-id-7\" class=\"sk-toggleable__label sk-toggleable__label-arrow\">XGBClassifier</label><div class=\"sk-toggleable__content\"><pre>XGBClassifier(base_score=0.5, booster=&#x27;gbtree&#x27;, callbacks=None,\n",
       "              colsample_bylevel=1, colsample_bynode=1, colsample_bytree=1,\n",
       "              early_stopping_rounds=None, enable_categorical=False,\n",
       "              eval_metric=None, gamma=0, gpu_id=-1, grow_policy=&#x27;depthwise&#x27;,\n",
       "              importance_type=None, interaction_constraints=&#x27;&#x27;,\n",
       "              learning_rate=0.300000012, max_bin=256, max_cat_to_onehot=4,\n",
       "              max_delta_step=0, max_depth=6, max_leaves=0, min_child_weight=1,\n",
       "              missing=nan, monotone_constraints=&#x27;()&#x27;, n_estimators=100,\n",
       "              n_jobs=0, num_parallel_tree=1, predictor=&#x27;auto&#x27;, random_state=27,\n",
       "              reg_alpha=0, reg_lambda=1, ...)</pre></div></div></div></div></div>"
      ],
      "text/plain": [
       "XGBClassifier(base_score=0.5, booster='gbtree', callbacks=None,\n",
       "              colsample_bylevel=1, colsample_bynode=1, colsample_bytree=1,\n",
       "              early_stopping_rounds=None, enable_categorical=False,\n",
       "              eval_metric=None, gamma=0, gpu_id=-1, grow_policy='depthwise',\n",
       "              importance_type=None, interaction_constraints='',\n",
       "              learning_rate=0.300000012, max_bin=256, max_cat_to_onehot=4,\n",
       "              max_delta_step=0, max_depth=6, max_leaves=0, min_child_weight=1,\n",
       "              missing=nan, monotone_constraints='()', n_estimators=100,\n",
       "              n_jobs=0, num_parallel_tree=1, predictor='auto', random_state=27,\n",
       "              reg_alpha=0, reg_lambda=1, ...)"
      ]
     },
     "execution_count": 87,
     "metadata": {},
     "output_type": "execute_result"
    }
   ],
   "source": [
    "%%time\n",
    "clf_gb.fit(X_train, y_train)"
   ]
  },
  {
   "cell_type": "code",
   "execution_count": null,
   "metadata": {
    "id": "yb7fjHhZhtPs"
   },
   "outputs": [],
   "source": [
    "y_pred_valid_gb_1st = clf_gb.predict(X_valid)"
   ]
  },
  {
   "cell_type": "code",
   "execution_count": null,
   "metadata": {
    "id": "HGTVUGv0CJ07"
   },
   "outputs": [],
   "source": [
    "y_pred_valid_proba_gb_1st = clf_gb.predict_proba(X_valid)"
   ]
  },
  {
   "cell_type": "markdown",
   "metadata": {
    "id": "s1Z1S6I96qLQ"
   },
   "source": [
    "##### Análise de Desempenho"
   ]
  },
  {
   "cell_type": "code",
   "execution_count": null,
   "metadata": {
    "colab": {
     "base_uri": "https://localhost:8080/"
    },
    "id": "q0smRYcg6rsc",
    "outputId": "d80c2163-462c-4353-d3ef-660befa28a75"
   },
   "outputs": [
    {
     "name": "stdout",
     "output_type": "stream",
     "text": [
      "Accuracy: 0.7597\n",
      "Recall: 0.6719\n",
      "Precision: 0.8151\n",
      "F1-Score: 0.7366\n",
      "ROC AUC Score: 0.8426\n",
      "Matriz de confusão no conjunto de teste:\n",
      "[[54053  9721]\n",
      " [20924 42850]]\n"
     ]
    },
    {
     "data": {
      "image/png": "[encoded data removed]",
      "text/plain": [
       "<Figure size 432x288 with 1 Axes>"
      ]
     },
     "metadata": {
      "needs_background": "light"
     },
     "output_type": "display_data"
    },
    {
     "data": {
      "image/png": "[encoded data removed]",
      "text/plain": [
       "<Figure size 432x288 with 1 Axes>"
      ]
     },
     "metadata": {
      "needs_background": "light"
     },
     "output_type": "display_data"
    }
   ],
   "source": [
    "print_metrics(y_valid, y_pred_valid_gb_1st, y_pred_valid_proba_gb_1st)"
   ]
  },
  {
   "cell_type": "markdown",
   "metadata": {
    "id": "5pVdid7yEMS8"
   },
   "source": [
    "#### 2ª Configuração"
   ]
  },
  {
   "cell_type": "markdown",
   "metadata": {
    "id": "b7nArA2JE1Zk"
   },
   "source": [
    "Para a segunda configuração alteramos os seguintes parâmetros:"
   ]
  },
  {
   "cell_type": "code",
   "execution_count": null,
   "metadata": {
    "id": "-X1R61biD1G4"
   },
   "outputs": [],
   "source": [
    "def gradient_boosting(trial):\n",
    "    params = {\n",
    "        'learning_rate': trial.suggest_float('learning_rate', 0.0001, 0.0951, step=0.005),\n",
    "        'max_depth': trial.suggest_int('max_depth', 4, 100),\n",
    "        'n_estimators': trial.suggest_int('n_estimators', 10, 300, step=10)\n",
    "    }\n",
    "\n",
    "    gb_clf_trial = xgb.XGBClassifier(\n",
    "        learning_rate=params[\"learning_rate\"],\n",
    "        max_depth=params[\"max_depth\"],\n",
    "        n_estimators=params[\"n_estimators\"],\n",
    "        random_state=42\n",
    "    )\n",
    "    gb_clf_trial.fit(X_train, y_train)\n",
    "\n",
    "    y_pred_proba = gb_clf_trial.predict_proba(X_valid)\n",
    "\n",
    "    statistic = eval_ks_metric(y_valid, y_pred_proba)\n",
    "\n",
    "    gc.collect()\n",
    "\n",
    "    return statistic"
   ]
  },
  {
   "cell_type": "code",
   "execution_count": null,
   "metadata": {},
   "outputs": [
    {
     "name": "stderr",
     "output_type": "stream",
     "text": [
      "\u001b[32m[I 2022-10-16 02:46:31,554]\u001b[0m A new study created in memory with name: no-name-6630c942-cfeb-41fb-9111-51e81415ba6a\u001b[0m\n",
      "\u001b[32m[I 2022-10-16 02:59:49,987]\u001b[0m Trial 0 finished with value: 0.5001881644557344 and parameters: {'learning_rate': 0.035100000000000006, 'max_depth': 61, 'n_estimators': 220}. Best is trial 0 with value: 0.5001881644557344.\u001b[0m\n",
      "\u001b[32m[I 2022-10-16 03:08:44,157]\u001b[0m Trial 1 finished with value: 0.49987455702951045 and parameters: {'learning_rate': 0.0601, 'max_depth': 64, 'n_estimators': 150}. Best is trial 0 with value: 0.5001881644557344.\u001b[0m\n",
      "\u001b[32m[I 2022-10-16 03:21:25,396]\u001b[0m Trial 2 finished with value: 0.5017248408442312 and parameters: {'learning_rate': 0.07010000000000001, 'max_depth': 66, 'n_estimators': 230}. Best is trial 2 with value: 0.5017248408442312.\u001b[0m\n",
      "\u001b[32m[I 2022-10-16 03:31:30,806]\u001b[0m Trial 3 finished with value: 0.49543701194844286 and parameters: {'learning_rate': 0.0301, 'max_depth': 61, 'n_estimators': 160}. Best is trial 2 with value: 0.5017248408442312.\u001b[0m\n",
      "\u001b[32m[I 2022-10-16 03:47:45,790]\u001b[0m Trial 4 finished with value: 0.5024147771819237 and parameters: {'learning_rate': 0.040100000000000004, 'max_depth': 63, 'n_estimators': 280}. Best is trial 4 with value: 0.5024147771819237.\u001b[0m\n",
      "\u001b[32m[I 2022-10-16 03:59:40,610]\u001b[0m Trial 5 finished with value: 0.5017718819581647 and parameters: {'learning_rate': 0.0801, 'max_depth': 59, 'n_estimators': 220}. Best is trial 4 with value: 0.5024147771819237.\u001b[0m\n",
      "\u001b[32m[I 2022-10-16 04:03:30,983]\u001b[0m Trial 6 finished with value: 0.5128265437325555 and parameters: {'learning_rate': 0.0551, 'max_depth': 17, 'n_estimators': 120}. Best is trial 6 with value: 0.5128265437325555.\u001b[0m\n",
      "\u001b[32m[I 2022-10-16 04:11:22,604]\u001b[0m Trial 7 finished with value: 0.4126760121679681 and parameters: {'learning_rate': 0.0001, 'max_depth': 86, 'n_estimators': 110}. Best is trial 6 with value: 0.5128265437325555.\u001b[0m\n",
      "\u001b[32m[I 2022-10-16 04:23:07,909]\u001b[0m Trial 8 finished with value: 0.4059648132467776 and parameters: {'learning_rate': 0.0001, 'max_depth': 29, 'n_estimators': 200}. Best is trial 6 with value: 0.5128265437325555.\u001b[0m\n",
      "\u001b[32m[I 2022-10-16 04:39:01,279]\u001b[0m Trial 9 finished with value: 0.5045159469376235 and parameters: {'learning_rate': 0.0651, 'max_depth': 57, 'n_estimators': 300}. Best is trial 6 with value: 0.5128265437325555.\u001b[0m\n",
      "\u001b[32m[I 2022-10-16 04:39:50,325]\u001b[0m Trial 10 finished with value: 0.5211998620127325 and parameters: {'learning_rate': 0.0901, 'max_depth': 6, 'n_estimators': 100}. Best is trial 10 with value: 0.5211998620127325.\u001b[0m\n",
      "\u001b[32m[I 2022-10-16 04:40:30,889]\u001b[0m Trial 11 finished with value: 0.516527111361997 and parameters: {'learning_rate': 0.0951, 'max_depth': 5, 'n_estimators': 100}. Best is trial 10 with value: 0.5211998620127325.\u001b[0m\n",
      "\u001b[32m[I 2022-10-16 04:41:06,542]\u001b[0m Trial 12 finished with value: 0.5124972559350205 and parameters: {'learning_rate': 0.0901, 'max_depth': 4, 'n_estimators': 110}. Best is trial 10 with value: 0.5211998620127325.\u001b[0m\n",
      "\u001b[32m[I 2022-10-16 04:49:16,312]\u001b[0m Trial 13 finished with value: 0.5031987957474833 and parameters: {'learning_rate': 0.0901, 'max_depth': 32, 'n_estimators': 160}. Best is trial 10 with value: 0.5211998620127325.\u001b[0m\n",
      "\u001b[32m[I 2022-10-16 04:50:14,475]\u001b[0m Trial 14 finished with value: 0.5236930410512122 and parameters: {'learning_rate': 0.0951, 'max_depth': 7, 'n_estimators': 100}. Best is trial 14 with value: 0.5236930410512122.\u001b[0m\n",
      "\u001b[32m[I 2022-10-16 04:58:01,455]\u001b[0m Trial 15 finished with value: 0.49877693103772697 and parameters: {'learning_rate': 0.0801, 'max_depth': 38, 'n_estimators': 140}. Best is trial 14 with value: 0.5236930410512122.\u001b[0m\n",
      "\u001b[32m[I 2022-10-16 05:04:26,506]\u001b[0m Trial 16 finished with value: 0.5065230344654561 and parameters: {'learning_rate': 0.0201, 'max_depth': 18, 'n_estimators': 180}. Best is trial 14 with value: 0.5236930410512122.\u001b[0m\n",
      "\u001b[32m[I 2022-10-16 05:12:00,784]\u001b[0m Trial 17 finished with value: 0.5001724840844232 and parameters: {'learning_rate': 0.0751, 'max_depth': 44, 'n_estimators': 130}. Best is trial 14 with value: 0.5236930410512122.\u001b[0m\n",
      "\u001b[32m[I 2022-10-16 05:20:28,563]\u001b[0m Trial 18 finished with value: 0.5114466710571706 and parameters: {'learning_rate': 0.050100000000000006, 'max_depth': 18, 'n_estimators': 260}. Best is trial 14 with value: 0.5236930410512122.\u001b[0m\n",
      "\u001b[32m[I 2022-10-16 05:30:14,333]\u001b[0m Trial 19 finished with value: 0.5018659641860319 and parameters: {'learning_rate': 0.0951, 'max_depth': 93, 'n_estimators': 180}. Best is trial 14 with value: 0.5236930410512122.\u001b[0m\n",
      "\u001b[32m[I 2022-10-16 05:36:13,625]\u001b[0m Trial 20 finished with value: 0.49840060212625836 and parameters: {'learning_rate': 0.08510000000000001, 'max_depth': 76, 'n_estimators': 100}. Best is trial 14 with value: 0.5236930410512122.\u001b[0m\n",
      "\u001b[32m[I 2022-10-16 05:36:54,114]\u001b[0m Trial 21 finished with value: 0.516527111361997 and parameters: {'learning_rate': 0.0951, 'max_depth': 5, 'n_estimators': 100}. Best is trial 14 with value: 0.5236930410512122.\u001b[0m\n",
      "\u001b[32m[I 2022-10-16 05:38:33,249]\u001b[0m Trial 22 finished with value: 0.5244143381315269 and parameters: {'learning_rate': 0.0951, 'max_depth': 9, 'n_estimators': 130}. Best is trial 22 with value: 0.5244143381315269.\u001b[0m\n",
      "\u001b[32m[I 2022-10-16 05:40:58,977]\u001b[0m Trial 23 finished with value: 0.5232539906544987 and parameters: {'learning_rate': 0.0751, 'max_depth': 12, 'n_estimators': 130}. Best is trial 22 with value: 0.5244143381315269.\u001b[0m\n",
      "\u001b[32m[I 2022-10-16 05:47:07,746]\u001b[0m Trial 24 finished with value: 0.5026343023802804 and parameters: {'learning_rate': 0.0751, 'max_depth': 25, 'n_estimators': 130}. Best is trial 22 with value: 0.5244143381315269.\u001b[0m\n",
      "\u001b[32m[I 2022-10-16 05:51:35,282]\u001b[0m Trial 25 finished with value: 0.514645466804654 and parameters: {'learning_rate': 0.0801, 'max_depth': 15, 'n_estimators': 180}. Best is trial 22 with value: 0.5244143381315269.\u001b[0m\n",
      "\u001b[32m[I 2022-10-16 05:59:52,472]\u001b[0m Trial 26 finished with value: 0.5012544297048955 and parameters: {'learning_rate': 0.0651, 'max_depth': 49, 'n_estimators': 140}. Best is trial 22 with value: 0.5244143381315269.\u001b[0m\n",
      "\u001b[32m[I 2022-10-16 06:01:51,911]\u001b[0m Trial 27 finished with value: 0.5237087214225233 and parameters: {'learning_rate': 0.08510000000000001, 'max_depth': 11, 'n_estimators': 120}. Best is trial 22 with value: 0.5244143381315269.\u001b[0m\n",
      "\u001b[32m[I 2022-10-16 06:09:37,419]\u001b[0m Trial 28 finished with value: 0.5018816445573431 and parameters: {'learning_rate': 0.08510000000000001, 'max_depth': 28, 'n_estimators': 160}. Best is trial 22 with value: 0.5244143381315269.\u001b[0m\n",
      "\u001b[32m[I 2022-10-16 06:14:54,293]\u001b[0m Trial 29 finished with value: 0.50407689654091 and parameters: {'learning_rate': 0.08510000000000001, 'max_depth': 23, 'n_estimators': 120}. Best is trial 22 with value: 0.5244143381315269.\u001b[0m\n",
      "\u001b[32m[I 2022-10-16 06:25:17,111]\u001b[0m Trial 30 finished with value: 0.502446137924546 and parameters: {'learning_rate': 0.0951, 'max_depth': 40, 'n_estimators': 200}. Best is trial 22 with value: 0.5244143381315269.\u001b[0m\n",
      "\u001b[32m[I 2022-10-16 06:27:34,667]\u001b[0m Trial 31 finished with value: 0.5226267758020511 and parameters: {'learning_rate': 0.07010000000000001, 'max_depth': 12, 'n_estimators': 120}. Best is trial 22 with value: 0.5244143381315269.\u001b[0m\n",
      "\u001b[32m[I 2022-10-16 06:30:10,317]\u001b[0m Trial 32 finished with value: 0.5229874243422084 and parameters: {'learning_rate': 0.0751, 'max_depth': 12, 'n_estimators': 140}. Best is trial 22 with value: 0.5244143381315269.\u001b[0m\n",
      "\u001b[32m[I 2022-10-16 06:32:20,253]\u001b[0m Trial 33 finished with value: 0.524665224072506 and parameters: {'learning_rate': 0.08510000000000001, 'max_depth': 10, 'n_estimators': 150}. Best is trial 33 with value: 0.524665224072506.\u001b[0m\n",
      "\u001b[32m[I 2022-10-16 06:38:14,254]\u001b[0m Trial 34 finished with value: 0.5050647599335152 and parameters: {'learning_rate': 0.08510000000000001, 'max_depth': 21, 'n_estimators': 150}. Best is trial 33 with value: 0.524665224072506.\u001b[0m\n",
      "\u001b[32m[I 2022-10-16 06:40:26,079]\u001b[0m Trial 35 finished with value: 0.524257534418415 and parameters: {'learning_rate': 0.0651, 'max_depth': 10, 'n_estimators': 150}. Best is trial 33 with value: 0.524665224072506.\u001b[0m\n",
      "\u001b[32m[I 2022-10-16 06:49:48,906]\u001b[0m Trial 36 finished with value: 0.5018346034434096 and parameters: {'learning_rate': 0.0601, 'max_depth': 35, 'n_estimators': 170}. Best is trial 33 with value: 0.524665224072506.\u001b[0m\n",
      "\u001b[32m[I 2022-10-16 06:52:26,108]\u001b[0m Trial 37 finished with value: 0.5234578354815442 and parameters: {'learning_rate': 0.035100000000000006, 'max_depth': 11, 'n_estimators': 150}. Best is trial 33 with value: 0.524665224072506.\u001b[0m\n",
      "\u001b[32m[I 2022-10-16 07:03:19,925]\u001b[0m Trial 38 finished with value: 0.5028067864647034 and parameters: {'learning_rate': 0.050100000000000006, 'max_depth': 26, 'n_estimators': 230}. Best is trial 33 with value: 0.524665224072506.\u001b[0m\n",
      "\u001b[32m[I 2022-10-16 07:10:44,554]\u001b[0m Trial 39 finished with value: 0.5089691723900022 and parameters: {'learning_rate': 0.0651, 'max_depth': 20, 'n_estimators': 200}. Best is trial 33 with value: 0.524665224072506.\u001b[0m\n",
      "\u001b[32m[I 2022-10-16 07:20:50,423]\u001b[0m Trial 40 finished with value: 0.5021325304983222 and parameters: {'learning_rate': 0.0551, 'max_depth': 75, 'n_estimators': 170}. Best is trial 33 with value: 0.524665224072506.\u001b[0m\n",
      "\u001b[32m[I 2022-10-16 07:22:27,637]\u001b[0m Trial 41 finished with value: 0.5231755887979428 and parameters: {'learning_rate': 0.0901, 'max_depth': 10, 'n_estimators': 110}. Best is trial 33 with value: 0.524665224072506.\u001b[0m\n",
      "\u001b[32m[I 2022-10-16 07:23:48,097]\u001b[0m Trial 42 finished with value: 0.5249631511274186 and parameters: {'learning_rate': 0.0801, 'max_depth': 8, 'n_estimators': 120}. Best is trial 42 with value: 0.5249631511274186.\u001b[0m\n",
      "\u001b[32m[I 2022-10-16 07:26:55,860]\u001b[0m Trial 43 finished with value: 0.5150374760874338 and parameters: {'learning_rate': 0.07010000000000001, 'max_depth': 15, 'n_estimators': 120}. Best is trial 42 with value: 0.5249631511274186.\u001b[0m\n",
      "\u001b[32m[I 2022-10-16 07:28:43,548]\u001b[0m Trial 44 finished with value: 0.5266879919716498 and parameters: {'learning_rate': 0.0801, 'max_depth': 9, 'n_estimators': 140}. Best is trial 44 with value: 0.5266879919716498.\u001b[0m\n",
      "\u001b[32m[I 2022-10-16 07:29:28,354]\u001b[0m Trial 45 finished with value: 0.5144102612349861 and parameters: {'learning_rate': 0.0801, 'max_depth': 4, 'n_estimators': 140}. Best is trial 44 with value: 0.5266879919716498.\u001b[0m\n",
      "\u001b[32m[I 2022-10-16 07:31:09,246]\u001b[0m Trial 46 finished with value: 0.5250101922413524 and parameters: {'learning_rate': 0.0601, 'max_depth': 8, 'n_estimators': 150}. Best is trial 44 with value: 0.5266879919716498.\u001b[0m\n",
      "\u001b[32m[I 2022-10-16 07:40:14,467]\u001b[0m Trial 47 finished with value: 0.500407689654091 and parameters: {'learning_rate': 0.0601, 'max_depth': 32, 'n_estimators': 170}. Best is trial 44 with value: 0.5266879919716498.\u001b[0m\n",
      "\u001b[32m[I 2022-10-16 07:44:14,492]\u001b[0m Trial 48 finished with value: 0.5121993288801079 and parameters: {'learning_rate': 0.0251, 'max_depth': 16, 'n_estimators': 130}. Best is trial 44 with value: 0.5266879919716498.\u001b[0m\n",
      "\u001b[32m[I 2022-10-16 07:46:23,026]\u001b[0m Trial 49 finished with value: 0.5240066484774359 and parameters: {'learning_rate': 0.040100000000000004, 'max_depth': 8, 'n_estimators': 190}. Best is trial 44 with value: 0.5266879919716498.\u001b[0m\n",
      "\u001b[32m[I 2022-10-16 07:54:38,366]\u001b[0m Trial 50 finished with value: 0.5063662307523442 and parameters: {'learning_rate': 0.0901, 'max_depth': 21, 'n_estimators': 220}. Best is trial 44 with value: 0.5266879919716498.\u001b[0m\n",
      "\u001b[32m[I 2022-10-16 07:56:35,216]\u001b[0m Trial 51 finished with value: 0.5248847492708628 and parameters: {'learning_rate': 0.0551, 'max_depth': 9, 'n_estimators': 150}. Best is trial 44 with value: 0.5266879919716498.\u001b[0m\n",
      "\u001b[32m[I 2022-10-16 08:00:35,357]\u001b[0m Trial 52 finished with value: 0.5174679336406686 and parameters: {'learning_rate': 0.0451, 'max_depth': 15, 'n_estimators': 150}. Best is trial 44 with value: 0.5266879919716498.\u001b[0m\n",
      "\u001b[32m[I 2022-10-16 08:02:07,558]\u001b[0m Trial 53 finished with value: 0.5243202559036598 and parameters: {'learning_rate': 0.0551, 'max_depth': 7, 'n_estimators': 160}. Best is trial 44 with value: 0.5266879919716498.\u001b[0m\n",
      "\u001b[32m[I 2022-10-16 08:02:43,293]\u001b[0m Trial 54 finished with value: 0.5112741869727475 and parameters: {'learning_rate': 0.0801, 'max_depth': 4, 'n_estimators': 110}. Best is trial 44 with value: 0.5266879919716498.\u001b[0m\n",
      "\u001b[32m[I 2022-10-16 08:04:20,183]\u001b[0m Trial 55 finished with value: 0.5265468686298491 and parameters: {'learning_rate': 0.07010000000000001, 'max_depth': 8, 'n_estimators': 140}. Best is trial 44 with value: 0.5266879919716498.\u001b[0m\n",
      "\u001b[32m[I 2022-10-16 08:10:04,839]\u001b[0m Trial 56 finished with value: 0.5084046790227992 and parameters: {'learning_rate': 0.07010000000000001, 'max_depth': 19, 'n_estimators': 160}. Best is trial 44 with value: 0.5266879919716498.\u001b[0m\n",
      "\u001b[32m[I 2022-10-16 08:13:25,580]\u001b[0m Trial 57 finished with value: 0.519286856712767 and parameters: {'learning_rate': 0.0601, 'max_depth': 14, 'n_estimators': 140}. Best is trial 44 with value: 0.5266879919716498.\u001b[0m\n",
      "\u001b[32m[I 2022-10-16 08:21:58,120]\u001b[0m Trial 58 finished with value: 0.4574591526327343 and parameters: {'learning_rate': 0.0051, 'max_depth': 25, 'n_estimators': 160}. Best is trial 44 with value: 0.5266879919716498.\u001b[0m\n",
      "\u001b[32m[I 2022-10-16 08:36:32,231]\u001b[0m Trial 59 finished with value: 0.5026343023802804 and parameters: {'learning_rate': 0.07010000000000001, 'max_depth': 55, 'n_estimators': 270}. Best is trial 44 with value: 0.5266879919716498.\u001b[0m\n",
      "\u001b[32m[I 2022-10-16 08:37:37,368]\u001b[0m Trial 60 finished with value: 0.5191300529996551 and parameters: {'learning_rate': 0.0551, 'max_depth': 7, 'n_estimators': 110}. Best is trial 44 with value: 0.5266879919716498.\u001b[0m\n",
      "\u001b[32m[I 2022-10-16 08:39:04,952]\u001b[0m Trial 61 finished with value: 0.5254649230093769 and parameters: {'learning_rate': 0.0751, 'max_depth': 8, 'n_estimators': 130}. Best is trial 44 with value: 0.5266879919716498.\u001b[0m\n",
      "\u001b[32m[I 2022-10-16 08:40:38,903]\u001b[0m Trial 62 finished with value: 0.5261391789757581 and parameters: {'learning_rate': 0.0751, 'max_depth': 8, 'n_estimators': 140}. Best is trial 44 with value: 0.5266879919716498.\u001b[0m\n",
      "\u001b[32m[I 2022-10-16 08:48:24,703]\u001b[0m Trial 63 finished with value: 0.4994668673754195 and parameters: {'learning_rate': 0.0751, 'max_depth': 99, 'n_estimators': 130}. Best is trial 44 with value: 0.5266879919716498.\u001b[0m\n",
      "\u001b[32m[I 2022-10-16 08:49:45,985]\u001b[0m Trial 64 finished with value: 0.523520556966789 and parameters: {'learning_rate': 0.0651, 'max_depth': 7, 'n_estimators': 140}. Best is trial 44 with value: 0.5266879919716498.\u001b[0m\n",
      "\u001b[32m[I 2022-10-16 08:53:31,885]\u001b[0m Trial 65 finished with value: 0.51025496283752 and parameters: {'learning_rate': 0.0751, 'max_depth': 17, 'n_estimators': 120}. Best is trial 44 with value: 0.5266879919716498.\u001b[0m\n",
      "\u001b[32m[I 2022-10-16 08:56:15,567]\u001b[0m Trial 66 finished with value: 0.5184244362906514 and parameters: {'learning_rate': 0.0801, 'max_depth': 13, 'n_estimators': 130}. Best is trial 44 with value: 0.5266879919716498.\u001b[0m\n",
      "\u001b[32m[I 2022-10-16 08:57:00,588]\u001b[0m Trial 67 finished with value: 0.5136262426694265 and parameters: {'learning_rate': 0.07010000000000001, 'max_depth': 4, 'n_estimators': 140}. Best is trial 44 with value: 0.5266879919716498.\u001b[0m\n",
      "\u001b[32m[I 2022-10-16 08:58:42,397]\u001b[0m Trial 68 finished with value: 0.5251356352118419 and parameters: {'learning_rate': 0.0651, 'max_depth': 8, 'n_estimators': 150}. Best is trial 44 with value: 0.5266879919716498.\u001b[0m\n",
      "\u001b[32m[I 2022-10-16 09:06:31,844]\u001b[0m Trial 69 finished with value: 0.4991532599491956 and parameters: {'learning_rate': 0.0801, 'max_depth': 66, 'n_estimators': 130}. Best is trial 44 with value: 0.5266879919716498.\u001b[0m\n",
      "\u001b[32m[I 2022-10-16 09:18:16,014]\u001b[0m Trial 70 finished with value: 0.5066641578072569 and parameters: {'learning_rate': 0.07010000000000001, 'max_depth': 22, 'n_estimators': 300}. Best is trial 44 with value: 0.5266879919716498.\u001b[0m\n",
      "\u001b[32m[I 2022-10-16 09:20:03,169]\u001b[0m Trial 71 finished with value: 0.5253551604101986 and parameters: {'learning_rate': 0.0651, 'max_depth': 8, 'n_estimators': 160}. Best is trial 44 with value: 0.5266879919716498.\u001b[0m\n",
      "\u001b[32m[I 2022-10-16 09:21:23,992]\u001b[0m Trial 72 finished with value: 0.5243045755323485 and parameters: {'learning_rate': 0.0751, 'max_depth': 7, 'n_estimators': 140}. Best is trial 44 with value: 0.5266879919716498.\u001b[0m\n",
      "\u001b[32m[I 2022-10-16 09:27:05,015]\u001b[0m Trial 73 finished with value: 0.5116661962555273 and parameters: {'learning_rate': 0.0601, 'max_depth': 18, 'n_estimators': 170}. Best is trial 44 with value: 0.5266879919716498.\u001b[0m\n",
      "\u001b[32m[I 2022-10-16 09:31:49,497]\u001b[0m Trial 74 finished with value: 0.5169191206447767 and parameters: {'learning_rate': 0.0651, 'max_depth': 14, 'n_estimators': 210}. Best is trial 44 with value: 0.5266879919716498.\u001b[0m\n",
      "\u001b[32m[I 2022-10-16 09:34:06,024]\u001b[0m Trial 75 finished with value: 0.5231755887979428 and parameters: {'learning_rate': 0.0751, 'max_depth': 12, 'n_estimators': 120}. Best is trial 44 with value: 0.5266879919716498.\u001b[0m\n",
      "\u001b[32m[I 2022-10-16 09:36:09,858]\u001b[0m Trial 76 finished with value: 0.5267193527142722 and parameters: {'learning_rate': 0.0651, 'max_depth': 9, 'n_estimators': 160}. Best is trial 76 with value: 0.5267193527142722.\u001b[0m\n",
      "\u001b[32m[I 2022-10-16 09:37:01,026]\u001b[0m Trial 77 finished with value: 0.513594881926804 and parameters: {'learning_rate': 0.0651, 'max_depth': 4, 'n_estimators': 160}. Best is trial 76 with value: 0.5267193527142722.\u001b[0m\n",
      "\u001b[32m[I 2022-10-16 09:39:44,937]\u001b[0m Trial 78 finished with value: 0.5255903659798664 and parameters: {'learning_rate': 0.07010000000000001, 'max_depth': 10, 'n_estimators': 190}. Best is trial 76 with value: 0.5267193527142722.\u001b[0m\n",
      "\u001b[32m[I 2022-10-16 09:45:01,904]\u001b[0m Trial 79 finished with value: 0.5130460689309122 and parameters: {'learning_rate': 0.07010000000000001, 'max_depth': 16, 'n_estimators': 190}. Best is trial 76 with value: 0.5267193527142722.\u001b[0m\n",
      "\u001b[32m[I 2022-10-16 09:48:30,059]\u001b[0m Trial 80 finished with value: 0.5214507479537116 and parameters: {'learning_rate': 0.07010000000000001, 'max_depth': 12, 'n_estimators': 190}. Best is trial 76 with value: 0.5267193527142722.\u001b[0m\n",
      "\u001b[32m[I 2022-10-16 09:50:48,163]\u001b[0m Trial 81 finished with value: 0.5265468686298492 and parameters: {'learning_rate': 0.0651, 'max_depth': 9, 'n_estimators': 180}. Best is trial 76 with value: 0.5267193527142722.\u001b[0m\n",
      "\u001b[32m[I 2022-10-16 09:52:15,077]\u001b[0m Trial 82 finished with value: 0.5241477718192367 and parameters: {'learning_rate': 0.0651, 'max_depth': 6, 'n_estimators': 180}. Best is trial 76 with value: 0.5267193527142722.\u001b[0m\n",
      "\u001b[32m[I 2022-10-16 09:54:50,950]\u001b[0m Trial 83 finished with value: 0.5255903659798664 and parameters: {'learning_rate': 0.0751, 'max_depth': 10, 'n_estimators': 180}. Best is trial 76 with value: 0.5267193527142722.\u001b[0m\n",
      "\u001b[32m[I 2022-10-16 10:05:07,570]\u001b[0m Trial 84 finished with value: 0.5011133063630947 and parameters: {'learning_rate': 0.0751, 'max_depth': 74, 'n_estimators': 180}. Best is trial 76 with value: 0.5267193527142722.\u001b[0m\n",
      "\u001b[32m[I 2022-10-16 10:14:53,965]\u001b[0m Trial 85 finished with value: 0.5020384482704551 and parameters: {'learning_rate': 0.0751, 'max_depth': 47, 'n_estimators': 170}. Best is trial 76 with value: 0.5267193527142722.\u001b[0m\n",
      "\u001b[32m[I 2022-10-16 10:18:15,068]\u001b[0m Trial 86 finished with value: 0.52156051055289 and parameters: {'learning_rate': 0.08510000000000001, 'max_depth': 11, 'n_estimators': 210}. Best is trial 76 with value: 0.5267193527142722.\u001b[0m\n",
      "\u001b[32m[I 2022-10-16 10:22:36,481]\u001b[0m Trial 87 finished with value: 0.5148649920030106 and parameters: {'learning_rate': 0.0801, 'max_depth': 14, 'n_estimators': 190}. Best is trial 76 with value: 0.5267193527142722.\u001b[0m\n",
      "\u001b[32m[I 2022-10-16 10:25:06,544]\u001b[0m Trial 88 finished with value: 0.5264371060306708 and parameters: {'learning_rate': 0.0601, 'max_depth': 10, 'n_estimators': 170}. Best is trial 76 with value: 0.5267193527142722.\u001b[0m\n",
      "\u001b[32m[I 2022-10-16 10:31:14,780]\u001b[0m Trial 89 finished with value: 0.5087182864490232 and parameters: {'learning_rate': 0.0601, 'max_depth': 19, 'n_estimators': 170}. Best is trial 76 with value: 0.5267193527142722.\u001b[0m\n",
      "\u001b[32m[I 2022-10-16 10:40:07,866]\u001b[0m Trial 90 finished with value: 0.5026186220089692 and parameters: {'learning_rate': 0.07010000000000001, 'max_depth': 28, 'n_estimators': 180}. Best is trial 76 with value: 0.5267193527142722.\u001b[0m\n",
      "\u001b[32m[I 2022-10-16 10:42:10,986]\u001b[0m Trial 91 finished with value: 0.5246025025872613 and parameters: {'learning_rate': 0.0751, 'max_depth': 9, 'n_estimators': 160}. Best is trial 76 with value: 0.5267193527142722.\u001b[0m\n",
      "\u001b[32m[I 2022-10-16 10:44:51,873]\u001b[0m Trial 92 finished with value: 0.524743625929062 and parameters: {'learning_rate': 0.050100000000000006, 'max_depth': 10, 'n_estimators': 180}. Best is trial 76 with value: 0.5267193527142722.\u001b[0m\n",
      "\u001b[32m[I 2022-10-16 10:45:59,723]\u001b[0m Trial 93 finished with value: 0.5196475052529244 and parameters: {'learning_rate': 0.0651, 'max_depth': 5, 'n_estimators': 170}. Best is trial 76 with value: 0.5267193527142722.\u001b[0m\n",
      "\u001b[32m[I 2022-10-16 10:49:52,015]\u001b[0m Trial 94 finished with value: 0.5208862545865087 and parameters: {'learning_rate': 0.07010000000000001, 'max_depth': 13, 'n_estimators': 190}. Best is trial 76 with value: 0.5267193527142722.\u001b[0m\n",
      "\u001b[32m[I 2022-10-16 10:55:29,921]\u001b[0m Trial 95 finished with value: 0.511885721453884 and parameters: {'learning_rate': 0.0651, 'max_depth': 17, 'n_estimators': 180}. Best is trial 76 with value: 0.5267193527142722.\u001b[0m\n",
      "\u001b[32m[I 2022-10-16 10:58:33,742]\u001b[0m Trial 96 finished with value: 0.5289930065543953 and parameters: {'learning_rate': 0.0551, 'max_depth': 10, 'n_estimators': 210}. Best is trial 96 with value: 0.5289930065543953.\u001b[0m\n",
      "\u001b[32m[I 2022-10-16 11:07:21,761]\u001b[0m Trial 97 finished with value: 0.5053156458744943 and parameters: {'learning_rate': 0.0551, 'max_depth': 23, 'n_estimators': 200}. Best is trial 96 with value: 0.5289930065543953.\u001b[0m\n",
      "\u001b[32m[I 2022-10-16 11:10:23,997]\u001b[0m Trial 98 finished with value: 0.5268761564273843 and parameters: {'learning_rate': 0.0601, 'max_depth': 10, 'n_estimators': 210}. Best is trial 96 with value: 0.5289930065543953.\u001b[0m\n",
      "\u001b[32m[I 2022-10-16 11:13:50,508]\u001b[0m Trial 99 finished with value: 0.5235519177094115 and parameters: {'learning_rate': 0.0601, 'max_depth': 11, 'n_estimators': 210}. Best is trial 96 with value: 0.5289930065543953.\u001b[0m\n"
     ]
    }
   ],
   "source": [
    "gb = optuna.create_study(direction=\"maximize\")\n",
    "gb.optimize(gradient_boosting, n_trials=n_trials)"
   ]
  },
  {
   "cell_type": "markdown",
   "metadata": {},
   "source": [
    "##### Análise de Desempenho"
   ]
  },
  {
   "cell_type": "code",
   "execution_count": null,
   "metadata": {},
   "outputs": [
    {
     "data": {
      "text/plain": [
       "{'learning_rate': 0.0551, 'max_depth': 10, 'n_estimators': 210}"
      ]
     },
     "execution_count": 212,
     "metadata": {},
     "output_type": "execute_result"
    }
   ],
   "source": [
    "gb.best_params"
   ]
  },
  {
   "cell_type": "code",
   "execution_count": null,
   "metadata": {},
   "outputs": [
    {
     "name": "stdout",
     "output_type": "stream",
     "text": [
      "Accuracy: 0.7632\n",
      "Recall: 0.6666\n",
      "Precision: 0.8263\n",
      "F1-Score: 0.7379\n",
      "ROC AUC Score: 0.8459\n",
      "Matriz de confusão no conjunto de teste:\n",
      "[[54838  8936]\n",
      " [21264 42510]]\n"
     ]
    },
    {
     "data": {
      "image/png": "[encoded data removed]",
      "text/plain": [
       "<Figure size 432x288 with 1 Axes>"
      ]
     },
     "metadata": {
      "needs_background": "light"
     },
     "output_type": "display_data"
    },
    {
     "data": {
      "image/png": "[encoded data removed]",
      "text/plain": [
       "<Figure size 432x288 with 1 Axes>"
      ]
     },
     "metadata": {
      "needs_background": "light"
     },
     "output_type": "display_data"
    }
   ],
   "source": [
    "gb_clf_trial = xgb.XGBClassifier(\n",
    "    learning_rate=gb.best_params[\"learning_rate\"],\n",
    "    max_depth=gb.best_params[\"max_depth\"],\n",
    "    n_estimators=gb.best_params[\"n_estimators\"],\n",
    "    random_state=42\n",
    ")\n",
    "\n",
    "gb_clf_trial.fit(X_train, y_train)\n",
    "\n",
    "y_pred_valid = gb_clf_trial.predict(X_valid)\n",
    "y_pred_valid_proba = gb_clf_trial.predict_proba(X_valid)\n",
    "\n",
    "print_metrics(y_valid, y_pred_valid, y_pred_valid_proba)"
   ]
  },
  {
   "cell_type": "markdown",
   "metadata": {},
   "source": [
    "### Modelo VotingClassifier"
   ]
  },
  {
   "cell_type": "markdown",
   "metadata": {},
   "source": [
    "Esse modelo utiliza diversos classificadores para treinar em cima do dataset e depois faz a votação para definir a classe final, baseado na maioria dos votos ou o argmax da soma das predições."
   ]
  },
  {
   "cell_type": "code",
   "execution_count": null,
   "metadata": {},
   "outputs": [],
   "source": [
    "# from sklearn.ensemble import VotingClassifier"
   ]
  },
  {
   "cell_type": "markdown",
   "metadata": {},
   "source": [
    "Descrição dos principais parâmetros:\n",
    "\n",
    "- estimators\n",
    "  - Lista de tuplas (string, estimador) que definem os classificadores a serem usados no VotingClassifier.\n",
    "\n",
    "- voting\n",
    "  - Possíveis valores: {‘hard’, ‘soft’}\n",
    "  - default=’hard’\n",
    "  - Se ‘hard’, usa o voto duro. \n",
    "  - Se ‘soft’, usa o voto suave, onde os valores de classificação são baseados na probabilidade estimada."
   ]
  },
  {
   "cell_type": "markdown",
   "metadata": {},
   "source": [
    "Para esse caso vamos utilizar os melhores parâmetros dos estimadores que usamos anteriormente, com exceção do SVM."
   ]
  },
  {
   "cell_type": "code",
   "execution_count": null,
   "metadata": {},
   "outputs": [],
   "source": [
    "# mlp_ens_voting_clf = MLPClassifier()\n",
    "# svc_ens_clf = SVC(probability=True)\n",
    "# gb_ens_clf = xgb.XGBClassifier()\n",
    "# rf_ens_clf = RandomForestClassifier()\n",
    "\n",
    "# ens_clf = VotingClassifier([('mlp', mlp_ens_voting_clf), ('svc', svc_ens_clf), ('gb', gb_ens_clf), ('rf', rf_ens_clf)], voting='soft')"
   ]
  },
  {
   "cell_type": "code",
   "execution_count": null,
   "metadata": {},
   "outputs": [],
   "source": [
    "# ens_clf.fit(X_train, y_train)"
   ]
  },
  {
   "cell_type": "code",
   "execution_count": null,
   "metadata": {},
   "outputs": [],
   "source": [
    "#y_pred_valid_ens_clf = ens_clf.predict(X_valid)"
   ]
  },
  {
   "cell_type": "code",
   "execution_count": null,
   "metadata": {},
   "outputs": [],
   "source": [
    "#y_pred_valid_proba_ens_clf = ens_clf.predict_proba(X_valid)"
   ]
  },
  {
   "cell_type": "code",
   "execution_count": null,
   "metadata": {},
   "outputs": [],
   "source": [
    "#print_metrics(y_valid, y_pred_valid_ens_clf, y_pred_valid_proba_ens_clf)"
   ]
  },
  {
   "cell_type": "markdown",
   "metadata": {},
   "source": [
    "## Comparação dos modelos"
   ]
  },
  {
   "cell_type": "markdown",
   "metadata": {},
   "source": [
    "Vamos fazer agora a comparação dos melhores modelos de cada algoritmo aplicando no conjunto de teste."
   ]
  },
  {
   "cell_type": "markdown",
   "metadata": {},
   "source": [
    "#### MLP"
   ]
  },
  {
   "cell_type": "code",
   "execution_count": null,
   "metadata": {},
   "outputs": [],
   "source": [
    "mlp_test = MLPClassifier(\n",
    "    hidden_layer_sizes=(mlp_study.best_params['first_layer_neurons'], mlp_study.best_params['second_layer_neurons']),\n",
    "    learning_rate_init=mlp_study.best_params['learning_rate_init'],\n",
    "    activation=mlp_study.best_params['activation'],\n",
    "    random_state=42\n",
    ")\n",
    "\n",
    "mlp_test.fit(X_train, y_train)"
   ]
  },
  {
   "cell_type": "code",
   "execution_count": null,
   "metadata": {},
   "outputs": [],
   "source": [
    "y_pred_test_mlp = mlp_test.predict(X_test)\n",
    "y_pred_test_proba_mlp = mlp_test.predict_proba(X_test)"
   ]
  },
  {
   "cell_type": "markdown",
   "metadata": {},
   "source": [
    "#### Random Forest"
   ]
  },
  {
   "cell_type": "code",
   "execution_count": null,
   "metadata": {},
   "outputs": [],
   "source": [
    "rnd_forest_test = RandomForestClassifier(\n",
    "    n_estimators=rf_study.best_params[\"n_estimators\"],\n",
    "    max_depth=rf_study.best_params[\"max_depth\"],\n",
    "    max_leaf_nodes=rf_study.best_params[\"max_leaf_nodes\"],\n",
    "    random_state=0,\n",
    "    n_jobs=-1\n",
    ")\n",
    "\n",
    "rnd_forest_test.fit(X_train, y_train)"
   ]
  },
  {
   "cell_type": "code",
   "execution_count": null,
   "metadata": {},
   "outputs": [],
   "source": [
    "y_pred_test_rf = rnd_forest_test.predict(X_test)\n",
    "y_pred_test_proba_rf = rnd_forest_test.predict_proba(X_test)"
   ]
  },
  {
   "cell_type": "markdown",
   "metadata": {},
   "source": [
    "#### SVM"
   ]
  },
  {
   "cell_type": "markdown",
   "metadata": {},
   "source": [
    "Como o SVM foi treinado anteriormente, usaremos apenas o conjunto de teste para fazer a predição."
   ]
  },
  {
   "cell_type": "code",
   "execution_count": null,
   "metadata": {},
   "outputs": [],
   "source": [
    "y_pred_test_svm = clf_svm.predict(X_test)\n",
    "y_pred_test_proba_svm = clf_svm.predict_proba(X_test)"
   ]
  },
  {
   "cell_type": "markdown",
   "metadata": {},
   "source": [
    "#### Ensemble de MLP"
   ]
  },
  {
   "cell_type": "markdown",
   "metadata": {},
   "source": [
    "Igualmente ao SVM, o Ensemble de MLP foi treinado anteriormente, então usaremos apenas o conjunto de teste para fazer a predição."
   ]
  },
  {
   "cell_type": "code",
   "execution_count": null,
   "metadata": {},
   "outputs": [],
   "source": [
    "y_pred_test_ens_mlp = mlp_ens_clf.predict(X_test)\n",
    "y_pred_test_proba_ens_mlp = mlp_ens_clf.predict_proba(X_test)"
   ]
  },
  {
   "cell_type": "markdown",
   "metadata": {},
   "source": [
    "#### AdaBoost"
   ]
  },
  {
   "cell_type": "markdown",
   "metadata": {},
   "source": [
    "O AdaBoost foi treinado anteriormente, então usaremos apenas o conjunto de teste para fazer a predição."
   ]
  },
  {
   "cell_type": "code",
   "execution_count": null,
   "metadata": {},
   "outputs": [
    {
     "ename": "NameError",
     "evalue": "name 'clf_adaBoost' is not defined",
     "output_type": "error",
     "traceback": [
      "\u001b[1;31m---------------------------------------------------------------------------\u001b[0m",
      "\u001b[1;31mNameError\u001b[0m                                 Traceback (most recent call last)",
      "\u001b[1;32mc:\\Users\\jonat\\Documents\\UFPE\\redes-neurais\\projeto_redes_neurais.ipynb Célula: 167\u001b[0m in \u001b[0;36m<cell line: 1>\u001b[1;34m()\u001b[0m\n\u001b[1;32m----> <a href='vscode-notebook-cell:/c%3A/Users/jonat/Documents/UFPE/redes-neurais/projeto_redes_neurais.ipynb#Z1013sZmlsZQ%3D%3D?line=0'>1</a>\u001b[0m y_pred_test_adaBoost \u001b[39m=\u001b[39m clf_adaBoost\u001b[39m.\u001b[39mpredict(X_test)\n\u001b[0;32m      <a href='vscode-notebook-cell:/c%3A/Users/jonat/Documents/UFPE/redes-neurais/projeto_redes_neurais.ipynb#Z1013sZmlsZQ%3D%3D?line=1'>2</a>\u001b[0m y_pred_test_proba_adaBoost \u001b[39m=\u001b[39m clf_adaBoost\u001b[39m.\u001b[39mpredict_proba(X_test)\n",
      "\u001b[1;31mNameError\u001b[0m: name 'clf_adaBoost' is not defined"
     ]
    }
   ],
   "source": [
    "y_pred_test_adaBoost = clf_adaBoost.predict(X_test)\n",
    "y_pred_test_proba_adaBoost = clf_adaBoost.predict_proba(X_test)"
   ]
  },
  {
   "cell_type": "markdown",
   "metadata": {},
   "source": [
    "#### XGBoost"
   ]
  },
  {
   "cell_type": "code",
   "execution_count": null,
   "metadata": {},
   "outputs": [],
   "source": [
    "gb_clf_test = xgb.XGBClassifier(\n",
    "    learning_rate=gb.best_params[\"learning_rate\"],\n",
    "    max_depth=gb.best_params[\"max_depth\"],\n",
    "    n_estimators=gb.best_params[\"n_estimators\"],\n",
    "    random_state=42\n",
    ")\n",
    "\n",
    "gb_clf_test.fit(X_train, y_train)"
   ]
  },
  {
   "cell_type": "code",
   "execution_count": null,
   "metadata": {},
   "outputs": [],
   "source": [
    "y_pred_test_gb = gb_clf_test.predict(X_test)\n",
    "y_pred_test_proba_gb = gb_clf_test.predict_proba(X_test)"
   ]
  },
  {
   "cell_type": "markdown",
   "metadata": {},
   "source": [
    "#### VotingClassifier"
   ]
  },
  {
   "cell_type": "markdown",
   "metadata": {},
   "source": [
    "O VotingClassifier foi treinado anteriormente, então usaremos apenas o conjunto de teste para fazer a predição."
   ]
  },
  {
   "cell_type": "code",
   "execution_count": null,
   "metadata": {},
   "outputs": [],
   "source": [
    "# y_pred_test_ens_clf = ens_clf.predict(X_test)\n",
    "# y_pred_test_proba_ens_clf = ens_clf.predict_proba(X_test)"
   ]
  },
  {
   "cell_type": "markdown",
   "metadata": {},
   "source": [
    "### Exibição dos resultados"
   ]
  },
  {
   "cell_type": "code",
   "execution_count": null,
   "metadata": {},
   "outputs": [
    {
     "name": "stdout",
     "output_type": "stream",
     "text": [
      "------MLP------\n"
     ]
    },
    {
     "ename": "NameError",
     "evalue": "name 'print_metrics' is not defined",
     "output_type": "error",
     "traceback": [
      "\u001b[1;31m---------------------------------------------------------------------------\u001b[0m",
      "\u001b[1;31mNameError\u001b[0m                                 Traceback (most recent call last)",
      "\u001b[1;32mc:\\Users\\jonat\\Documents\\UFPE\\redes-neurais\\projeto_redes_neurais.ipynb Célula: 175\u001b[0m in \u001b[0;36m<cell line: 2>\u001b[1;34m()\u001b[0m\n\u001b[0;32m      <a href='vscode-notebook-cell:/c%3A/Users/jonat/Documents/UFPE/redes-neurais/projeto_redes_neurais.ipynb#Y565sZmlsZQ%3D%3D?line=0'>1</a>\u001b[0m \u001b[39mprint\u001b[39m(\u001b[39m\"\u001b[39m\u001b[39m------MLP------\u001b[39m\u001b[39m\"\u001b[39m)\n\u001b[1;32m----> <a href='vscode-notebook-cell:/c%3A/Users/jonat/Documents/UFPE/redes-neurais/projeto_redes_neurais.ipynb#Y565sZmlsZQ%3D%3D?line=1'>2</a>\u001b[0m print_metrics(y_test, y_pred_test_mlp, y_pred_test_proba_mlp)\n\u001b[0;32m      <a href='vscode-notebook-cell:/c%3A/Users/jonat/Documents/UFPE/redes-neurais/projeto_redes_neurais.ipynb#Y565sZmlsZQ%3D%3D?line=3'>4</a>\u001b[0m \u001b[39mprint\u001b[39m(\u001b[39m\"\u001b[39m\u001b[39m------SVM------\u001b[39m\u001b[39m\"\u001b[39m)\n\u001b[0;32m      <a href='vscode-notebook-cell:/c%3A/Users/jonat/Documents/UFPE/redes-neurais/projeto_redes_neurais.ipynb#Y565sZmlsZQ%3D%3D?line=4'>5</a>\u001b[0m print_metrics(y_test, y_test_pred_svm, y_test_proba_svm)\n",
      "\u001b[1;31mNameError\u001b[0m: name 'print_metrics' is not defined"
     ]
    }
   ],
   "source": [
    "print(\"------MLP------\")\n",
    "print_metrics(y_test, y_pred_test_mlp, y_pred_test_proba_mlp)\n",
    "\n",
    "print(\"------SVM------\")\n",
    "print_metrics(y_test, y_pred_test_svm, y_pred_test_proba_svm)\n",
    "\n",
    "print(\"------Random Forest------\")\n",
    "print_metrics(y_test, y_pred_test_rf, y_pred_test_proba_rf)\n",
    "\n",
    "print(\"------Ensemble MLP------\")\n",
    "print_metrics(y_test, y_pred_test_ens_mlp, y_pred_test_proba_ens_mlp)\n",
    "\n",
    "print(\"------Adaboost------\")\n",
    "print_metrics(y_test, y_pred_test_adaBoost, y_pred_test_proba_adaBoost)\n",
    "\n",
    "print(\"------Gradient Boosting------\")\n",
    "print_metrics(y_test, y_pred_test_gb, y_pred_test_proba_gb)"
   ]
  },
  {
   "cell_type": "markdown",
   "metadata": {},
   "source": [
    "# Anexos"
   ]
  },
  {
   "cell_type": "markdown",
   "metadata": {
    "id": "cAZM1rGKHb-7"
   },
   "source": [
    "Descrição dos parâmetros:\n",
    "\n",
    "- n_estimators\n",
    "  - O número de árvores na floresta.\n"
   ]
  },
  {
   "cell_type": "code",
   "execution_count": null,
   "metadata": {},
   "outputs": [
    {
     "name": "stdout",
     "output_type": "stream",
     "text": [
      "Requirement already satisfied: tensorflow in c:\\users\\jonat\\anaconda3\\lib\\site-packages (2.10.0)\n",
      "Requirement already satisfied: absl-py>=1.0.0 in c:\\users\\jonat\\anaconda3\\lib\\site-packages (from tensorflow) (1.2.0)\n",
      "Requirement already satisfied: packaging in c:\\users\\jonat\\anaconda3\\lib\\site-packages (from tensorflow) (21.3)\n",
      "Requirement already satisfied: libclang>=13.0.0 in c:\\users\\jonat\\anaconda3\\lib\\site-packages (from tensorflow) (14.0.6)\n",
      "Requirement already satisfied: termcolor>=1.1.0 in c:\\users\\jonat\\anaconda3\\lib\\site-packages (from tensorflow) (2.0.1)\n",
      "Requirement already satisfied: flatbuffers>=2.0 in c:\\users\\jonat\\anaconda3\\lib\\site-packages (from tensorflow) (2.0.7)\n",
      "Requirement already satisfied: h5py>=2.9.0 in c:\\users\\jonat\\anaconda3\\lib\\site-packages (from tensorflow) (3.6.0)\n",
      "Requirement already satisfied: grpcio<2.0,>=1.24.3 in c:\\users\\jonat\\anaconda3\\lib\\site-packages (from tensorflow) (1.42.0)\n",
      "Requirement already satisfied: google-pasta>=0.1.1 in c:\\users\\jonat\\anaconda3\\lib\\site-packages (from tensorflow) (0.2.0)\n",
      "Requirement already satisfied: astunparse>=1.6.0 in c:\\users\\jonat\\anaconda3\\lib\\site-packages (from tensorflow) (1.6.3)\n",
      "Requirement already satisfied: keras<2.11,>=2.10.0 in c:\\users\\jonat\\anaconda3\\lib\\site-packages (from tensorflow) (2.10.0)\n",
      "Requirement already satisfied: numpy>=1.20 in c:\\users\\jonat\\anaconda3\\lib\\site-packages (from tensorflow) (1.21.5)\n",
      "Requirement already satisfied: tensorflow-io-gcs-filesystem>=0.23.1 in c:\\users\\jonat\\anaconda3\\lib\\site-packages (from tensorflow) (0.27.0)\n",
      "Requirement already satisfied: six>=1.12.0 in c:\\users\\jonat\\anaconda3\\lib\\site-packages (from tensorflow) (1.16.0)\n",
      "Requirement already satisfied: wrapt>=1.11.0 in c:\\users\\jonat\\anaconda3\\lib\\site-packages (from tensorflow) (1.12.1)\n",
      "Requirement already satisfied: tensorboard<2.11,>=2.10 in c:\\users\\jonat\\anaconda3\\lib\\site-packages (from tensorflow) (2.10.0)\n",
      "Requirement already satisfied: typing-extensions>=3.6.6 in c:\\users\\jonat\\anaconda3\\lib\\site-packages (from tensorflow) (4.1.1)\n",
      "Requirement already satisfied: gast<=0.4.0,>=0.2.1 in c:\\users\\jonat\\anaconda3\\lib\\site-packages (from tensorflow) (0.4.0)\n",
      "Requirement already satisfied: opt-einsum>=2.3.2 in c:\\users\\jonat\\anaconda3\\lib\\site-packages (from tensorflow) (3.3.0)\n",
      "Requirement already satisfied: protobuf<3.20,>=3.9.2 in c:\\users\\jonat\\anaconda3\\lib\\site-packages (from tensorflow) (3.19.1)\n",
      "Requirement already satisfied: tensorflow-estimator<2.11,>=2.10.0 in c:\\users\\jonat\\anaconda3\\lib\\site-packages (from tensorflow) (2.10.0)\n",
      "Requirement already satisfied: keras-preprocessing>=1.1.1 in c:\\users\\jonat\\anaconda3\\lib\\site-packages (from tensorflow) (1.1.2)\n",
      "Requirement already satisfied: setuptools in c:\\users\\jonat\\anaconda3\\lib\\site-packages (from tensorflow) (61.2.0)\n",
      "Requirement already satisfied: wheel<1.0,>=0.23.0 in c:\\users\\jonat\\anaconda3\\lib\\site-packages (from astunparse>=1.6.0->tensorflow) (0.37.1)\n",
      "Requirement already satisfied: requests<3,>=2.21.0 in c:\\users\\jonat\\anaconda3\\lib\\site-packages (from tensorboard<2.11,>=2.10->tensorflow) (2.27.1)\n",
      "Requirement already satisfied: google-auth-oauthlib<0.5,>=0.4.1 in c:\\users\\jonat\\anaconda3\\lib\\site-packages (from tensorboard<2.11,>=2.10->tensorflow) (0.4.6)\n",
      "Requirement already satisfied: tensorboard-plugin-wit>=1.6.0 in c:\\users\\jonat\\anaconda3\\lib\\site-packages (from tensorboard<2.11,>=2.10->tensorflow) (1.8.1)\n",
      "Requirement already satisfied: tensorboard-data-server<0.7.0,>=0.6.0 in c:\\users\\jonat\\anaconda3\\lib\\site-packages (from tensorboard<2.11,>=2.10->tensorflow) (0.6.1)\n",
      "Requirement already satisfied: werkzeug>=1.0.1 in c:\\users\\jonat\\anaconda3\\lib\\site-packages (from tensorboard<2.11,>=2.10->tensorflow) (2.0.3)\n",
      "Requirement already satisfied: google-auth<3,>=1.6.3 in c:\\users\\jonat\\anaconda3\\lib\\site-packages (from tensorboard<2.11,>=2.10->tensorflow) (1.33.0)\n",
      "Requirement already satisfied: markdown>=2.6.8 in c:\\users\\jonat\\anaconda3\\lib\\site-packages (from tensorboard<2.11,>=2.10->tensorflow) (3.3.4)\n",
      "Requirement already satisfied: pyasn1-modules>=0.2.1 in c:\\users\\jonat\\anaconda3\\lib\\site-packages (from google-auth<3,>=1.6.3->tensorboard<2.11,>=2.10->tensorflow) (0.2.8)\n",
      "Requirement already satisfied: rsa<5,>=3.1.4 in c:\\users\\jonat\\anaconda3\\lib\\site-packages (from google-auth<3,>=1.6.3->tensorboard<2.11,>=2.10->tensorflow) (4.7.2)\n",
      "Requirement already satisfied: cachetools<5.0,>=2.0.0 in c:\\users\\jonat\\anaconda3\\lib\\site-packages (from google-auth<3,>=1.6.3->tensorboard<2.11,>=2.10->tensorflow) (4.2.2)\n",
      "Requirement already satisfied: requests-oauthlib>=0.7.0 in c:\\users\\jonat\\anaconda3\\lib\\site-packages (from google-auth-oauthlib<0.5,>=0.4.1->tensorboard<2.11,>=2.10->tensorflow) (1.3.1)\n",
      "Requirement already satisfied: pyasn1<0.5.0,>=0.4.6 in c:\\users\\jonat\\anaconda3\\lib\\site-packages (from pyasn1-modules>=0.2.1->google-auth<3,>=1.6.3->tensorboard<2.11,>=2.10->tensorflow) (0.4.8)\n",
      "Requirement already satisfied: certifi>=2017.4.17 in c:\\users\\jonat\\anaconda3\\lib\\site-packages (from requests<3,>=2.21.0->tensorboard<2.11,>=2.10->tensorflow) (2021.10.8)\n",
      "Requirement already satisfied: urllib3<1.27,>=1.21.1 in c:\\users\\jonat\\anaconda3\\lib\\site-packages (from requests<3,>=2.21.0->tensorboard<2.11,>=2.10->tensorflow) (1.26.9)\n",
      "Requirement already satisfied: charset-normalizer~=2.0.0 in c:\\users\\jonat\\anaconda3\\lib\\site-packages (from requests<3,>=2.21.0->tensorboard<2.11,>=2.10->tensorflow) (2.0.4)\n",
      "Requirement already satisfied: idna<4,>=2.5 in c:\\users\\jonat\\anaconda3\\lib\\site-packages (from requests<3,>=2.21.0->tensorboard<2.11,>=2.10->tensorflow) (3.3)\n",
      "Requirement already satisfied: oauthlib>=3.0.0 in c:\\users\\jonat\\anaconda3\\lib\\site-packages (from requests-oauthlib>=0.7.0->google-auth-oauthlib<0.5,>=0.4.1->tensorboard<2.11,>=2.10->tensorflow) (3.2.1)\n",
      "Requirement already satisfied: pyparsing!=3.0.5,>=2.0.2 in c:\\users\\jonat\\anaconda3\\lib\\site-packages (from packaging->tensorflow) (3.0.4)\n",
      "Note: you may need to restart the kernel to use updated packages.\n"
     ]
    }
   ],
   "source": [
    "%pip install --user tensorflow"
   ]
  },
  {
   "cell_type": "code",
   "execution_count": null,
   "metadata": {
    "id": "sHmEuyCIEv7O"
   },
   "outputs": [],
   "source": [
    "from keras.wrappers.scikit_learn import KerasClassifier\n",
    "\n",
    "from keras.models import Sequential\n",
    "from keras.layers import Dense\n",
    "from keras.callbacks import EarlyStopping"
   ]
  },
  {
   "cell_type": "markdown",
   "metadata": {
    "id": "2dNd5Uvg4fjC"
   },
   "source": [
    "#### 1ª Configuração"
   ]
  },
  {
   "cell_type": "markdown",
   "metadata": {
    "id": "6HDyP542CdtN"
   },
   "source": [
    "A primeira configuração é utilizada com os parâmetros padrões do Sklearn.\n",
    "\n",
    "Segue abaixo a lista dos principais hiperparâmetros:\n",
    "\n",
    "- n_"
   ]
  },
  {
   "cell_type": "code",
   "execution_count": null,
   "metadata": {},
   "outputs": [],
   "source": [
    "def create_sklearn_compatible_model():\n",
    "    input_dim = X_train.shape[1]\n",
    "    \n",
    "    model = Sequential()\n",
    "    model.add(Dense(20, activation='tanh', input_dim=input_dim))\n",
    "    model.add(Dense(1, activation='sigmoid'))\n",
    "    model.compile(optimizer='adam', loss='mean_squared_error')\n",
    "    return model"
   ]
  },
  {
   "cell_type": "code",
   "execution_count": null,
   "metadata": {
    "id": "kIs_MMjkhsU5"
   },
   "outputs": [
    {
     "name": "stderr",
     "output_type": "stream",
     "text": [
      "C:\\Users\\jonat\\AppData\\Local\\Temp\\ipykernel_20704\\3075366852.py:1: DeprecationWarning: KerasClassifier is deprecated, use Sci-Keras (https://github.com/adriangb/scikeras) instead. See https://www.adriangb.com/scikeras/stable/migration.html for help migrating.\n",
      "  clf_mlp = KerasClassifier(build_fn=create_sklearn_compatible_model,\n"
     ]
    }
   ],
   "source": [
    "clf_mlp = KerasClassifier(build_fn=create_sklearn_compatible_model, \n",
    "                          batch_size=64, epochs=100,\n",
    "                          verbose=0)\n"
   ]
  },
  {
   "cell_type": "code",
   "execution_count": null,
   "metadata": {
    "colab": {
     "base_uri": "https://localhost:8080/"
    },
    "id": "bluXpSrShs9A",
    "outputId": "cfb3b8d7-8054-43b4-9535-50c2da3d924a"
   },
   "outputs": [
    {
     "name": "stdout",
     "output_type": "stream",
     "text": [
      "CPU times: total: 2min 18s\n",
      "Wall time: 4min 59s\n"
     ]
    },
    {
     "data": {
      "text/plain": [
       "<keras.callbacks.History at 0x248e7a37f40>"
      ]
     },
     "execution_count": 97,
     "metadata": {},
     "output_type": "execute_result"
    }
   ],
   "source": [
    "%%time\n",
    "clf_mlp.fit(X_train, y_train)"
   ]
  },
  {
   "cell_type": "code",
   "execution_count": null,
   "metadata": {
    "id": "yb7fjHhZhtPs"
   },
   "outputs": [
    {
     "name": "stdout",
     "output_type": "stream",
     "text": [
      "3986/3986 [==============================] - 3s 655us/step\n"
     ]
    }
   ],
   "source": [
    "y_pred_mlp = clf_mlp.predict(X_valid)"
   ]
  },
  {
   "cell_type": "code",
   "execution_count": null,
   "metadata": {
    "id": "HGTVUGv0CJ07"
   },
   "outputs": [
    {
     "name": "stdout",
     "output_type": "stream",
     "text": [
      "3986/3986 [==============================] - 2s 614us/step\n"
     ]
    }
   ],
   "source": [
    "y_proba_mlp = clf_mlp.predict_proba(X_valid)"
   ]
  },
  {
   "cell_type": "markdown",
   "metadata": {
    "id": "s1Z1S6I96qLQ"
   },
   "source": [
    "##### Análise de Desempenho"
   ]
  },
  {
   "cell_type": "code",
   "execution_count": null,
   "metadata": {
    "colab": {
     "base_uri": "https://localhost:8080/"
    },
    "id": "q0smRYcg6rsc",
    "outputId": "d80c2163-462c-4353-d3ef-660befa28a75"
   },
   "outputs": [
    {
     "name": "stdout",
     "output_type": "stream",
     "text": [
      "Métricas da 1ª configuração do Random Forest:\n",
      "\n",
      "Accuracy: 0.7325\n",
      "Recall: 0.6667\n",
      "Precision: 0.7678\n",
      "F1-Score: 0.7136\n",
      "ROC AUC Score: 0.8159\n",
      "Matriz de confusão no conjunto de teste:\n",
      "[[50914 12860]\n",
      " [21259 42515]]\n"
     ]
    },
    {
     "data": {
      "image/png": "[encoded data removed]",
      "text/plain": [
       "<Figure size 432x288 with 1 Axes>"
      ]
     },
     "metadata": {
      "needs_background": "light"
     },
     "output_type": "display_data"
    },
    {
     "data": {
      "image/png": "[encoded data removed]",
      "text/plain": [
       "<Figure size 432x288 with 1 Axes>"
      ]
     },
     "metadata": {
      "needs_background": "light"
     },
     "output_type": "display_data"
    }
   ],
   "source": [
    "print('Métricas da 1ª configuração do Random Forest:\\n')\n",
    "print_metrics(y_valid, y_pred_mlp, y_proba_mlp)"
   ]
  },
  {
   "cell_type": "markdown",
   "metadata": {
    "id": "5pVdid7yEMS8"
   },
   "source": [
    "#### 2ª Configuração"
   ]
  },
  {
   "cell_type": "markdown",
   "metadata": {
    "id": "b7nArA2JE1Zk"
   },
   "source": [
    "Para a segunda configuração alteramos os seguintes parâmetros:"
   ]
  },
  {
   "cell_type": "code",
   "execution_count": null,
   "metadata": {
    "id": "-X1R61biD1G4"
   },
   "outputs": [],
   "source": []
  },
  {
   "cell_type": "markdown",
   "metadata": {},
   "source": [
    "#### Random Forest usando K-fold Cross Validation"
   ]
  },
  {
   "cell_type": "markdown",
   "metadata": {},
   "source": [
    "Não teremos mais isso"
   ]
  },
  {
   "cell_type": "code",
   "execution_count": null,
   "metadata": {},
   "outputs": [],
   "source": [
    "from sklearn.model_selection import KFold\n",
    "\n",
    "scores = []\n",
    "# cv = KFold(n_splits=10, random_state=42, shuffle=True)\n",
    "kfold = KFold(n_splits=3, shuffle=True)\n",
    "\n",
    "# for train_index, test_index in cv.split(X_train):\n",
    "#     print(\"TRAIN:\", train_index, \"TEST:\", test_index, \"LEN:\", X_train.loc[255096:255097])\n",
    "#     X_train2, X_test2, y_train2, y_test2 = X_train[train_index], X_train[test_index], y_train[train_index], y_train[test_index]\n",
    "#     clf_rf.fit(X_train2, y_train2)\n",
    "#     scores.append(clf_rf.score(X_test2, y_test2))"
   ]
  },
  {
   "cell_type": "code",
   "execution_count": null,
   "metadata": {},
   "outputs": [
    {
     "data": {
      "text/plain": [
       "array([0.76110451, 0.75957569, 0.76192492])"
      ]
     },
     "execution_count": 102,
     "metadata": {},
     "output_type": "execute_result"
    }
   ],
   "source": [
    "from sklearn.model_selection import cross_val_score\n",
    "\n",
    "cross_val_score(clf_rf, X_train, y_train, cv=kfold, scoring='accuracy')"
   ]
  }
 ],
 "metadata": {
  "colab": {
   "collapsed_sections": [],
   "provenance": []
  },
  "kernelspec": {
   "display_name": "Python 3",
   "language": "python",
   "name": "python3"
  },
  "language_info": {
   "codemirror_mode": {
    "name": "ipython",
    "version": 3
   },
   "file_extension": ".py",
   "mimetype": "text/x-python",
   "name": "python",
   "nbconvert_exporter": "python",
   "pygments_lexer": "ipython3",
   "version": "3.9.12"
  },
  "vscode": {
   "interpreter": {
    "hash": "0a68ab044c6ea367198d7b58f0f8352272d5267d2d2c131306c104f6e9ede3d6"
   }
  }
 },
 "nbformat": 4,
 "nbformat_minor": 1
}
